{
 "cells": [
  {
   "cell_type": "markdown",
   "metadata": {},
   "source": [
    "# Day 18: Operation Order\n",
    "\n",
    "As you look out the window and notice a heavily-forested continent slowly appear over the horizon, you are interrupted by the child sitting next to you. They're curious if you could help them with their math homework.\n",
    "\n",
    "Unfortunately, it seems like this \"math\" follows different rules than you remember.\n",
    "\n",
    "The homework (your puzzle input) consists of a series of expressions that consist of addition (+), multiplication (*), and parentheses ((...)). Just like normal math, parentheses indicate that the expression inside must be evaluated before it can be used by the surrounding expression. Addition still finds the sum of the numbers on both sides of the operator, and multiplication still finds the product.\n",
    "\n",
    "However, the rules of operator precedence have changed. Rather than evaluating multiplication before addition, the operators have the same precedence, and are evaluated left-to-right regardless of the order in which they appear.\n",
    "\n",
    "For example, the steps to evaluate the expression 1 + 2 * 3 + 4 * 5 + 6 are as follows:\n",
    "\n",
    "1 + 2 * 3 + 4 * 5 + 6\n",
    "  3   * 3 + 4 * 5 + 6\n",
    "      9   + 4 * 5 + 6\n",
    "         13   * 5 + 6\n",
    "             65   + 6\n",
    "                 71\n",
    "\n",
    "Parentheses can override this order; for example, here is what happens if parentheses are added to form 1 + (2 * 3) + (4 * (5 + 6)):\n",
    "\n",
    "1 + (2 * 3) + (4 * (5 + 6))\n",
    "1 +    6    + (4 * (5 + 6))\n",
    "     7      + (4 * (5 + 6))\n",
    "     7      + (4 *   11   )\n",
    "     7      +     44\n",
    "            51\n",
    "\n",
    "Here are a few more examples:\n",
    "\n",
    "    2 * 3 + (4 * 5) becomes 26.\n",
    "    5 + (8 * 3 + 9 + 3 * 4 * 3) becomes 437.\n",
    "    5 * 9 * (7 * 3 * 3 + 9 * 3 + (8 + 6 * 4)) becomes 12240.\n",
    "    ((2 + 4 * 9) * (6 + 9 * 8 + 6) + 6) + 2 + 4 * 2 becomes 13632.\n",
    "\n",
    "Before you can help with the homework, you need to understand it yourself. Evaluate the expression on each line of the homework; what is the sum of the resulting values?"
   ]
  },
  {
   "cell_type": "code",
   "execution_count": 1,
   "metadata": {},
   "outputs": [],
   "source": [
    "# Python imports\n",
    "from dataclasses import dataclass\n",
    "from operator import mul, add\n",
    "from pathlib import Path\n",
    "from typing import List, Optional"
   ]
  },
  {
   "cell_type": "markdown",
   "metadata": {},
   "source": [
    "We load the input data by stripping out any confusing whitespace."
   ]
  },
  {
   "cell_type": "code",
   "execution_count": 2,
   "metadata": {},
   "outputs": [],
   "source": [
    "def load_data(fpath):\n",
    "    with Path(fpath).open(\"r\") as ifh:\n",
    "        return [_.strip().replace(\" \",\"\") for _ in ifh.readlines()]"
   ]
  },
  {
   "cell_type": "markdown",
   "metadata": {},
   "source": [
    "To solve the first puzzle, we read each line from left to right, and keep a running total. We update that total with each successive operation - whether it's addition or multiplication.\n",
    "\n",
    "To handle parentheses, we recurse into the same function with the remainder of the line that's left to be parsed, when we hit a left parenthesis `(`. We pop back up when we hit a right parenthesis `)` (or the end of the line) with the running total and the remainder of the line."
   ]
  },
  {
   "cell_type": "code",
   "execution_count": 3,
   "metadata": {},
   "outputs": [],
   "source": [
    "def parse_line(line):\n",
    "    tot = 0\n",
    "    op = None\n",
    "    line = list(line)\n",
    "    while len(line):\n",
    "        char = line.pop(0)\n",
    "        if char == \"(\":\n",
    "            val, line = parse_line(line)\n",
    "            if tot == 0:\n",
    "                tot = val\n",
    "            else:\n",
    "                tot = op(tot, val)\n",
    "        elif char == \")\":\n",
    "            return tot, line\n",
    "        elif char == \"+\":\n",
    "            op = add\n",
    "        elif char == \"*\":\n",
    "            op = mul\n",
    "        elif char.isdigit():\n",
    "            if tot == 0:\n",
    "                tot = int(char)\n",
    "            else:\n",
    "                tot = op(tot, int(char))\n",
    "    return tot, line"
   ]
  },
  {
   "cell_type": "markdown",
   "metadata": {},
   "source": [
    "Testing this out on the test data:"
   ]
  },
  {
   "cell_type": "code",
   "execution_count": 4,
   "metadata": {},
   "outputs": [
    {
     "name": "stdout",
     "output_type": "stream",
     "text": [
      "2*3+(4*5)\n",
      "(26, [])\n",
      "5+(8*3+9+3*4*3)\n",
      "(437, [])\n",
      "5*9*(7*3*3+9*3+(8+6*4))\n",
      "(12240, [])\n",
      "((2+4*9)*(6+9*8+6)+6)+2+4*2\n",
      "(13632, [])\n"
     ]
    }
   ],
   "source": [
    "lines = load_data(\"day18_test.txt\")\n",
    "for line in lines:\n",
    "    print(line)\n",
    "    print(parse_line(line))"
   ]
  },
  {
   "cell_type": "markdown",
   "metadata": {},
   "source": [
    "It seems to work, so let's sum the results for the first puzzle:"
   ]
  },
  {
   "cell_type": "code",
   "execution_count": 5,
   "metadata": {},
   "outputs": [
    {
     "data": {
      "text/plain": [
       "26335"
      ]
     },
     "execution_count": 5,
     "metadata": {},
     "output_type": "execute_result"
    }
   ],
   "source": [
    "lines = load_data(\"day18_test.txt\")\n",
    "sum(parse_line(line)[0] for line in lines)"
   ]
  },
  {
   "cell_type": "markdown",
   "metadata": {},
   "source": [
    "And now the second puzzle:"
   ]
  },
  {
   "cell_type": "code",
   "execution_count": 6,
   "metadata": {},
   "outputs": [
    {
     "data": {
      "text/plain": [
       "3647606140187"
      ]
     },
     "execution_count": 6,
     "metadata": {},
     "output_type": "execute_result"
    }
   ],
   "source": [
    "lines = load_data(\"day18_data.txt\")\n",
    "sum(parse_line(line)[0] for line in lines)"
   ]
  },
  {
   "cell_type": "markdown",
   "metadata": {},
   "source": [
    "## Part Two\n",
    "\n",
    "You manage to answer the child's questions and they finish part 1 of their homework, but get stuck when they reach the next section: advanced math.\n",
    "\n",
    "Now, addition and multiplication have different precedence levels, but they're not the ones you're familiar with. Instead, addition is evaluated before multiplication.\n",
    "\n",
    "For example, the steps to evaluate the expression 1 + 2 * 3 + 4 * 5 + 6 are now as follows:\n",
    "\n",
    "1 + 2 * 3 + 4 * 5 + 6\n",
    "  3   * 3 + 4 * 5 + 6\n",
    "  3   *   7   * 5 + 6\n",
    "  3   *   7   *  11\n",
    "     21       *  11\n",
    "         231\n",
    "\n",
    "Here are the other examples from above:\n",
    "\n",
    "    1 + (2 * 3) + (4 * (5 + 6)) still becomes 51.\n",
    "    2 * 3 + (4 * 5) becomes 46.\n",
    "    5 + (8 * 3 + 9 + 3 * 4 * 3) becomes 1445.\n",
    "    5 * 9 * (7 * 3 * 3 + 9 * 3 + (8 + 6 * 4)) becomes 669060.\n",
    "    ((2 + 4 * 9) * (6 + 9 * 8 + 6) + 6) + 2 + 4 * 2 becomes 23340.\n",
    "\n",
    "What do you get if you add up the results of evaluating the homework problems using these new rules?"
   ]
  },
  {
   "cell_type": "markdown",
   "metadata": {},
   "source": [
    "I suspect that what the puzzle setter wants us to do is build a grammar parser that can handle parentheses and multiplications, and manage the swapping of priorities. However, that's quite hard and defeated me in the time I was willing to spend.\n",
    "\n",
    "In Python we can hack together a solution that uses Python's own grammar-parsing to cope with parentheses (the bit that beat me), so long as we can swap multiplication and addition. Swapping operations is quite straightforward - we implement a class `MyInt` with those two operations reversed:"
   ]
  },
  {
   "cell_type": "code",
   "execution_count": 7,
   "metadata": {},
   "outputs": [],
   "source": [
    "class MyInt:\n",
    "    \n",
    "    def __init__(self, val: int):\n",
    "        self.val = val\n",
    "        \n",
    "    def __mul__(self, val):\n",
    "        return MyInt(int(self.val) + int(val))\n",
    "    \n",
    "    def __add__(self, val):\n",
    "        return MyInt(int(self.val) * int(val))\n",
    "    \n",
    "    def __int__(self):\n",
    "        return int(self.val)\n",
    "    \n",
    "    def __str__(self):\n",
    "        return f\"{self.val}\"\n",
    "    \n",
    "    def __repr__(self):\n",
    "        return f\"{self.val}\""
   ]
  },
  {
   "cell_type": "markdown",
   "metadata": {},
   "source": [
    "Now multiplication is addition:"
   ]
  },
  {
   "cell_type": "code",
   "execution_count": 8,
   "metadata": {},
   "outputs": [
    {
     "data": {
      "text/plain": [
       "24"
      ]
     },
     "execution_count": 8,
     "metadata": {},
     "output_type": "execute_result"
    }
   ],
   "source": [
    "MyInt(9) * MyInt(15)"
   ]
  },
  {
   "cell_type": "markdown",
   "metadata": {},
   "source": [
    "And addition is multiplication:"
   ]
  },
  {
   "cell_type": "code",
   "execution_count": 9,
   "metadata": {},
   "outputs": [
    {
     "data": {
      "text/plain": [
       "18"
      ]
     },
     "execution_count": 9,
     "metadata": {},
     "output_type": "execute_result"
    }
   ],
   "source": [
    "MyInt(9) + 2"
   ]
  },
  {
   "cell_type": "markdown",
   "metadata": {},
   "source": [
    "But we need to convert all the numbers in the input line into `MyInt` instances - and then we can evaluate the line with `eval()` (which is a security risk but, hey!)"
   ]
  },
  {
   "cell_type": "code",
   "execution_count": 10,
   "metadata": {},
   "outputs": [],
   "source": [
    "def eval_line(line):\n",
    "    newline = []\n",
    "    for char in line.strip().replace(\" \",\"\"):\n",
    "        if char.isdigit():\n",
    "            newline.append(f\"MyInt({char})\")\n",
    "        elif char == \"*\":\n",
    "            newline.append(\"+\")\n",
    "        elif char == \"+\":\n",
    "            newline.append(\"*\")\n",
    "        else:\n",
    "            newline.append(char)\n",
    "#     print(\"\".join(newline))\n",
    "    return int(eval(\"\".join(newline)))\n",
    "            "
   ]
  },
  {
   "cell_type": "markdown",
   "metadata": {},
   "source": [
    "We test out the function:"
   ]
  },
  {
   "cell_type": "code",
   "execution_count": 11,
   "metadata": {},
   "outputs": [
    {
     "data": {
      "text/plain": [
       "231"
      ]
     },
     "execution_count": 11,
     "metadata": {},
     "output_type": "execute_result"
    }
   ],
   "source": [
    "eval_line(\"1 + 2 * 3 + 4 * 5 + 6\")"
   ]
  },
  {
   "cell_type": "markdown",
   "metadata": {},
   "source": [
    "It seems to work, so let's try it with the test input:"
   ]
  },
  {
   "cell_type": "code",
   "execution_count": 12,
   "metadata": {},
   "outputs": [
    {
     "name": "stdout",
     "output_type": "stream",
     "text": [
      "2*3+(4*5) 46\n",
      "5+(8*3+9+3*4*3) 1445\n",
      "5*9*(7*3*3+9*3+(8+6*4)) 669060\n",
      "((2+4*9)*(6+9*8+6)+6)+2+4*2 23340\n"
     ]
    }
   ],
   "source": [
    "lines = load_data(\"day18_test.txt\")\n",
    "for line in lines:\n",
    "    print(line, eval_line(line))"
   ]
  },
  {
   "cell_type": "markdown",
   "metadata": {},
   "source": [
    "That's fine, so let's calculate the answer to the second puzzle:"
   ]
  },
  {
   "cell_type": "code",
   "execution_count": 13,
   "metadata": {},
   "outputs": [
    {
     "data": {
      "text/plain": [
       "323802071857594"
      ]
     },
     "execution_count": 13,
     "metadata": {},
     "output_type": "execute_result"
    }
   ],
   "source": [
    "lines = load_data(\"day18_data.txt\")\n",
    "sum([eval_line(line) for line in lines])"
   ]
  },
  {
   "cell_type": "code",
   "execution_count": null,
   "metadata": {},
   "outputs": [],
   "source": []
  }
 ],
 "metadata": {
  "kernelspec": {
   "display_name": "Python 3",
   "language": "python",
   "name": "python3"
  },
  "language_info": {
   "codemirror_mode": {
    "name": "ipython",
    "version": 3
   },
   "file_extension": ".py",
   "mimetype": "text/x-python",
   "name": "python",
   "nbconvert_exporter": "python",
   "pygments_lexer": "ipython3",
   "version": "3.8.6"
  }
 },
 "nbformat": 4,
 "nbformat_minor": 4
}
