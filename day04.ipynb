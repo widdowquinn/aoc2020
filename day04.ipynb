{
 "cells": [
  {
   "cell_type": "markdown",
   "metadata": {},
   "source": [
    "# Day 4: Passport Processing\n",
    "\n",
    "You arrive at the airport only to realize that you grabbed your North Pole Credentials instead of your passport. While these documents are extremely similar, North Pole Credentials aren't issued by a country and therefore aren't actually valid documentation for travel in most of the world.\n",
    "\n",
    "It seems like you're not the only one having problems, though; a very long line has formed for the automatic passport scanners, and the delay could upset your travel itinerary.\n",
    "\n",
    "Due to some questionable network security, you realize you might be able to solve both of these problems at the same time.\n",
    "\n",
    "The automatic passport scanners are slow because they're having trouble detecting which passports have all required fields. The expected fields are as follows:\n",
    "\n",
    "```text\n",
    "    byr (Birth Year)\n",
    "    iyr (Issue Year)\n",
    "    eyr (Expiration Year)\n",
    "    hgt (Height)\n",
    "    hcl (Hair Color)\n",
    "    ecl (Eye Color)\n",
    "    pid (Passport ID)\n",
    "    cid (Country ID)\n",
    "```\n",
    "\n",
    "Passport data is validated in batch files (your puzzle input). Each passport is represented as a sequence of key:value pairs separated by spaces or newlines. Passports are separated by blank lines.\n",
    "\n",
    "Here is an example batch file containing four passports:\n",
    "\n",
    "```text\n",
    "ecl:gry pid:860033327 eyr:2020 hcl:#fffffd\n",
    "byr:1937 iyr:2017 cid:147 hgt:183cm\n",
    "\n",
    "iyr:2013 ecl:amb cid:350 eyr:2023 pid:028048884\n",
    "hcl:#cfa07d byr:1929\n",
    "\n",
    "hcl:#ae17e1 iyr:2013\n",
    "eyr:2024\n",
    "ecl:brn pid:760753108 byr:1931\n",
    "hgt:179cm\n",
    "\n",
    "hcl:#cfa07d eyr:2025 pid:166559648\n",
    "iyr:2011 ecl:brn hgt:59in\n",
    "```\n",
    "\n",
    "The first passport is valid - all eight fields are present. The second passport is invalid - it is missing hgt (the Height field).\n",
    "\n",
    "The third passport is interesting; the only missing field is cid, so it looks like data from North Pole Credentials, not a passport at all! Surely, nobody would mind if you made the system temporarily ignore missing cid fields. Treat this \"passport\" as valid.\n",
    "\n",
    "The fourth passport is missing two fields, cid and byr. Missing cid is fine, but missing any other field is not, so this passport is invalid.\n",
    "\n",
    "According to the above rules, your improved system would report 2 valid passports."
   ]
  },
  {
   "cell_type": "markdown",
   "metadata": {},
   "source": [
    "## Puzzle 1\n",
    "\n",
    "Count the number of valid passports - those that have all required fields. Treat cid as optional. In your batch file, how many passports are valid?"
   ]
  },
  {
   "cell_type": "code",
   "execution_count": 1,
   "metadata": {},
   "outputs": [],
   "source": [
    "# Python imports\n",
    "import re\n",
    "\n",
    "from dataclasses import dataclass\n",
    "from pathlib import Path\n",
    "from typing import Optional"
   ]
  },
  {
   "cell_type": "markdown",
   "metadata": {},
   "source": [
    "Here we take advantage of Python's `@dataclass` decorator. This allows us to create a class that does nothing (much) but store data in a particular format. We can specify the data type of each field in the object, and if a field is optional we can assign it a default value of `None`.\n",
    "\n",
    "If we don't instantiate the class with the appropriate data in each case, an error is raised. So we can attempt to create a passport and, if there is missing data, an error will be raised. So, \"invalid\" passports will not be created. \n",
    "\n",
    "Our solution is to try to create a `Passport` object for each dataset, and count the successful creations - these are all valid passports."
   ]
  },
  {
   "cell_type": "code",
   "execution_count": 2,
   "metadata": {},
   "outputs": [],
   "source": [
    "@dataclass\n",
    "class Passport:\n",
    "    \n",
    "    \"\"\"Data class representing a generic passport\"\"\"\n",
    "        \n",
    "    byr: int\n",
    "    iyr: int\n",
    "    eyr: int\n",
    "    hgt: int\n",
    "    hcl: str\n",
    "    ecl: str\n",
    "    pid: int\n",
    "    cid: int=None"
   ]
  },
  {
   "cell_type": "code",
   "execution_count": 3,
   "metadata": {},
   "outputs": [],
   "source": [
    "def parse_passports(fpath):\n",
    "    \"\"\"Return a list of passwords from file fpath\n",
    "    \n",
    "    :param fpath:  path to batch file of passwords\n",
    "    \"\"\"\n",
    "    passports = []\n",
    "    \n",
    "    with Path(fpath).open(\"r\") as ifh:\n",
    "        data = {}\n",
    "        for line in ifh.readlines():\n",
    "            lndata = line.strip().split()\n",
    "            # If line is blank, create a new Passport\n",
    "            if len(lndata) == 0:\n",
    "                try:\n",
    "                    passports.append(Passport(**data))\n",
    "                except (TypeError, AssertionError, ValueError) as err:  # invalid passport\n",
    "                    pass\n",
    "                data = {}  # clear data\n",
    "            else:\n",
    "                kvs = [tuple(_.split(\":\")) for _ in lndata]\n",
    "                for key, val in kvs:\n",
    "                    data[key] = val\n",
    "                    \n",
    "    return passports"
   ]
  },
  {
   "cell_type": "markdown",
   "metadata": {},
   "source": [
    "Solve the test puzzle:"
   ]
  },
  {
   "cell_type": "code",
   "execution_count": 4,
   "metadata": {},
   "outputs": [
    {
     "data": {
      "text/plain": [
       "2"
      ]
     },
     "execution_count": 4,
     "metadata": {},
     "output_type": "execute_result"
    }
   ],
   "source": [
    "passports = parse_passports(\"day04_test.txt\")\n",
    "len(passports)"
   ]
  },
  {
   "cell_type": "markdown",
   "metadata": {},
   "source": [
    "Solve the real puzzle"
   ]
  },
  {
   "cell_type": "code",
   "execution_count": 5,
   "metadata": {},
   "outputs": [
    {
     "data": {
      "text/plain": [
       "237"
      ]
     },
     "execution_count": 5,
     "metadata": {},
     "output_type": "execute_result"
    }
   ],
   "source": [
    "passports = parse_passports(\"day04_data.txt\")\n",
    "len(passports)"
   ]
  },
  {
   "cell_type": "markdown",
   "metadata": {},
   "source": [
    "## Puzzle 2\n",
    "\n",
    "The line is moving more quickly now, but you overhear airport security talking about how passports with invalid data are getting through. Better add some data validation, quick!\n",
    "\n",
    "You can continue to ignore the cid field, but each other field has strict rules about what values are valid for automatic validation:\n",
    "\n",
    "```text\n",
    "    byr (Birth Year) - four digits; at least 1920 and at most 2002.\n",
    "    iyr (Issue Year) - four digits; at least 2010 and at most 2020.\n",
    "    eyr (Expiration Year) - four digits; at least 2020 and at most 2030.\n",
    "    hgt (Height) - a number followed by either cm or in:\n",
    "        If cm, the number must be at least 150 and at most 193.\n",
    "        If in, the number must be at least 59 and at most 76.\n",
    "    hcl (Hair Color) - a # followed by exactly six characters 0-9 or a-f.\n",
    "    ecl (Eye Color) - exactly one of: amb blu brn gry grn hzl oth.\n",
    "    pid (Passport ID) - a nine-digit number, including leading zeroes.\n",
    "    cid (Country ID) - ignored, missing or not.\n",
    "```\n",
    "\n",
    "Your job is to count the passports where all required fields are both present and valid according to the above rules. Here are some example values:\n",
    "\n",
    "```text\n",
    "byr valid:   2002\n",
    "byr invalid: 2003\n",
    "\n",
    "hgt valid:   60in\n",
    "hgt valid:   190cm\n",
    "hgt invalid: 190in\n",
    "hgt invalid: 190\n",
    "\n",
    "hcl valid:   #123abc\n",
    "hcl invalid: #123abz\n",
    "hcl invalid: 123abc\n",
    "\n",
    "ecl valid:   brn\n",
    "ecl invalid: wat\n",
    "\n",
    "pid valid:   000000001\n",
    "pid invalid: 0123456789\n",
    "```\n",
    "\n",
    "Here are some invalid passports:\n",
    "\n",
    "```text\n",
    "eyr:1972 cid:100\n",
    "hcl:#18171d ecl:amb hgt:170 pid:186cm iyr:2018 byr:1926\n",
    "\n",
    "iyr:2019\n",
    "hcl:#602927 eyr:1967 hgt:170cm\n",
    "ecl:grn pid:012533040 byr:1946\n",
    "\n",
    "hcl:dab227 iyr:2012\n",
    "ecl:brn hgt:182cm pid:021572410 eyr:2020 byr:1992 cid:277\n",
    "\n",
    "hgt:59cm ecl:zzz\n",
    "eyr:2038 hcl:74454a iyr:2023\n",
    "pid:3556412378 byr:2007\n",
    "```\n",
    "\n",
    "Here are some valid passports:\n",
    "\n",
    "```text\n",
    "pid:087499704 hgt:74in ecl:grn iyr:2012 eyr:2030 byr:1980\n",
    "hcl:#623a2f\n",
    "\n",
    "eyr:2029 ecl:blu cid:129 byr:1989\n",
    "iyr:2014 pid:896056539 hcl:#a97842 hgt:165cm\n",
    "\n",
    "hcl:#888785\n",
    "hgt:164cm byr:2001 iyr:2015 cid:88\n",
    "pid:545766238 ecl:hzl\n",
    "eyr:2022\n",
    "\n",
    "iyr:2010 hgt:158cm hcl:#b6652a ecl:blu byr:1944 eyr:2021 pid:093154719\n",
    "```\n",
    "\n",
    "Count the number of valid passports - those that have all required fields and valid values. Continue to treat cid as optional. In your batch file, how many passports are valid?"
   ]
  },
  {
   "cell_type": "markdown",
   "metadata": {},
   "source": [
    "We reimplement a different solution for a `Passport` class, to use Python's `@property` decorator and `.setter()` methods. This requires quite a few changes.\n",
    "\n",
    "- We can't rely on `@dataclass` to create boilerplate, we have to implement `__init__()`\n",
    "- We write a getter and setter for each data field. The setter allows us to assert properties of the data (e.g. length and/or value) and raise an error (`TypeError`, `ValueError` or `AssertionError` usually) if this is incorrect.\n",
    "\n",
    "As before, though, \"invalid\" details will not result in successful creation of a `Passport` object, so we can just count the number of successful passport creations to get our answer."
   ]
  },
  {
   "cell_type": "code",
   "execution_count": 6,
   "metadata": {},
   "outputs": [],
   "source": [
    "class Passport:\n",
    "    \n",
    "    \"\"\"Data class representing a generic passport\"\"\"\n",
    "        \n",
    "    def __init__(self, byr: int=0, iyr: int=0, eyr: int=0, hgt: str=\"\", \n",
    "                 hcl: str=\"\", ecl: str=\"\", pid: str=\"\", cid: Optional[int]=0):\n",
    "        \"\"\"Instantiate Passport\n",
    "        \n",
    "        :param byr: int  # (Birth Year)\n",
    "        :param iyr: int  # (Issue Year)\n",
    "        :param eyr: int  # (Expiration Year)\n",
    "        :param hgt: int  # (Height)\n",
    "        :param hcl: str  # (Hair Color)\n",
    "        :param ecl: str  # (Eye Color)\n",
    "        :param pid: int  # (Passport ID)\n",
    "        :param cid: int=None  # (Country ID)\n",
    "        \"\"\"\n",
    "        self.byr = int(byr)\n",
    "        self.iyr = int(iyr)\n",
    "        self.eyr = int(eyr)\n",
    "        self.hgt = str(hgt)\n",
    "        self.hcl = str(hcl)\n",
    "        self.ecl = str(ecl)\n",
    "        self.pid = str(pid)\n",
    "        self.cid = int(cid)\n",
    "        \n",
    "    @property\n",
    "    def byr(self):\n",
    "        \"\"\"Birth year\"\"\"\n",
    "        return self._byr\n",
    "    \n",
    "    @byr.setter\n",
    "    def byr(self, val):\n",
    "        \"\"\"Birth year\"\"\"\n",
    "        val = int(val)\n",
    "        assert 1920 <= val <= 2002\n",
    "        self._byr = val\n",
    "\n",
    "    @property\n",
    "    def iyr(self):\n",
    "        \"\"\"Issue year\"\"\"\n",
    "        return self._iyr\n",
    "    \n",
    "    @iyr.setter\n",
    "    def iyr(self, val):\n",
    "        \"\"\"Issue year\"\"\"\n",
    "        val = int(val)\n",
    "        assert 2010 <= val <= 2020\n",
    "        self._iyr = val        \n",
    "\n",
    "    @property\n",
    "    def eyr(self):\n",
    "        \"\"\"Expiry year\"\"\"\n",
    "        return self._eyr\n",
    "    \n",
    "    @eyr.setter\n",
    "    def eyr(self, val):\n",
    "        \"\"\"Expiry year\"\"\"\n",
    "        val = int(val)\n",
    "        assert 2020 <= val <= 2030\n",
    "        self._eyr = val        \n",
    "        \n",
    "    @property\n",
    "    def hgt(self):\n",
    "        \"\"\"Height\"\"\"\n",
    "        return self._hgt\n",
    "    \n",
    "    @hgt.setter\n",
    "    def hgt(self, inval):\n",
    "        \"\"\"Birth year\"\"\"\n",
    "        if inval.endswith(\"cm\"):\n",
    "            val = int(inval.split(\"cm\")[0])\n",
    "            assert 150 <= val <= 193\n",
    "        elif inval.endswith(\"in\"):\n",
    "            val = int(inval.split(\"in\")[0])\n",
    "            assert 59 <= val <= 76\n",
    "        else:\n",
    "            raise TypeError(\"Height must be inches or cm.\")\n",
    "        self._hgt = inval\n",
    "    \n",
    "    @property\n",
    "    def hcl(self):\n",
    "        \"\"\"Hair colour\"\"\"\n",
    "        return self._hcl\n",
    "    \n",
    "    @hcl.setter\n",
    "    def hcl(self, inval):\n",
    "        \"\"\"Hair colour\"\"\"\n",
    "        val = re.match(\"#[0-9a-f]{6}$\", str(inval))  # the $ asserts that the string stops\n",
    "        if val is None:\n",
    "            raise TypeError(f\"Hair colour must be #[0-9a-f]{{6}}$, got {inval}\")\n",
    "        self._hcl = val.group()\n",
    "        \n",
    "    @property\n",
    "    def ecl(self):\n",
    "        \"\"\"Eye colour\"\"\"\n",
    "        return self._ecl\n",
    "    \n",
    "    @ecl.setter\n",
    "    def ecl(self, val):\n",
    "        \"\"\"Eye colour\"\"\"\n",
    "        assert val in [\"amb\", \"blu\", \"brn\", \"gry\", \"grn\", \"hzl\", \"oth\"]\n",
    "        self._ecl = val\n",
    "        \n",
    "    @property\n",
    "    def pid(self):\n",
    "        \"\"\"Passport ID\"\"\"\n",
    "        return self._pid\n",
    "    \n",
    "    @pid.setter\n",
    "    def pid(self, inval):\n",
    "        \"\"\"Passport ID\"\"\"\n",
    "        val = re.match(\"[0-9]{9}$\", str(inval))  # the $ asserts that the string stops\n",
    "        if val is None:\n",
    "            raise TypeError(f\"Passport ID must be [0-9]{{9}}$, got {inval}\")\n",
    "        self._pid = val.group()\n"
   ]
  },
  {
   "cell_type": "markdown",
   "metadata": {},
   "source": [
    "Solve the expanded set of test cases."
   ]
  },
  {
   "cell_type": "code",
   "execution_count": 7,
   "metadata": {},
   "outputs": [
    {
     "data": {
      "text/plain": [
       "2"
      ]
     },
     "execution_count": 7,
     "metadata": {},
     "output_type": "execute_result"
    }
   ],
   "source": [
    "passports = parse_passports(\"day04_test.txt\")\n",
    "len(passports)"
   ]
  },
  {
   "cell_type": "code",
   "execution_count": 8,
   "metadata": {},
   "outputs": [
    {
     "data": {
      "text/plain": [
       "0"
      ]
     },
     "execution_count": 8,
     "metadata": {},
     "output_type": "execute_result"
    }
   ],
   "source": [
    "passports = parse_passports(\"day04_test02.txt\")\n",
    "len(passports)"
   ]
  },
  {
   "cell_type": "code",
   "execution_count": 9,
   "metadata": {},
   "outputs": [
    {
     "data": {
      "text/plain": [
       "3"
      ]
     },
     "execution_count": 9,
     "metadata": {},
     "output_type": "execute_result"
    }
   ],
   "source": [
    "passports = parse_passports(\"day04_test03.txt\")\n",
    "len(passports)"
   ]
  },
  {
   "cell_type": "markdown",
   "metadata": {},
   "source": [
    "Solve the real problem."
   ]
  },
  {
   "cell_type": "code",
   "execution_count": 10,
   "metadata": {},
   "outputs": [
    {
     "data": {
      "text/plain": [
       "172"
      ]
     },
     "execution_count": 10,
     "metadata": {},
     "output_type": "execute_result"
    }
   ],
   "source": [
    "passports = parse_passports(\"day04_data.txt\")\n",
    "len(passports)"
   ]
  },
  {
   "cell_type": "code",
   "execution_count": null,
   "metadata": {},
   "outputs": [],
   "source": []
  }
 ],
 "metadata": {
  "kernelspec": {
   "display_name": "Python 3",
   "language": "python",
   "name": "python3"
  },
  "language_info": {
   "codemirror_mode": {
    "name": "ipython",
    "version": 3
   },
   "file_extension": ".py",
   "mimetype": "text/x-python",
   "name": "python",
   "nbconvert_exporter": "python",
   "pygments_lexer": "ipython3",
   "version": "3.8.6"
  }
 },
 "nbformat": 4,
 "nbformat_minor": 4
}
