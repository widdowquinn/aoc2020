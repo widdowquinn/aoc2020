{
 "cells": [
  {
   "cell_type": "markdown",
   "metadata": {},
   "source": [
    "# Day 1: Report Repair\n",
    "\n",
    "After saving Christmas five years in a row, you've decided to take a vacation at a nice resort on a tropical island. Surely, Christmas will go on without you.\n",
    "\n",
    "The tropical island has its own currency and is entirely cash-only. The gold coins used there have a little picture of a starfish; the locals just call them stars. None of the currency exchanges seem to have heard of them, but somehow, you'll need to find fifty of these coins by the time you arrive so you can pay the deposit on your room.\n",
    "\n",
    "To save your vacation, you need to get all fifty stars by December 25th.\n",
    "\n",
    "Collect stars by solving puzzles. Two puzzles will be made available on each day in the Advent calendar; the second puzzle is unlocked when you complete the first. Each puzzle grants one star. Good luck!"
   ]
  },
  {
   "cell_type": "markdown",
   "metadata": {},
   "source": [
    "## Puzzle 1\n",
    "\n",
    "Before you leave, the Elves in accounting just need you to fix your expense report (your puzzle input); apparently, something isn't quite adding up.\n",
    "\n",
    "Specifically, they need you to find the two entries that sum to 2020 and then multiply those two numbers together.\n",
    "\n",
    "For example, suppose your expense report contained the following:\n",
    "\n",
    "1721\n",
    "979\n",
    "366\n",
    "299\n",
    "675\n",
    "1456\n",
    "\n",
    "In this list, the two entries that sum to 2020 are 1721 and 299. Multiplying them together produces 1721 * 299 = 514579, so the correct answer is 514579.\n",
    "\n",
    "Of course, your expense report is much larger. Find the two entries that sum to 2020; what do you get if you multiply them together?"
   ]
  },
  {
   "cell_type": "code",
   "execution_count": 1,
   "metadata": {},
   "outputs": [],
   "source": [
    "# Python imports\n",
    "from itertools import combinations\n",
    "from math import prod\n",
    "from operator import mul\n",
    "from pathlib import Path"
   ]
  },
  {
   "cell_type": "code",
   "execution_count": 2,
   "metadata": {},
   "outputs": [],
   "source": [
    "# Load input file\n",
    "def load_input(fpath):\n",
    "    \"\"\"Load input filepath as a list of integers\n",
    "    \n",
    "    :param fpath: path to the input file\n",
    "    \"\"\"\n",
    "    with Path(fpath).open(\"r\") as ifh:\n",
    "        return [int(_.strip()) for _ in ifh.readlines()]"
   ]
  },
  {
   "cell_type": "markdown",
   "metadata": {},
   "source": [
    "We want to find the single pair of numbers that sum to 2020, so we generate all pairs of numbers and test their sum. We are told there is only one such pair, so we can stop when we find it.\n",
    "\n",
    "To generate all pairs, we can use `itertools.combinations()`"
   ]
  },
  {
   "cell_type": "code",
   "execution_count": 3,
   "metadata": {},
   "outputs": [],
   "source": [
    "def find_pair(data, val=2020):\n",
    "    \"\"\"Find a pair of numbers that sum to a value and return the product\n",
    "    \n",
    "    :param data:  iterable of integers\n",
    "    :param val:  value to which integers should sum to return a value\n",
    "    \n",
    "    Iterate over all pair combinations of integers in data, and return\n",
    "    the product of the first pair that sum to val.\n",
    "    \"\"\"\n",
    "    for pair in combinations(data, 2):\n",
    "        if sum(pair) == val:\n",
    "            return mul(*pair)"
   ]
  },
  {
   "cell_type": "markdown",
   "metadata": {},
   "source": [
    "Solving the example puzzle."
   ]
  },
  {
   "cell_type": "code",
   "execution_count": 4,
   "metadata": {},
   "outputs": [
    {
     "data": {
      "text/plain": [
       "514579"
      ]
     },
     "execution_count": 4,
     "metadata": {},
     "output_type": "execute_result"
    }
   ],
   "source": [
    "data = load_input(\"day01_test.txt\")\n",
    "find_pair(data)"
   ]
  },
  {
   "cell_type": "markdown",
   "metadata": {},
   "source": [
    "Solving the real puzzle."
   ]
  },
  {
   "cell_type": "code",
   "execution_count": 5,
   "metadata": {},
   "outputs": [
    {
     "data": {
      "text/plain": [
       "744475"
      ]
     },
     "execution_count": 5,
     "metadata": {},
     "output_type": "execute_result"
    }
   ],
   "source": [
    "data = load_input(\"day01_data.txt\")\n",
    "find_pair(data)"
   ]
  },
  {
   "cell_type": "markdown",
   "metadata": {},
   "source": [
    "## Puzzle 2\n",
    "\n",
    "The Elves in accounting are thankful for your help; one of them even offers you a starfish coin they had left over from a past vacation. They offer you a second one if you can find three numbers in your expense report that meet the same criteria.\n",
    "\n",
    "Using the above example again, the three entries that sum to 2020 are 979, 366, and 675. Multiplying them together produces the answer, 241861950.\n",
    "\n",
    "In your expense report, what is the product of the three entries that sum to 2020?"
   ]
  },
  {
   "cell_type": "markdown",
   "metadata": {},
   "source": [
    "Using Python's `itertools.combinations()` function, iterating over all triples of numbers is as straightforward as finding all pairs. We only need to change the argument for the number of elements in each returned tuple.\n",
    "\n",
    "We can't use `mul()` to find the product of three elements, but we can use `math.prod()` to find the product of all elements in an iterable."
   ]
  },
  {
   "cell_type": "code",
   "execution_count": 6,
   "metadata": {},
   "outputs": [],
   "source": [
    "def find_triple(data, val=2020):\n",
    "    \"\"\"Find a triple of numbers that sum to a value and return the product\n",
    "    \n",
    "    :param data:  iterable of integers\n",
    "    :param val:  value to which integers should sum to return a value\n",
    "    \n",
    "    Iterate over all triple combinations of integers in data, and return\n",
    "    the product of the first triple that sum to val.\n",
    "    \"\"\"\n",
    "    product = 1\n",
    "    for triple in combinations(data, 3):\n",
    "        if sum(triple) == val:\n",
    "            return prod(triple)"
   ]
  },
  {
   "cell_type": "markdown",
   "metadata": {},
   "source": [
    "Solving the example puzzle."
   ]
  },
  {
   "cell_type": "code",
   "execution_count": 7,
   "metadata": {},
   "outputs": [
    {
     "data": {
      "text/plain": [
       "241861950"
      ]
     },
     "execution_count": 7,
     "metadata": {},
     "output_type": "execute_result"
    }
   ],
   "source": [
    "data = load_input(\"day01_test.txt\")\n",
    "find_triple(data)"
   ]
  },
  {
   "cell_type": "markdown",
   "metadata": {},
   "source": [
    "Solving the real puzzle"
   ]
  },
  {
   "cell_type": "code",
   "execution_count": 8,
   "metadata": {},
   "outputs": [
    {
     "data": {
      "text/plain": [
       "70276940"
      ]
     },
     "execution_count": 8,
     "metadata": {},
     "output_type": "execute_result"
    }
   ],
   "source": [
    "data = load_input(\"day01_data.txt\")\n",
    "find_triple(data)"
   ]
  },
  {
   "cell_type": "markdown",
   "metadata": {},
   "source": [
    "## Generalising\n",
    "\n",
    "We can make our `find_pair()` and `find_triple()` functions completely general for the number of elements and their sum:"
   ]
  },
  {
   "cell_type": "code",
   "execution_count": 9,
   "metadata": {},
   "outputs": [],
   "source": [
    "def find_entries(data, k=2, val=2020):\n",
    "    \"\"\"Find a tuple of k numbers that sum to val, and return the product\n",
    "    \n",
    "    :param data:  iterable of integers\n",
    "    :param k:  the number of elements in data to consider for a sum\n",
    "    :param val:  value to which integers should sum to return a value\n",
    "    \n",
    "    Iterate over all combinations of k integers in data, and return\n",
    "    the product of the first tuple that sums to val.\n",
    "    \"\"\"\n",
    "    product = 1\n",
    "    for tup in combinations(data, k):\n",
    "        if sum(tup) == val:\n",
    "            return prod(tup)"
   ]
  },
  {
   "cell_type": "code",
   "execution_count": 10,
   "metadata": {},
   "outputs": [
    {
     "name": "stdout",
     "output_type": "stream",
     "text": [
      "k=2: 744475; k=3: 70276940\n"
     ]
    }
   ],
   "source": [
    "data = load_input(\"day01_data.txt\")\n",
    "print(f\"k=2: {find_entries(data, 2)}; k=3: {find_entries(data, 3)}\")"
   ]
  },
  {
   "cell_type": "code",
   "execution_count": null,
   "metadata": {},
   "outputs": [],
   "source": []
  }
 ],
 "metadata": {
  "kernelspec": {
   "display_name": "Python 3",
   "language": "python",
   "name": "python3"
  },
  "language_info": {
   "codemirror_mode": {
    "name": "ipython",
    "version": 3
   },
   "file_extension": ".py",
   "mimetype": "text/x-python",
   "name": "python",
   "nbconvert_exporter": "python",
   "pygments_lexer": "ipython3",
   "version": "3.8.6"
  }
 },
 "nbformat": 4,
 "nbformat_minor": 4
}
