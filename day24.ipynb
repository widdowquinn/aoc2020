{
 "cells": [
  {
   "cell_type": "markdown",
   "metadata": {},
   "source": [
    "# Day 24: Lobby Layout\n",
    "\n",
    "Your raft makes it to the tropical island; it turns out that the small crab was an excellent navigator. You make your way to the resort.\n",
    "\n",
    "As you enter the lobby, you discover a small problem: the floor is being renovated. You can't even reach the check-in desk until they've finished installing the new tile floor.\n",
    "\n",
    "The tiles are all hexagonal; they need to be arranged in a hex grid with a very specific color pattern. Not in the mood to wait, you offer to help figure out the pattern.\n",
    "\n",
    "The tiles are all white on one side and black on the other. They start with the white side facing up. The lobby is large enough to fit whatever pattern might need to appear there.\n",
    "\n",
    "A member of the renovation crew gives you a list of the tiles that need to be flipped over (your puzzle input). Each line in the list identifies a single tile that needs to be flipped by giving a series of steps starting from a reference tile in the very center of the room. (Every line starts from the same reference tile.)\n",
    "\n",
    "Because the tiles are hexagonal, every tile has six neighbors: east, southeast, southwest, west, northwest, and northeast. These directions are given in your list, respectively, as e, se, sw, w, nw, and ne. A tile is identified by a series of these directions with no delimiters; for example, esenee identifies the tile you land on if you start at the reference tile and then move one tile east, one tile southeast, one tile northeast, and one tile east.\n",
    "\n",
    "Each time a tile is identified, it flips from white to black or from black to white. Tiles might be flipped more than once. For example, a line like esew flips a tile immediately adjacent to the reference tile, and a line like nwwswee flips the reference tile itself.\n",
    "\n",
    "Here is a larger example:\n",
    "\n",
    "```text\n",
    "sesenwnenenewseeswwswswwnenewsewsw\n",
    "neeenesenwnwwswnenewnwwsewnenwseswesw\n",
    "seswneswswsenwwnwse\n",
    "nwnwneseeswswnenewneswwnewseswneseene\n",
    "swweswneswnenwsewnwneneseenw\n",
    "eesenwseswswnenwswnwnwsewwnwsene\n",
    "sewnenenenesenwsewnenwwwse\n",
    "wenwwweseeeweswwwnwwe\n",
    "wsweesenenewnwwnwsenewsenwwsesesenwne\n",
    "neeswseenwwswnwswswnw\n",
    "nenwswwsewswnenenewsenwsenwnesesenew\n",
    "enewnwewneswsewnwswenweswnenwsenwsw\n",
    "sweneswneswneneenwnewenewwneswswnese\n",
    "swwesenesewenwneswnwwneseswwne\n",
    "enesenwswwswneneswsenwnewswseenwsese\n",
    "wnwnesenesenenwwnenwsewesewsesesew\n",
    "nenewswnwewswnenesenwnesewesw\n",
    "eneswnwswnwsenenwnwnwwseeswneewsenese\n",
    "neswnwewnwnwseenwseesewsenwsweewe\n",
    "wseweeenwnesenwwwswnew\n",
    "```\n",
    "\n",
    "In the above example, 10 tiles are flipped once (to black), and 5 more are flipped twice (to black, then back to white). After all of these instructions have been followed, a total of 10 tiles are black.\n",
    "\n",
    "Go through the renovation crew's list and determine which tiles they need to flip. After all of the instructions have been followed, how many tiles are left with the black side up?"
   ]
  },
  {
   "cell_type": "code",
   "execution_count": 1,
   "metadata": {},
   "outputs": [],
   "source": [
    "# Python imports\n",
    "from collections import Counter\n",
    "from pathlib import Path\n",
    "from typing import List, Set, Tuple"
   ]
  },
  {
   "cell_type": "markdown",
   "metadata": {},
   "source": [
    "We use two functions to parse the input data: `load_data()` loops over each line in the file, and `read_path()` recognises whether the first two characters are a known two-character direction (`nw`, `ne`, `sw`, or `se`) - in which case we consume that direction - or a single-character direction (`w` or `e`), which we consume if we find.\n",
    "\n",
    "Each path is returned as a list of directions to move, and the file contents are returned as a list of these paths."
   ]
  },
  {
   "cell_type": "code",
   "execution_count": 2,
   "metadata": {},
   "outputs": [],
   "source": [
    "def read_path(line: str) -> List[str]:\n",
    "    \"\"\"Convert string of directions to list of directions\n",
    "    \n",
    "    :param line:  concatenated string of directions\n",
    "    \"\"\"\n",
    "    path = []  # individual directions in path\n",
    "    while len(line):\n",
    "        # Consume valid two-character directions\n",
    "        if line[:2] in (\"nw\", \"ne\", \"sw\", \"se\"):\n",
    "            path.append(line[:2])\n",
    "            line = line[2:]\n",
    "        elif line[:1] in (\"w\", \"e\"):  # or valid one-character directions\n",
    "            path.append(line[0])\n",
    "            line = line[1:]\n",
    "        else:\n",
    "            raise ValueError(f\"Expected one of e, w, ne, nw, se, sw; got {line[:2]}\")\n",
    "    return path\n",
    "    \n",
    "\n",
    "def load_data(fpath: str) -> List[List[str]]:\n",
    "    paths = []  # individual paths\n",
    "    with Path(fpath).open(\"r\") as ifh:\n",
    "        for line in [_.strip() for _ in ifh.readlines()]:\n",
    "            paths.append(read_path(line))  # parse path\n",
    "    return paths"
   ]
  },
  {
   "cell_type": "markdown",
   "metadata": {},
   "source": [
    "We move on a hex grid of coordinates, assuming an origin at (0, 0). With this system, moves on the y-axis are like any other 2D grid (y is incremented by 1 when moving N, decremented by 1 when moving S), but moves on the y-axis depend on whether the row is odd- or even-numbered, and whether the move involves a change in the y-axis.\n",
    "\n",
    "On all rows, moving E increments x by 1, moving W decrements x by 1.\n",
    "\n",
    "On even rows, moving NE or SE increments x by 1, moving NW or SW *does not change x*.\n",
    "\n",
    "However, on odd rows moving NW or SW decrements x by 1, moving NE or SE *does not change x*.\n",
    "\n",
    "The `get_final_location()` function steps through each move in a passed `path`, starting from the origin (by default), and gives the location of the final tile the path lands on."
   ]
  },
  {
   "cell_type": "code",
   "execution_count": 3,
   "metadata": {},
   "outputs": [],
   "source": [
    "def get_final_location(path: List[str], start: Tuple[int, int]=(0, 0)) -> Tuple[int, int]:\n",
    "    \"\"\"Return final location of path on hex grid, starting from start\n",
    "    \n",
    "    :param path:  path as list of directions\n",
    "    :param start:  starting location (x, y)\n",
    "    \n",
    "    The subtlety here is that while movements on a hex grid are \"normal\" in\n",
    "    the y-axis, we need to change the x-axis movements depending on whether\n",
    "    the current y-axis co-ordinate is odd or even.\n",
    "    \"\"\"\n",
    "    # Each hex cell has co-ordinate (x, y)\n",
    "    curx, cury = start[0], start[1]\n",
    "    for step in path:\n",
    "        if step == \"w\":\n",
    "            curx -= 1\n",
    "        elif step == \"e\":\n",
    "            curx += 1\n",
    "        elif step == \"nw\":\n",
    "            if cury % 2:  # odd rows, decrement x\n",
    "                curx -= 1\n",
    "            cury += 1\n",
    "        elif step == \"ne\":\n",
    "            if cury % 2 == 0:  # even rows, increment x\n",
    "                curx += 1\n",
    "            cury += 1\n",
    "        elif step == \"sw\":\n",
    "            if cury % 2:  # odd rows, decrement x\n",
    "                curx -= 1\n",
    "            cury -= 1\n",
    "        elif step == \"se\":\n",
    "            if cury % 2 == 0:  # even rows, increment x\n",
    "                curx += 1\n",
    "            cury -= 1\n",
    "    return (curx, cury)"
   ]
  },
  {
   "cell_type": "markdown",
   "metadata": {},
   "source": [
    "We test out with a couple of examples from the puzzle text:"
   ]
  },
  {
   "cell_type": "code",
   "execution_count": 4,
   "metadata": {},
   "outputs": [
    {
     "name": "stdout",
     "output_type": "stream",
     "text": [
      "(1, -1)\n",
      "(0, 0)\n"
     ]
    }
   ],
   "source": [
    "print(get_final_location(read_path(\"esew\")))\n",
    "print(get_final_location(read_path(\"nwwswee\")))"
   ]
  },
  {
   "cell_type": "markdown",
   "metadata": {},
   "source": [
    "Now we try the test data. We read in the paths from file, and then collect the final location in the `flips` variable. We use the Python `Counter` object to count the number of times each tile is landed on, and report the number of tiles that are landed on an odd number of times (these are black; even flips returns them to white)."
   ]
  },
  {
   "cell_type": "code",
   "execution_count": 5,
   "metadata": {},
   "outputs": [
    {
     "data": {
      "text/plain": [
       "10"
      ]
     },
     "execution_count": 5,
     "metadata": {},
     "output_type": "execute_result"
    }
   ],
   "source": [
    "paths = load_data(\"day24_test.txt\")\n",
    "flips = [get_final_location(path) for path in paths]\n",
    "sum([_ for _ in Counter(flips).values() if _ % 2])  # how many tiles were flipped an odd number of times (black)"
   ]
  },
  {
   "cell_type": "markdown",
   "metadata": {},
   "source": [
    "Doing the same for the the real puzzle data:"
   ]
  },
  {
   "cell_type": "code",
   "execution_count": 6,
   "metadata": {},
   "outputs": [
    {
     "data": {
      "text/plain": [
       "538"
      ]
     },
     "execution_count": 6,
     "metadata": {},
     "output_type": "execute_result"
    }
   ],
   "source": [
    "paths = load_data(\"day24_data.txt\")\n",
    "flips = [get_final_location(path) for path in paths]\n",
    "sum([_ for _ in Counter(flips).values() if _ % 2])  # how many tiles were flipped an odd number of times (black)"
   ]
  },
  {
   "cell_type": "markdown",
   "metadata": {},
   "source": [
    "## Part Two\n",
    "\n",
    "The tile floor in the lobby is meant to be a living art exhibit. Every day, the tiles are all flipped according to the following rules:\n",
    "\n",
    "    Any black tile with zero or more than 2 black tiles immediately adjacent to it is flipped to white.\n",
    "    Any white tile with exactly 2 black tiles immediately adjacent to it is flipped to black.\n",
    "\n",
    "Here, tiles immediately adjacent means the six tiles directly touching the tile in question.\n",
    "\n",
    "The rules are applied simultaneously to every tile; put another way, it is first determined which tiles need to be flipped, then they are all flipped at the same time.\n",
    "\n",
    "In the above example, the number of black tiles that are facing up after the given number of days has passed is as follows:\n",
    "\n",
    "```text\n",
    "Day 1: 15\n",
    "Day 2: 12\n",
    "Day 3: 25\n",
    "Day 4: 14\n",
    "Day 5: 23\n",
    "Day 6: 28\n",
    "Day 7: 41\n",
    "Day 8: 37\n",
    "Day 9: 49\n",
    "Day 10: 37\n",
    "\n",
    "Day 20: 132\n",
    "Day 30: 259\n",
    "Day 40: 406\n",
    "Day 50: 566\n",
    "Day 60: 788\n",
    "Day 70: 1106\n",
    "Day 80: 1373\n",
    "Day 90: 1844\n",
    "Day 100: 2208\n",
    "```\n",
    "\n",
    "After executing this process a total of 100 times, there would be 2208 black tiles facing up.\n",
    "\n",
    "How many tiles will be black after 100 days?"
   ]
  },
  {
   "cell_type": "markdown",
   "metadata": {},
   "source": [
    "This is a variant of the Game of Life, but on a hex grid. We use the same approach as in an earlier puzzle, storing black tiles in a set of co-ordinates, and checking these tiles (and their white neighbours) against the rules of the game. A *copy* of the input tile set is updated on each turn - so we can update synchronously - and the neighbouring tile identification (in `get_neighbours()`) is updated to account for the hex field."
   ]
  },
  {
   "cell_type": "code",
   "execution_count": 7,
   "metadata": {},
   "outputs": [],
   "source": [
    "def get_neighbours(tile: Tuple[int, int]) -> List[Tuple[int, int]]:\n",
    "    \"\"\"Return coordinates of tile neighbours on hexgrid\n",
    "    \n",
    "    :param tile:  single tile co-ordinates on the hex grid\n",
    "    \n",
    "    As before, the subtlety is that the neighbour co-ordinate\n",
    "    calculations depend on whether the central tile is on the\n",
    "    odd- or even-numbered y-axis row.\n",
    "    \"\"\"\n",
    "    curx, cury = tile\n",
    "    if cury % 2:  # odd row, decrement x for NW, SW\n",
    "        return {(curx - 1, cury), (curx + 1, cury),\n",
    "                (curx - 1, cury + 1), (curx, cury + 1), \n",
    "                (curx - 1, cury - 1), (curx, cury - 1)}\n",
    "    else:  # even row, increment x for NE, SE\n",
    "        return {(curx - 1, cury), (curx + 1, cury),\n",
    "                (curx, cury + 1), (curx + 1, cury + 1), \n",
    "                (curx, cury - 1), (curx + 1, cury - 1)}\n",
    "\n",
    "def hex_life(black_tiles: Set[Tuple[int, int]]) -> Set[Tuple[int, int]]:\n",
    "    \"\"\"Return the next state in a hex grid Game of Life\n",
    "    \n",
    "    :param black_tiles:  current state in hex grid Game of Life\n",
    "    \n",
    "    For efficiency, we need only check the current set of black tiles,\n",
    "    and their white tile neighbours; no other tiles would need updating\n",
    "    \"\"\"\n",
    "    next_step = black_tiles.copy()  # copy for synchronous update\n",
    "    \n",
    "    for tile in black_tiles:\n",
    "        # Check neighbouring black tile count\n",
    "        nbrs = get_neighbours(tile)\n",
    "        blk_nbrs = len(nbrs.intersection(black_tiles))\n",
    "        if blk_nbrs > 2 or blk_nbrs == 0:\n",
    "            next_step.remove(tile)\n",
    "        # Check neighbouring white tiles for potential update\n",
    "        for nbr in [_ for _ in nbrs if _ not in black_tiles]:\n",
    "            if len(black_tiles.intersection(get_neighbours(nbr))) == 2:\n",
    "                next_step.add(nbr)\n",
    "                \n",
    "    return next_step\n"
   ]
  },
  {
   "cell_type": "markdown",
   "metadata": {},
   "source": [
    "Now we load the paths from file (`load_data()`), get the initial setup of tiles (`get_final_location()`) for each of the paths, and get a set of black tiles in the `black_tiles` variable. Then we implement the `hex_life()` rules 100 times, and count the number of black tiles on the final day, for the test data:"
   ]
  },
  {
   "cell_type": "code",
   "execution_count": 8,
   "metadata": {},
   "outputs": [
    {
     "name": "stdout",
     "output_type": "stream",
     "text": [
      "Day 100: 2208\n"
     ]
    }
   ],
   "source": [
    "paths = load_data(\"day24_test.txt\")\n",
    "flips = [get_final_location(path) for path in paths]\n",
    "black_tiles = {tile for (tile, cnt) in Counter(flips).items() if cnt % 2}\n",
    "for day in range(100):\n",
    "    black_tiles = hex_life(black_tiles)\n",
    "print(f\"Day {day + 1}: {len(black_tiles)}\")"
   ]
  },
  {
   "cell_type": "markdown",
   "metadata": {},
   "source": [
    "Doing the same for the real data:"
   ]
  },
  {
   "cell_type": "code",
   "execution_count": 9,
   "metadata": {},
   "outputs": [
    {
     "name": "stdout",
     "output_type": "stream",
     "text": [
      "Day 100: 4259\n"
     ]
    }
   ],
   "source": [
    "paths = load_data(\"day24_data.txt\")\n",
    "flips = [get_final_location(path) for path in paths]\n",
    "black_tiles = {tile for (tile, cnt) in Counter(flips).items() if cnt % 2}\n",
    "for day in range(100):\n",
    "    black_tiles = hex_life(black_tiles)\n",
    "print(f\"Day {day + 1}: {len(black_tiles)}\")"
   ]
  },
  {
   "cell_type": "code",
   "execution_count": null,
   "metadata": {},
   "outputs": [],
   "source": []
  }
 ],
 "metadata": {
  "kernelspec": {
   "display_name": "Python 3",
   "language": "python",
   "name": "python3"
  },
  "language_info": {
   "codemirror_mode": {
    "name": "ipython",
    "version": 3
   },
   "file_extension": ".py",
   "mimetype": "text/x-python",
   "name": "python",
   "nbconvert_exporter": "python",
   "pygments_lexer": "ipython3",
   "version": "3.8.6"
  }
 },
 "nbformat": 4,
 "nbformat_minor": 4
}
