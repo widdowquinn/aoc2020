{
 "cells": [
  {
   "cell_type": "markdown",
   "metadata": {},
   "source": [
    "# Day 21: Allergen Assessment\n",
    "\n",
    "You reach the train's last stop and the closest you can get to your vacation island without getting wet. There aren't even any boats here, but nothing can stop you now: you build a raft. You just need a few days' worth of food for your journey.\n",
    "\n",
    "You don't speak the local language, so you can't read any ingredients lists. However, sometimes, allergens are listed in a language you do understand. You should be able to use this information to determine which ingredient contains which allergen and work out which foods are safe to take with you on your trip.\n",
    "\n",
    "You start by compiling a list of foods (your puzzle input), one food per line. Each line includes that food's ingredients list followed by some or all of the allergens the food contains.\n",
    "\n",
    "Each allergen is found in exactly one ingredient. Each ingredient contains zero or one allergen. Allergens aren't always marked; when they're listed (as in (contains nuts, shellfish) after an ingredients list), the ingredient that contains each listed allergen will be somewhere in the corresponding ingredients list. However, even if an allergen isn't listed, the ingredient that contains that allergen could still be present: maybe they forgot to label it, or maybe it was labeled in a language you don't know.\n",
    "\n",
    "For example, consider the following list of foods:\n",
    "\n",
    "```text\n",
    "mxmxvkd kfcds sqjhc nhms (contains dairy, fish)\n",
    "trh fvjkl sbzzf mxmxvkd (contains dairy)\n",
    "sqjhc fvjkl (contains soy)\n",
    "sqjhc mxmxvkd sbzzf (contains fish)\n",
    "```\n",
    "\n",
    "The first food in the list has four ingredients (written in a language you don't understand): mxmxvkd, kfcds, sqjhc, and nhms. While the food might contain other allergens, a few allergens the food definitely contains are listed afterward: dairy and fish.\n",
    "\n",
    "The first step is to determine which ingredients can't possibly contain any of the allergens in any food in your list. In the above example, none of the ingredients kfcds, nhms, sbzzf, or trh can contain an allergen. Counting the number of times any of these ingredients appear in any ingredients list produces 5: they all appear once each except sbzzf, which appears twice.\n",
    "\n",
    "Determine which ingredients cannot possibly contain any of the allergens in your list. How many times do any of those ingredients appear?"
   ]
  },
  {
   "cell_type": "code",
   "execution_count": 1,
   "metadata": {},
   "outputs": [],
   "source": [
    "# Python imports\n",
    "from collections import defaultdict\n",
    "from itertools import combinations\n",
    "from pathlib import Path\n",
    "\n",
    "import numpy as np"
   ]
  },
  {
   "cell_type": "markdown",
   "metadata": {},
   "source": [
    "We load the data into a list of tuples using `load_data()`. Each tuple contains a set of ingredients, and a set of allergens from each line."
   ]
  },
  {
   "cell_type": "code",
   "execution_count": 2,
   "metadata": {},
   "outputs": [],
   "source": [
    "def load_data(fpath):\n",
    "    with Path(fpath).open(\"r\") as ifh:\n",
    "        data = []\n",
    "        for line in [_.strip() for _ in ifh.readlines()]:\n",
    "            ingredients, allergens = line.split(\" (contains \")\n",
    "            allergens = set(allergens[:-1].split(\", \"))\n",
    "            ingredients = set(ingredients.split())\n",
    "            data.append((ingredients, allergens))\n",
    "    return data"
   ]
  },
  {
   "cell_type": "markdown",
   "metadata": {},
   "source": [
    "To find the non-allergens, we define a *pattern* (a `numpy` array) for each of the ingredients and the allergens. We use a `1` to indicate that the ingredient or allergen occurs in the food, and a `0` to indicate that it does not.\n",
    "\n",
    "We can then use these patterns to identify certain non-allergens as those ingredients that have a pattern incompatible with any allergen pattern. An ingredient pattern is incompatible with an allergen pattern if the allergen occurs and the ingredient is not labelled. If an ingredient is compatible with *any* allergen, it is not a certain non-allergen. We test for compatibility by subtracting the allergen pattern from the ingredient pattern. The possibilities are:\n",
    "\n",
    "- ingredient present only when allergen is present (compatible, possible allergen): 1-1 or 1-0 only; no 0-1, so all values > -1\n",
    "- ingredient present when allergen is not present (incompatible, not this allergen): 1-1, 1-0 or 0-1\n",
    "\n",
    "The `find_non_allergens()` function returns only ingredients that fall into the second category, that are not consistent with containing any of the allergens."
   ]
  },
  {
   "cell_type": "code",
   "execution_count": 3,
   "metadata": {},
   "outputs": [],
   "source": [
    "def find_non_allergens(foods):\n",
    "    # What are the allergens\n",
    "    allergens = set()\n",
    "    [allergens := allergens.union(alls) for _, alls in foods]\n",
    "    \n",
    "    # What are the ingredients\n",
    "    ingredients = set()\n",
    "    [ingredients := ingredients.union(ings) for ings, _ in foods]\n",
    "\n",
    "    # What are the patterns of occurrence for the allergens and ingredients\n",
    "    a_ptns = {}\n",
    "    for allergen in allergens:\n",
    "        a_ptns[allergen] = np.array([1 if allergen in alls else 0 for _, alls in foods])\n",
    "    i_ptns = {}\n",
    "    for ingredient in ingredients:\n",
    "        i_ptns[ingredient] = np.array([1 if ingredient in ings else 0 for ings, _ in foods])\n",
    "        \n",
    "    # Which ingredients are incompatible with any allergen?\n",
    "    non_allergens = set()\n",
    "    for ing, iptn in i_ptns.items():\n",
    "        non_allergen = True\n",
    "        for alg, aptn in a_ptns.items():\n",
    "            if np.all(iptn - aptn > -1):\n",
    "                non_allergen = False\n",
    "        if non_allergen:\n",
    "            non_allergens.add(ing)\n",
    "    return non_allergens"
   ]
  },
  {
   "cell_type": "markdown",
   "metadata": {},
   "source": [
    "We use the `count_non_allergens()` function to count the number of occurrences of each non-allergen ingredient in the list of foods:"
   ]
  },
  {
   "cell_type": "code",
   "execution_count": 4,
   "metadata": {},
   "outputs": [],
   "source": [
    "def count_non_allergens(foods, non_allergens):\n",
    "    count = 0\n",
    "    for ing, allerg in foods:\n",
    "        count += len(ing.intersection(non_allergens))\n",
    "    return count"
   ]
  },
  {
   "cell_type": "markdown",
   "metadata": {},
   "source": [
    "We run this on the test data:"
   ]
  },
  {
   "cell_type": "code",
   "execution_count": 5,
   "metadata": {},
   "outputs": [
    {
     "name": "stdout",
     "output_type": "stream",
     "text": [
      "5\n"
     ]
    },
    {
     "data": {
      "text/plain": [
       "{'kfcds', 'nhms', 'sbzzf', 'trh'}"
      ]
     },
     "execution_count": 5,
     "metadata": {},
     "output_type": "execute_result"
    }
   ],
   "source": [
    "foods = load_data(\"day21_test.txt\")\n",
    "non_allergens = find_non_allergens(foods)\n",
    "print(count_non_allergens(foods, non_allergens))\n",
    "non_allergens"
   ]
  },
  {
   "cell_type": "markdown",
   "metadata": {},
   "source": [
    "Then on the puzzle data:"
   ]
  },
  {
   "cell_type": "code",
   "execution_count": 6,
   "metadata": {},
   "outputs": [
    {
     "data": {
      "text/plain": [
       "1882"
      ]
     },
     "execution_count": 6,
     "metadata": {},
     "output_type": "execute_result"
    }
   ],
   "source": [
    "foods = load_data(\"day21_data.txt\")\n",
    "non_allergens = find_non_allergens(foods)\n",
    "count_non_allergens(foods, non_allergens)"
   ]
  },
  {
   "cell_type": "markdown",
   "metadata": {},
   "source": [
    "## Part Two\n",
    "\n",
    "Now that you've isolated the inert ingredients, you should have enough information to figure out which ingredient contains which allergen.\n",
    "\n",
    "In the above example:\n",
    "\n",
    "    mxmxvkd contains dairy.\n",
    "    sqjhc contains fish.\n",
    "    fvjkl contains soy.\n",
    "\n",
    "Arrange the ingredients alphabetically by their allergen and separate them by commas to produce your canonical dangerous ingredient list. (There should not be any spaces in your canonical dangerous ingredient list.) In the above example, this would be mxmxvkd,sqjhc,fvjkl.\n",
    "\n",
    "Time to stock your raft with supplies. What is your canonical dangerous ingredient list?"
   ]
  },
  {
   "cell_type": "markdown",
   "metadata": {},
   "source": [
    "To find the allergens in our food list, we take the list of foods and list of known non-allergens into the `find_allergens()` function. This holds a known allergenic ingredients in the dictionary `allergens`.\n",
    "\n",
    "The function first removes all known non-allergens from the ingredients list of each food.\n",
    "\n",
    "Then, we check each pairwise combination of foods to see if they can logically isolate a single ingredient for a single allergen, with set arithmetic: if two sets of \"unknown\" ingredients have a single ingredient in common, and a single \"unknown\" allergen in common, that ingredient must contain that allergen. The `allergens` dictionary is then updated.\n",
    "\n",
    "We conduct an additional test: if there is a single \"unknown\" ingredient and \"unknown\" allergen for any food, then the allergens dictionary is updated, accordingly."
   ]
  },
  {
   "cell_type": "code",
   "execution_count": 7,
   "metadata": {},
   "outputs": [],
   "source": [
    "def find_allergens(foods, non_allergens):\n",
    "    allergens = {}\n",
    "    \n",
    "    # Remove allergens\n",
    "#     print(f\"{non_allergens=}\")\n",
    "    for idx, food in enumerate(foods):\n",
    "        foods[idx] = (food[0].difference(non_allergens), food[1])\n",
    "#         print(food[0].difference(non_allergens), food[1])\n",
    "\n",
    "    # Get initial allergen set\n",
    "    for food1, food2 in list(combinations(foods, 2)):\n",
    "        # exclude known allergens and non_allergens\n",
    "        f1_ing = food1[0].difference(set(allergens.keys()))\n",
    "        f2_ing = food2[0].difference(set(allergens.keys()))\n",
    "        f1_all = food1[1].difference(set(allergens.keys()))\n",
    "        f2_all = food2[1].difference(set(allergens.keys()))\n",
    "\n",
    "        ing_candidates = (f1_ing.intersection(f2_ing))\n",
    "        all_candidates = (f1_all.intersection(f2_all))\n",
    "        print(len(ing_candidates), len(all_candidates))\n",
    "        if len(ing_candidates) == len(all_candidates) == 1:\n",
    "            allergens[ing_candidates.pop()] = all_candidates.pop()\n",
    "\n",
    "        print(len(f1_ing), len(f1_all))\n",
    "        if len(f1_ing) == len(f1_all) == 1:\n",
    "            allergens[f1_ing.pop()] = f1_all.pop()\n",
    "        print(len(f2_ing), len(f2_all))\n",
    "        if len(f2_ing) == len(f2_all) == 1:\n",
    "            allergens[f2_ing.pop()] = f2_all.pop()\n",
    "\n",
    "    return allergens"
   ]
  },
  {
   "cell_type": "markdown",
   "metadata": {},
   "source": [
    "There's an additional complication. Our input data for the puzzle is underdetermined. There are a whole bunch of ingredients that are not certain to *not be allergens* (i.e. the ingredient is incompatible with *any* allergen), but they are compatible with so many allergens that we can't solve the problem with the `find_allergens()` function.\n",
    "\n",
    "To remedy this, the `find_candidates()` function identifies all ingredients that are compatible with containing each allergen, and recomposes the ingredients list for each food to contain *only* those ingredients from the ingredients list that *could* contain the allergen.\n",
    "\n",
    "That reduces the complexity of the problem and avoids underdetermination."
   ]
  },
  {
   "cell_type": "code",
   "execution_count": 8,
   "metadata": {},
   "outputs": [],
   "source": [
    "def find_candidates(foods):\n",
    "    # What are the allergens\n",
    "    allergens = set()\n",
    "    [allergens := allergens.union(alls) for _, alls in foods]\n",
    "    \n",
    "    # What are the ingredients\n",
    "    ingredients = set()\n",
    "    [ingredients := ingredients.union(ings) for ings, _ in foods]\n",
    "\n",
    "    # What are the patterns of occurrence for the allergens and ingredients\n",
    "    a_ptns = {}\n",
    "    for allergen in allergens:\n",
    "        a_ptns[allergen] = np.array([1 if allergen in alls else 0 for _, alls in foods])\n",
    "    i_ptns = {}\n",
    "    for ingredient in ingredients:\n",
    "        i_ptns[ingredient] = np.array([1 if ingredient in ings else 0 for ings, _ in foods])\n",
    "        \n",
    "    # For each allergen, which ingredients are compatible with that allergen?\n",
    "    allergens = defaultdict(set)\n",
    "    for alg, aptn in a_ptns.items():\n",
    "        for ing, iptn in i_ptns.items():\n",
    "            if np.all(iptn - aptn > -1):\n",
    "                allergens[alg].add(ing)\n",
    "                \n",
    "    # Format the allergen candidates appropriately\n",
    "#     print(allergens)\n",
    "    result = []\n",
    "    for allergen, ingredients in allergens.items():\n",
    "        result.append((set(ingredients), set([allergen])))\n",
    "    return result"
   ]
  },
  {
   "cell_type": "markdown",
   "metadata": {},
   "source": [
    "For the test data, we do not need to reduce the candidate ingredients."
   ]
  },
  {
   "cell_type": "code",
   "execution_count": 9,
   "metadata": {},
   "outputs": [
    {
     "name": "stdout",
     "output_type": "stream",
     "text": [
      "5\n",
      "1 1\n",
      "2 2\n",
      "2 1\n",
      "1 0\n",
      "1 2\n",
      "2 1\n",
      "1 1\n",
      "1 2\n",
      "1 1\n",
      "1 0\n",
      "1 1\n",
      "1 1\n",
      "0 0\n",
      "0 1\n",
      "0 1\n",
      "0 0\n",
      "0 1\n",
      "0 1\n"
     ]
    },
    {
     "data": {
      "text/plain": [
       "'mxmxvkd,sqjhc,fvjkl'"
      ]
     },
     "execution_count": 9,
     "metadata": {},
     "output_type": "execute_result"
    }
   ],
   "source": [
    "foods = load_data(\"day21_test.txt\")\n",
    "non_allergens = find_non_allergens(foods)\n",
    "print(count_non_allergens(foods, non_allergens))\n",
    "allergens = find_allergens(foods, non_allergens)\n",
    "\n",
    "result = [(val, key) for key, val in allergens.items()]\n",
    "\",\".join([_[1] for _ in sorted(result)])"
   ]
  },
  {
   "cell_type": "markdown",
   "metadata": {},
   "source": [
    "But for the puzzle data, we do:"
   ]
  },
  {
   "cell_type": "code",
   "execution_count": 10,
   "metadata": {},
   "outputs": [
    {
     "name": "stdout",
     "output_type": "stream",
     "text": [
      "1882\n",
      "1 0\n",
      "3 1\n",
      "1 1\n",
      "2 0\n",
      "2 1\n",
      "4 1\n",
      "0 0\n",
      "2 1\n",
      "2 1\n",
      "1 0\n",
      "2 1\n",
      "3 1\n",
      "1 0\n",
      "2 1\n",
      "2 1\n",
      "1 0\n",
      "2 1\n",
      "1 1\n",
      "0 0\n",
      "1 1\n",
      "1 1\n",
      "0 0\n",
      "0 1\n",
      "2 1\n",
      "0 0\n",
      "0 1\n",
      "2 1\n",
      "0 0\n",
      "0 1\n",
      "2 1\n",
      "0 0\n",
      "0 1\n",
      "1 1\n",
      "0 0\n",
      "0 1\n",
      "0 1\n",
      "0 0\n",
      "0 1\n",
      "0 1\n",
      "0 0\n",
      "1 1\n",
      "1 1\n",
      "0 0\n",
      "0 1\n",
      "1 1\n",
      "0 0\n",
      "0 1\n",
      "0 1\n",
      "0 0\n",
      "0 1\n",
      "0 1\n",
      "0 0\n",
      "0 1\n",
      "0 1\n",
      "0 0\n",
      "0 1\n",
      "0 1\n",
      "0 0\n",
      "0 1\n",
      "0 1\n",
      "0 0\n",
      "0 1\n",
      "0 1\n",
      "0 0\n",
      "0 1\n",
      "0 1\n",
      "0 0\n",
      "0 1\n",
      "0 1\n",
      "0 0\n",
      "0 1\n",
      "0 1\n",
      "0 0\n",
      "0 1\n",
      "0 1\n",
      "0 0\n",
      "0 1\n",
      "0 1\n",
      "0 0\n",
      "0 1\n",
      "0 1\n",
      "0 0\n",
      "0 1\n",
      "0 1\n"
     ]
    },
    {
     "data": {
      "text/plain": [
       "'xgtj,ztdctgq,bdnrnx,cdvjp,jdggtft,mdbq,rmd,lgllb'"
      ]
     },
     "execution_count": 10,
     "metadata": {},
     "output_type": "execute_result"
    }
   ],
   "source": [
    "foods = load_data(\"day21_data.txt\")\n",
    "non_allergens = find_non_allergens(foods)\n",
    "print(count_non_allergens(foods, non_allergens))\n",
    "candidates = find_candidates(foods)\n",
    "allergens = find_allergens(candidates, non_allergens)\n",
    "\n",
    "result = [(val, key) for key, val in allergens.items()]\n",
    "result\n",
    "\",\".join([_[1] for _ in sorted(result)])"
   ]
  },
  {
   "cell_type": "code",
   "execution_count": 11,
   "metadata": {},
   "outputs": [
    {
     "data": {
      "text/plain": [
       "[({'bdnrnx', 'mdbq', 'xgtj'}, {'dairy'}),\n",
       " ({'mdbq'}, {'sesame'}),\n",
       " ({'bdnrnx', 'cdvjp', 'mdbq', 'xgtj', 'ztdctgq'}, {'nuts'}),\n",
       " ({'lgllb', 'mdbq', 'ztdctgq'}, {'soy'}),\n",
       " ({'bdnrnx', 'cdvjp', 'mdbq', 'rmd'}, {'shellfish'}),\n",
       " ({'bdnrnx', 'ztdctgq'}, {'eggs'}),\n",
       " ({'bdnrnx', 'mdbq'}, {'fish'}),\n",
       " ({'bdnrnx', 'jdggtft', 'mdbq'}, {'peanuts'})]"
      ]
     },
     "execution_count": 11,
     "metadata": {},
     "output_type": "execute_result"
    }
   ],
   "source": [
    "candidates"
   ]
  },
  {
   "cell_type": "code",
   "execution_count": 12,
   "metadata": {},
   "outputs": [
    {
     "data": {
      "text/plain": [
       "{'mdbq': 'sesame',\n",
       " 'bdnrnx': 'fish',\n",
       " 'xgtj': 'dairy',\n",
       " 'jdggtft': 'peanuts',\n",
       " 'ztdctgq': 'eggs',\n",
       " 'cdvjp': 'nuts',\n",
       " 'lgllb': 'soy',\n",
       " 'rmd': 'shellfish'}"
      ]
     },
     "execution_count": 12,
     "metadata": {},
     "output_type": "execute_result"
    }
   ],
   "source": [
    "allergens"
   ]
  },
  {
   "cell_type": "code",
   "execution_count": null,
   "metadata": {},
   "outputs": [],
   "source": []
  }
 ],
 "metadata": {
  "kernelspec": {
   "display_name": "Python 3",
   "language": "python",
   "name": "python3"
  },
  "language_info": {
   "codemirror_mode": {
    "name": "ipython",
    "version": 3
   },
   "file_extension": ".py",
   "mimetype": "text/x-python",
   "name": "python",
   "nbconvert_exporter": "python",
   "pygments_lexer": "ipython3",
   "version": "3.8.6"
  }
 },
 "nbformat": 4,
 "nbformat_minor": 4
}
