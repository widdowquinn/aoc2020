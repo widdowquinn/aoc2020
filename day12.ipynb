{
 "cells": [
  {
   "cell_type": "markdown",
   "metadata": {},
   "source": [
    "# Day 12: Rain Risk\n",
    "\n",
    "Your ferry made decent progress toward the island, but the storm came in faster than anyone expected. The ferry needs to take evasive actions!\n",
    "\n",
    "Unfortunately, the ship's navigation computer seems to be malfunctioning; rather than giving a route directly to safety, it produced extremely circuitous instructions. When the captain uses the PA system to ask if anyone can help, you quickly volunteer.\n",
    "\n",
    "The navigation instructions (your puzzle input) consists of a sequence of single-character actions paired with integer input values. After staring at them for a few minutes, you work out what they probably mean:\n",
    "\n",
    "    Action N means to move north by the given value.\n",
    "    Action S means to move south by the given value.\n",
    "    Action E means to move east by the given value.\n",
    "    Action W means to move west by the given value.\n",
    "    Action L means to turn left the given number of degrees.\n",
    "    Action R means to turn right the given number of degrees.\n",
    "    Action F means to move forward by the given value in the direction the ship is currently facing.\n",
    "\n",
    "The ship starts by facing east. Only the L and R actions change the direction the ship is facing. (That is, if the ship is facing east and the next instruction is N10, the ship would move north 10 units, but would still move east if the following action were F.)\n",
    "\n",
    "For example:\n",
    "\n",
    "```text\n",
    "F10\n",
    "N3\n",
    "F7\n",
    "R90\n",
    "F11\n",
    "```\n",
    "\n",
    "These instructions would be handled as follows:\n",
    "\n",
    "    F10 would move the ship 10 units east (because the ship starts by facing east) to east 10, north 0.\n",
    "    N3 would move the ship 3 units north to east 10, north 3.\n",
    "    F7 would move the ship another 7 units east (because the ship is still facing east) to east 17, north 3.\n",
    "    R90 would cause the ship to turn right by 90 degrees and face south; it remains at east 17, north 3.\n",
    "    F11 would move the ship 11 units south to east 17, south 8.\n",
    "\n",
    "At the end of these instructions, the ship's Manhattan distance (sum of the absolute values of its east/west position and its north/south position) from its starting position is 17 + 8 = 25.\n",
    "\n",
    "Figure out where the navigation instructions lead. What is the Manhattan distance between that location and the ship's starting position?"
   ]
  },
  {
   "cell_type": "code",
   "execution_count": 1,
   "metadata": {},
   "outputs": [],
   "source": [
    "# Python imports\n",
    "from pathlib import Path\n",
    "from typing import List, Tuple\n",
    "\n",
    "import numpy as np"
   ]
  },
  {
   "cell_type": "markdown",
   "metadata": {},
   "source": [
    "As usual, we write a short function to parse input data from a file to a usable form: a list of `<DIR><VAL>` strings. This function could as well have been a list of tuples `(DIR, VAL)`; the choice here means we have to parse each string in any function that takes the loaded route."
   ]
  },
  {
   "cell_type": "code",
   "execution_count": 2,
   "metadata": {},
   "outputs": [],
   "source": [
    "def load_route(fpath: str) -> List[str]:\n",
    "    with Path(fpath).open(\"r\") as ifh:\n",
    "        return [_.strip() for _ in ifh]"
   ]
  },
  {
   "cell_type": "markdown",
   "metadata": {},
   "source": [
    "To move the ferry we step through the locations, applying the rules above.\n",
    "\n",
    "To handle left and right turns, we keep track of a `face` variable that holds the direction the ferry is facing. We use two dictionaries, one for left and one for right, to define the way the ferry ends up facing after a single 90 degree turn in each direction. We have to calculate the number of 90 degree turns the route indicates, in order to use this properly (that's the integer division `val//90`).\n",
    "\n",
    "We track the location of the ferry after every step, and return the complete route."
   ]
  },
  {
   "cell_type": "code",
   "execution_count": 3,
   "metadata": {},
   "outputs": [],
   "source": [
    "def ferry_route(path: List[str], start: Tuple[int, int]=(0,0), face: str=\"E\") -> List[Tuple[int, int]]:\n",
    "    \"\"\"Return locations of the ferry along the route indicated in path\n",
    "    \n",
    "    :param path:  list of steps in the route as <DIR><VAL> strings\n",
    "    :param start:  starting location of the ferry as an (x, y) tuple\n",
    "    :param face:  direction the ferry starts off facing, N, S, E or W\n",
    "    \"\"\"\n",
    "    locations = [(start[0], start[1], face)]\n",
    "    \n",
    "    # Dictionaries defining left and right turn effects on ferry facing direction\n",
    "    rturn = {\"N\": \"E\", \"E\": \"S\", \"S\": \"W\", \"W\": \"N\"}\n",
    "    lturn = {\"N\": \"W\", \"E\": \"N\", \"S\": \"E\", \"W\": \"S\"}\n",
    "    \n",
    "    # Generate steps in route\n",
    "    for step in path:\n",
    "        drn, val = step[:1], int(step[1:])\n",
    "        curloc = locations[-1]\n",
    "        \n",
    "        # Move\n",
    "        if drn == \"F\":\n",
    "            drn = face\n",
    "        if drn == \"N\":\n",
    "            locations.append((curloc[0], curloc[1] + val, face))\n",
    "        elif drn == \"S\":\n",
    "            locations.append((curloc[0], curloc[1] - val, face))\n",
    "        elif drn == \"E\":\n",
    "            locations.append((curloc[0] + val, curloc[1], face))\n",
    "        elif drn == \"W\":\n",
    "            locations.append((curloc[0] - val, curloc[1], face))\n",
    "            \n",
    "        # Turn\n",
    "        elif drn == \"R\":\n",
    "            angle = val//90\n",
    "            for _ in range(angle):\n",
    "                face = rturn[face]\n",
    "            locations.append((curloc[0], curloc[1], face))\n",
    "        elif drn == \"L\":\n",
    "            angle = val//90\n",
    "            for _ in range(angle):\n",
    "                face = lturn[face]\n",
    "            locations.append((curloc[0], curloc[1], face))\n",
    "\n",
    "    return locations"
   ]
  },
  {
   "cell_type": "markdown",
   "metadata": {},
   "source": [
    "We have a short function that gives the Manhattan distance between the ferry's starting position and the end position, in a route."
   ]
  },
  {
   "cell_type": "code",
   "execution_count": 4,
   "metadata": {},
   "outputs": [],
   "source": [
    "def route_distance(route: List[Tuple[int, int]]) -> int:\n",
    "    \"\"\"Return Manthattan distance between first and last points on route\n",
    "    \n",
    "    :param route:  ferry route as list of (x, y) locations\n",
    "    \"\"\"\n",
    "    start, end = route[0], route[-1]\n",
    "    return abs(start[0] - end[0]) + abs(start[1] - end[1])"
   ]
  },
  {
   "cell_type": "markdown",
   "metadata": {},
   "source": [
    "We solve the test puzzle."
   ]
  },
  {
   "cell_type": "code",
   "execution_count": 5,
   "metadata": {},
   "outputs": [
    {
     "name": "stdout",
     "output_type": "stream",
     "text": [
      "[(0, 0, 'E'), (10, 0, 'E'), (10, 3, 'E'), (17, 3, 'E'), (17, 3, 'S'), (17, -8, 'S')]\n"
     ]
    },
    {
     "data": {
      "text/plain": [
       "25"
      ]
     },
     "execution_count": 5,
     "metadata": {},
     "output_type": "execute_result"
    }
   ],
   "source": [
    "path = load_route(\"day12_test.txt\")\n",
    "route = ferry_route(path)\n",
    "print(route)\n",
    "route_distance(route)"
   ]
  },
  {
   "cell_type": "markdown",
   "metadata": {},
   "source": [
    "Then solve the real puzzle."
   ]
  },
  {
   "cell_type": "code",
   "execution_count": 6,
   "metadata": {},
   "outputs": [
    {
     "data": {
      "text/plain": [
       "845"
      ]
     },
     "execution_count": 6,
     "metadata": {},
     "output_type": "execute_result"
    }
   ],
   "source": [
    "path = load_route(\"day12_data.txt\")\n",
    "route = ferry_route(path)\n",
    "route_distance(route)"
   ]
  },
  {
   "cell_type": "markdown",
   "metadata": {},
   "source": [
    "## Part Two\n",
    "\n",
    "Before you can give the destination to the captain, you realize that the actual action meanings were printed on the back of the instructions the whole time.\n",
    "\n",
    "Almost all of the actions indicate how to move a waypoint which is relative to the ship's position:\n",
    "\n",
    "    Action N means to move the waypoint north by the given value.\n",
    "    Action S means to move the waypoint south by the given value.\n",
    "    Action E means to move the waypoint east by the given value.\n",
    "    Action W means to move the waypoint west by the given value.\n",
    "    Action L means to rotate the waypoint around the ship left (counter-clockwise) the given number of degrees.\n",
    "    Action R means to rotate the waypoint around the ship right (clockwise) the given number of degrees.\n",
    "    Action F means to move forward to the waypoint a number of times equal to the given value.\n",
    "\n",
    "The waypoint starts 10 units east and 1 unit north relative to the ship. The waypoint is relative to the ship; that is, if the ship moves, the waypoint moves with it.\n",
    "\n",
    "For example, using the same instructions as above:\n",
    "\n",
    "    F10 moves the ship to the waypoint 10 times (a total of 100 units east and 10 units north), leaving the ship at east 100, north 10. The waypoint stays 10 units east and 1 unit north of the ship.\n",
    "    N3 moves the waypoint 3 units north to 10 units east and 4 units north of the ship. The ship remains at east 100, north 10.\n",
    "    F7 moves the ship to the waypoint 7 times (a total of 70 units east and 28 units north), leaving the ship at east 170, north 38. The waypoint stays 10 units east and 4 units north of the ship.\n",
    "    R90 rotates the waypoint around the ship clockwise 90 degrees, moving it to 4 units east and 10 units south of the ship. The ship remains at east 170, north 38.\n",
    "    F11 moves the ship to the waypoint 11 times (a total of 44 units east and 110 units south), leaving the ship at east 214, south 72. The waypoint stays 4 units east and 10 units south of the ship.\n",
    "\n",
    "After these operations, the ship's Manhattan distance from its starting position is 214 + 72 = 286.\n",
    "\n",
    "Figure out where the navigation instructions actually lead. What is the Manhattan distance between that location and the ship's starting position?"
   ]
  },
  {
   "cell_type": "markdown",
   "metadata": {},
   "source": [
    "We modify the function above to track the location of the waypoint, relative to the ship. We no longer need to track the way the ship is facing.\n",
    "\n",
    "Rather than use a dictionary to \"move\" the waypoint around the ship, we can use [matrix operations](https://en.wikipedia.org/wiki/Rotation_matrix) to rotate its location.\n",
    "\n",
    "Otherwise, the function is the same as `ferry_route()` except it substitutes the waypoint-related movements for absolute movements."
   ]
  },
  {
   "cell_type": "code",
   "execution_count": 7,
   "metadata": {},
   "outputs": [],
   "source": [
    "def waypoint_route(path: List[str], start: Tuple[int, int]=(0,0), wploc: Tuple[int, int]=(10, 1)) -> List[Tuple[int, int]]:\n",
    "    \"\"\"Return locations of the ferry along the route indicated in path\n",
    "    \n",
    "    :param path:  list of steps in the route as <DIR><VAL> strings\n",
    "    :param start:  starting location of the ferry as an (x, y) tuple\n",
    "    :param wploc:  starting location of the waypoint relative to the ferry as an (x, y) tuple\n",
    "    \"\"\"\n",
    "    locations = [start]\n",
    "    \n",
    "    # Rotation matrices for left and right turns\n",
    "    rotl = np.array([[0, -1], [1, 0]])\n",
    "    rotr = np.array([[0, 1], [-1, 0]])\n",
    "    \n",
    "    # Generate steps in route\n",
    "    for step in path:\n",
    "        drn, val = step[:1], int(step[1:])\n",
    "        curloc = locations[-1]\n",
    "\n",
    "        # Move ferry\n",
    "        if drn == \"F\":\n",
    "            locations.append((curloc[0] + wploc[0] * val, curloc[1] + wploc[1] * val))\n",
    "        if drn == \"N\":\n",
    "            wploc = wploc[0], wploc[1] + val\n",
    "        elif drn == \"S\":\n",
    "            wploc = wploc[0], wploc[1] - val\n",
    "        elif drn == \"E\":\n",
    "            wploc = wploc[0] + val, wploc[1]\n",
    "        elif drn == \"W\":\n",
    "            wploc = wploc[0] - val, wploc[1]\n",
    "            \n",
    "        # Rotate waypoint around ferry\n",
    "        elif drn == \"R\":\n",
    "            angle = val//90\n",
    "            for _ in range(angle):\n",
    "                wploc = tuple(np.matmul(rotr, np.array(wploc)))\n",
    "        elif drn == \"L\":\n",
    "            angle = val//90\n",
    "            for _ in range(angle):\n",
    "                wploc = tuple(np.matmul(rotl, np.array(wploc)))\n",
    "\n",
    "    return locations"
   ]
  },
  {
   "cell_type": "code",
   "execution_count": 8,
   "metadata": {},
   "outputs": [
    {
     "data": {
      "text/plain": [
       "286"
      ]
     },
     "execution_count": 8,
     "metadata": {},
     "output_type": "execute_result"
    }
   ],
   "source": [
    "path = load_route(\"day12_test.txt\")\n",
    "route = waypoint_route(path)\n",
    "route_distance(route)"
   ]
  },
  {
   "cell_type": "code",
   "execution_count": 9,
   "metadata": {},
   "outputs": [
    {
     "data": {
      "text/plain": [
       "27016"
      ]
     },
     "execution_count": 9,
     "metadata": {},
     "output_type": "execute_result"
    }
   ],
   "source": [
    "path = load_route(\"day12_data.txt\")\n",
    "route = waypoint_route(path)\n",
    "route_distance(route)"
   ]
  },
  {
   "cell_type": "code",
   "execution_count": null,
   "metadata": {},
   "outputs": [],
   "source": []
  }
 ],
 "metadata": {
  "kernelspec": {
   "display_name": "Python 3",
   "language": "python",
   "name": "python3"
  },
  "language_info": {
   "codemirror_mode": {
    "name": "ipython",
    "version": 3
   },
   "file_extension": ".py",
   "mimetype": "text/x-python",
   "name": "python",
   "nbconvert_exporter": "python",
   "pygments_lexer": "ipython3",
   "version": "3.8.6"
  }
 },
 "nbformat": 4,
 "nbformat_minor": 4
}
