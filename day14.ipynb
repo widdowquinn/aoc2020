{
 "cells": [
  {
   "cell_type": "markdown",
   "metadata": {},
   "source": [
    "# Day 14: Docking Data\n",
    "\n",
    "As your ferry approaches the sea port, the captain asks for your help again. The computer system that runs this port isn't compatible with the docking program on the ferry, so the docking parameters aren't being correctly initialized in the docking program's memory.\n",
    "\n",
    "After a brief inspection, you discover that the sea port's computer system uses a strange bitmask system in its initialization program. Although you don't have the correct decoder chip handy, you can emulate it in software!\n",
    "\n",
    "The initialization program (your puzzle input) can either update the bitmask or write a value to memory. Values and memory addresses are both 36-bit unsigned integers. For example, ignoring bitmasks for a moment, a line like mem[8] = 11 would write the value 11 to memory address 8.\n",
    "\n",
    "The bitmask is always given as a string of 36 bits, written with the most significant bit (representing 2^35) on the left and the least significant bit (2^0, that is, the 1s bit) on the right. The current bitmask is applied to values immediately before they are written to memory: a 0 or 1 overwrites the corresponding bit in the value, while an X leaves the bit in the value unchanged.\n",
    "\n",
    "For example, consider the following program:\n",
    "\n",
    "```text\n",
    "mask = XXXXXXXXXXXXXXXXXXXXXXXXXXXXX1XXXX0X\n",
    "mem[8] = 11\n",
    "mem[7] = 101\n",
    "mem[8] = 0\n",
    "```\n",
    "\n",
    "This program starts by specifying a bitmask (mask = ....). The mask it specifies will overwrite two bits in every written value: the 2s bit is overwritten with 0, and the 64s bit is overwritten with 1.\n",
    "\n",
    "The program then attempts to write the value 11 to memory address 8. By expanding everything out to individual bits, the mask is applied as follows:\n",
    "\n",
    "```tezt\n",
    "value:  000000000000000000000000000000001011  (decimal 11)\n",
    "mask:   XXXXXXXXXXXXXXXXXXXXXXXXXXXXX1XXXX0X\n",
    "result: 000000000000000000000000000001001001  (decimal 73)\n",
    "```\n",
    "\n",
    "So, because of the mask, the value 73 is written to memory address 8 instead. Then, the program tries to write 101 to address 7:\n",
    "\n",
    "```text\n",
    "value:  000000000000000000000000000001100101  (decimal 101)\n",
    "mask:   XXXXXXXXXXXXXXXXXXXXXXXXXXXXX1XXXX0X\n",
    "result: 000000000000000000000000000001100101  (decimal 101)\n",
    "```\n",
    "\n",
    "This time, the mask has no effect, as the bits it overwrote were already the values the mask tried to set. Finally, the program tries to write 0 to address 8:\n",
    "\n",
    "```text\n",
    "value:  000000000000000000000000000000000000  (decimal 0)\n",
    "mask:   XXXXXXXXXXXXXXXXXXXXXXXXXXXXX1XXXX0X\n",
    "result: 000000000000000000000000000001000000  (decimal 64)\n",
    "```\n",
    "\n",
    "64 is written to address 8 instead, overwriting the value that was there previously.\n",
    "\n",
    "To initialize your ferry's docking program, you need the sum of all values left in memory after the initialization program completes. (The entire 36-bit address space begins initialized to the value 0 at every address.) In the above example, only two values in memory are not zero - 101 (at address 7) and 64 (at address 8) - producing a sum of 165.\n",
    "\n",
    "Execute the initialization program. What is the sum of all values left in memory after it completes?"
   ]
  },
  {
   "cell_type": "code",
   "execution_count": 1,
   "metadata": {},
   "outputs": [],
   "source": [
    "# Python imports\n",
    "from collections import defaultdict\n",
    "from itertools import combinations_with_replacement\n",
    "from pathlib import Path\n",
    "from typing import List, Tuple, Union\n",
    "\n",
    "import numpy as np"
   ]
  },
  {
   "cell_type": "markdown",
   "metadata": {},
   "source": [
    "As usual, we write an input parser. Here the input is a program that has two kinds of statements: a *mask* and an *(address, value)* tuple, so we treat these separately, but load them into a single list of program statements.\n",
    "\n",
    "The *mask* is defined straightforwardly as a string, so we use this.\n",
    "\n",
    "The memory *address* is presented as an integer, but the *value* is an integer, which we need to convert to binary in order to mask correctly (Python has a `bin()` function to help here), and we left-pad the result to a 36-bit binary value, as a string."
   ]
  },
  {
   "cell_type": "code",
   "execution_count": 2,
   "metadata": {},
   "outputs": [],
   "source": [
    "def load_program(fpath: str) -> List[Union[str, Tuple[int, str]]]:\n",
    "    \"\"\"Returns program loaded from passed file\n",
    "    \n",
    "    :param fpath:  path to input program\n",
    "    \"\"\"\n",
    "    program = []  # Holds the parsed program\n",
    "    \n",
    "    with Path(fpath).open(\"r\") as ifh:\n",
    "        for line in ifh.readlines():\n",
    "            if line.startswith(\"mask\"):\n",
    "                program.append(line.strip().split()[-1])\n",
    "            elif line.startswith(\"mem\"):\n",
    "                line = line.split()\n",
    "                mem, val = line[0][:-1], line[-1]\n",
    "                memloc = int(mem.split(\"[\")[-1])\n",
    "                val = bin(int(val))[2:]\n",
    "                program.append((memloc, f\"{int(val):036}\"))\n",
    "            \n",
    "    return program"
   ]
  },
  {
   "cell_type": "code",
   "execution_count": 3,
   "metadata": {},
   "outputs": [
    {
     "data": {
      "text/plain": [
       "['XXXXXXXXXXXXXXXXXXXXXXXXXXXXX1XXXX0X',\n",
       " (8, '000000000000000000000000000000001011'),\n",
       " (7, '000000000000000000000000000001100101'),\n",
       " (8, '000000000000000000000000000000000000')]"
      ]
     },
     "execution_count": 3,
     "metadata": {},
     "output_type": "execute_result"
    }
   ],
   "source": [
    "program = load_program(\"day14_test.txt\")\n",
    "program"
   ]
  },
  {
   "cell_type": "markdown",
   "metadata": {},
   "source": [
    "Now, when running the program with `run_program()`, we keep a *memory* which is a dictionary keyed by memory address. This holds `int` values at each specified address.\n",
    "\n",
    "For each line in the program we either load in a mask as a list of `(index, value)` tuples, so that we can apply the mask to the binary representation in other program statements, by changing the bit at `index` to `value`.\n",
    "\n",
    "For statements that update a memory location, we take the binary representation, convert it to a `list` and update the bit at `index` to `value` according to the current mask. We then convert the binary value to an int (`int(value, 2)` does this - the `2` indicates the base being used), and update the corresponding memory location.\n",
    "\n",
    "Finally, we return the sum of values in all memory addresses."
   ]
  },
  {
   "cell_type": "code",
   "execution_count": 4,
   "metadata": {},
   "outputs": [],
   "source": [
    "def run_program(program: List[Union[str, Tuple[int, str]]]) -> int:\n",
    "    \"\"\"Returns sum of values in memory after running passed program\n",
    "    \n",
    "    :param program:  input mask and (address, value) tuples\n",
    "    \"\"\"\n",
    "    memory = defaultdict(int)\n",
    "\n",
    "    for line in program:\n",
    "        if isinstance(line, str):  # The program statement is a new mask\n",
    "            maskvals = []\n",
    "            for idx, val in enumerate(line):\n",
    "                if val != \"X\":\n",
    "                    maskvals.append((idx, val))\n",
    "        elif isinstance(line, tuple):  # The program statement is an address and value\n",
    "            loc, val = line[0], list(line[1])\n",
    "            for idx, mval in maskvals:\n",
    "                val[idx] = mval\n",
    "            maskedval = int(\"\".join(val), 2)\n",
    "            memory[loc] = maskedval\n",
    "    \n",
    "    return sum(memory.values())"
   ]
  },
  {
   "cell_type": "code",
   "execution_count": 5,
   "metadata": {},
   "outputs": [
    {
     "data": {
      "text/plain": [
       "165"
      ]
     },
     "execution_count": 5,
     "metadata": {},
     "output_type": "execute_result"
    }
   ],
   "source": [
    "program = load_program(\"day14_test.txt\")\n",
    "run_program(program)"
   ]
  },
  {
   "cell_type": "code",
   "execution_count": 6,
   "metadata": {},
   "outputs": [
    {
     "data": {
      "text/plain": [
       "14925946402938"
      ]
     },
     "execution_count": 6,
     "metadata": {},
     "output_type": "execute_result"
    }
   ],
   "source": [
    "program = load_program(\"day14_data.txt\")\n",
    "run_program(program)"
   ]
  },
  {
   "cell_type": "markdown",
   "metadata": {},
   "source": [
    "Part Two\n",
    "\n",
    "For some reason, the sea port's computer system still can't communicate with your ferry's docking program. It must be using version 2 of the decoder chip!\n",
    "\n",
    "A version 2 decoder chip doesn't modify the values being written at all. Instead, it acts as a memory address decoder. Immediately before a value is written to memory, each bit in the bitmask modifies the corresponding bit of the destination memory address in the following way:\n",
    "\n",
    "    If the bitmask bit is 0, the corresponding memory address bit is unchanged.\n",
    "    If the bitmask bit is 1, the corresponding memory address bit is overwritten with 1.\n",
    "    If the bitmask bit is X, the corresponding memory address bit is floating.\n",
    "\n",
    "A floating bit is not connected to anything and instead fluctuates unpredictably. In practice, this means the floating bits will take on all possible values, potentially causing many memory addresses to be written all at once!\n",
    "\n",
    "For example, consider the following program:\n",
    "\n",
    "```text\n",
    "mask = 000000000000000000000000000000X1001X\n",
    "mem[42] = 100\n",
    "mask = 00000000000000000000000000000000X0XX\n",
    "mem[26] = 1\n",
    "```\n",
    "\n",
    "When this program goes to write to memory address 42, it first applies the bitmask:\n",
    "\n",
    "```text\n",
    "address: 000000000000000000000000000000101010  (decimal 42)\n",
    "mask:    000000000000000000000000000000X1001X\n",
    "result:  000000000000000000000000000000X1101X\n",
    "```\n",
    "\n",
    "After applying the mask, four bits are overwritten, three of which are different, and two of which are floating. Floating bits take on every possible combination of values; with two floating bits, four actual memory addresses are written:\n",
    "\n",
    "```text\n",
    "000000000000000000000000000000011010  (decimal 26)\n",
    "000000000000000000000000000000011011  (decimal 27)\n",
    "000000000000000000000000000000111010  (decimal 58)\n",
    "000000000000000000000000000000111011  (decimal 59)\n",
    "```\n",
    "\n",
    "Next, the program is about to write to memory address 26 with a different bitmask:\n",
    "\n",
    "```text\n",
    "address: 000000000000000000000000000000011010  (decimal 26)\n",
    "mask:    00000000000000000000000000000000X0XX\n",
    "result:  00000000000000000000000000000001X0XX\n",
    "```\n",
    "\n",
    "This results in an address with three floating bits, causing writes to eight memory addresses:\n",
    "\n",
    "```text\n",
    "000000000000000000000000000000010000  (decimal 16)\n",
    "000000000000000000000000000000010001  (decimal 17)\n",
    "000000000000000000000000000000010010  (decimal 18)\n",
    "000000000000000000000000000000010011  (decimal 19)\n",
    "000000000000000000000000000000011000  (decimal 24)\n",
    "000000000000000000000000000000011001  (decimal 25)\n",
    "000000000000000000000000000000011010  (decimal 26)\n",
    "000000000000000000000000000000011011  (decimal 27)\n",
    "```\n",
    "\n",
    "The entire 36-bit address space still begins initialized to the value 0 at every address, and you still need the sum of all values left in memory at the end of the program. In this example, the sum is 208.\n",
    "\n",
    "Execute the initialization program using an emulator for a version 2 decoder chip. What is the sum of all values left in memory after it completes?"
   ]
  },
  {
   "cell_type": "markdown",
   "metadata": {},
   "source": [
    "To accommodate the changes for the version 2 decoder chip, we read in the mask as before, but now take the (address, value) tuples as an int and a string of the decimal number, not the binary number."
   ]
  },
  {
   "cell_type": "code",
   "execution_count": 7,
   "metadata": {},
   "outputs": [],
   "source": [
    "def load_program_v2(fpath: str) -> List[Union[str, Tuple[int, str]]]:\n",
    "    \"\"\"Return a v2 program from the passed file\n",
    "    \n",
    "    :param fpath:  path to input program file\n",
    "    \"\"\"\n",
    "    program = []\n",
    "    \n",
    "    with Path(fpath).open(\"r\") as ifh:\n",
    "        for line in ifh.readlines():\n",
    "            if line.startswith(\"mask\"):\n",
    "                program.append(line.strip().split()[-1])\n",
    "            elif line.startswith(\"mem\"):\n",
    "                line = line.split()\n",
    "                mem, val = line[0][:-1], line[-1]\n",
    "                memloc = int(mem.split(\"[\")[-1])\n",
    "                program.append((memloc, val))\n",
    "            \n",
    "    return program"
   ]
  },
  {
   "cell_type": "code",
   "execution_count": 8,
   "metadata": {},
   "outputs": [
    {
     "data": {
      "text/plain": [
       "['000000000000000000000000000000X1001X',\n",
       " (42, '100'),\n",
       " '00000000000000000000000000000000X0XX',\n",
       " (26, '1')]"
      ]
     },
     "execution_count": 8,
     "metadata": {},
     "output_type": "execute_result"
    }
   ],
   "source": [
    "load_program_v2(\"day14_test_v2.txt\")"
   ]
  },
  {
   "cell_type": "code",
   "execution_count": 9,
   "metadata": {},
   "outputs": [],
   "source": [
    "def run_v2(program: List[Union[str, Tuple[int, str]]]) -> int:\n",
    "    \"\"\"Return sum of values in memory after running the passed program\n",
    "    \n",
    "    :param program:  a v2 program\n",
    "    \"\"\"\n",
    "    memory = defaultdict(int)\n",
    "\n",
    "    for line in program:\n",
    "        if isinstance(line, str):\n",
    "            maskvals = []\n",
    "            for idx, val in enumerate(line):\n",
    "                if val != \"0\":\n",
    "                    maskvals.append((idx, val))\n",
    "        elif isinstance(line, tuple):\n",
    "            newlocs = []\n",
    "            \n",
    "            loc, val = line[0], int(line[1])\n",
    "            locbin = list(f\"{int(bin(int(loc))[2:]):036}\")\n",
    "        \n",
    "            # change 1s\n",
    "            for idx, mval in maskvals:\n",
    "                if mval == \"1\":\n",
    "                    locbin[idx] = mval\n",
    "\n",
    "            # change Xs\n",
    "            xidx = [idx for (idx, val) in maskvals if val == \"X\"]\n",
    "            for binmask in [list(f\"{int(bin(_)[2:]):0{len(xidx)}}\") for _ in range(2**len(xidx))]:\n",
    "                newmask = locbin.copy()\n",
    "                for idx, bval in zip(xidx, binmask):\n",
    "                    newmask[idx] = bval\n",
    "                newaddr = int(\"\".join(newmask), 2)\n",
    "                memory[newaddr] = val\n",
    "                \n",
    "    return sum(memory.values())"
   ]
  },
  {
   "cell_type": "code",
   "execution_count": 10,
   "metadata": {},
   "outputs": [
    {
     "data": {
      "text/plain": [
       "208"
      ]
     },
     "execution_count": 10,
     "metadata": {},
     "output_type": "execute_result"
    }
   ],
   "source": [
    "program = load_program_v2(\"day14_test_v2.txt\")\n",
    "run_v2(program)"
   ]
  },
  {
   "cell_type": "code",
   "execution_count": 11,
   "metadata": {},
   "outputs": [
    {
     "data": {
      "text/plain": [
       "3706820676200"
      ]
     },
     "execution_count": 11,
     "metadata": {},
     "output_type": "execute_result"
    }
   ],
   "source": [
    "program = load_program_v2(\"day14_data.txt\")\n",
    "run_v2(program)"
   ]
  },
  {
   "cell_type": "code",
   "execution_count": null,
   "metadata": {},
   "outputs": [],
   "source": []
  }
 ],
 "metadata": {
  "kernelspec": {
   "display_name": "Python 3",
   "language": "python",
   "name": "python3"
  },
  "language_info": {
   "codemirror_mode": {
    "name": "ipython",
    "version": 3
   },
   "file_extension": ".py",
   "mimetype": "text/x-python",
   "name": "python",
   "nbconvert_exporter": "python",
   "pygments_lexer": "ipython3",
   "version": "3.8.6"
  }
 },
 "nbformat": 4,
 "nbformat_minor": 4
}
