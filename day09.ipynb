{
 "cells": [
  {
   "cell_type": "markdown",
   "metadata": {},
   "source": [
    "# Day 9: Encoding Error\n",
    "\n",
    "With your neighbor happily enjoying their video game, you turn your attention to an open data port on the little screen in the seat in front of you.\n",
    "\n",
    "Though the port is non-standard, you manage to connect it to your computer through the clever use of several paperclips. Upon connection, the port outputs a series of numbers (your puzzle input).\n",
    "\n",
    "The data appears to be encrypted with the eXchange-Masking Addition System (XMAS) which, conveniently for you, is an old cypher with an important weakness.\n",
    "\n",
    "XMAS starts by transmitting a preamble of 25 numbers. After that, each number you receive should be the sum of any two of the 25 immediately previous numbers. The two numbers will have different values, and there might be more than one such pair.\n",
    "\n",
    "For example, suppose your preamble consists of the numbers 1 through 25 in a random order. To be valid, the next number must be the sum of two of those numbers:\n",
    "\n",
    "    26 would be a valid next number, as it could be 1 plus 25 (or many other pairs, like 2 and 24).\n",
    "    49 would be a valid next number, as it is the sum of 24 and 25.\n",
    "    100 would not be valid; no two of the previous 25 numbers sum to 100.\n",
    "    50 would also not be valid; although 25 appears in the previous 25 numbers, the two numbers in the pair must be different.\n",
    "\n",
    "Suppose the 26th number is 45, and the first number (no longer an option, as it is more than 25 numbers ago) was 20. Now, for the next number to be valid, there needs to be some pair of numbers among 1-19, 21-25, or 45 that add up to it:\n",
    "\n",
    "    26 would still be a valid next number, as 1 and 25 are still within the previous 25 numbers.\n",
    "    65 would not be valid, as no two of the available numbers sum to it.\n",
    "    64 and 66 would both be valid, as they are the result of 19+45 and 21+45 respectively.\n",
    "\n",
    "Here is a larger example which only considers the previous 5 numbers (and has a preamble of length 5):\n",
    "\n",
    "```text\n",
    "35\n",
    "20\n",
    "15\n",
    "25\n",
    "47\n",
    "40\n",
    "62\n",
    "55\n",
    "65\n",
    "95\n",
    "102\n",
    "117\n",
    "150\n",
    "182\n",
    "127\n",
    "219\n",
    "299\n",
    "277\n",
    "309\n",
    "576\n",
    "```\n",
    "\n",
    "In this example, after the 5-number preamble, almost every number is the sum of two of the previous 5 numbers; the only number that does not follow this rule is 127.\n",
    "\n",
    "The first step of attacking the weakness in the XMAS data is to find the first number in the list (after the preamble) which is not the sum of two of the 25 numbers before it. What is the first number that does not have this property?"
   ]
  },
  {
   "cell_type": "code",
   "execution_count": 1,
   "metadata": {},
   "outputs": [],
   "source": [
    "# Python imports\n",
    "from itertools import combinations\n",
    "from pathlib import Path\n",
    "from typing import List"
   ]
  },
  {
   "cell_type": "markdown",
   "metadata": {},
   "source": [
    "For convenience, we write a function that loads the XMAS data as a list of integers (one per line of the input file)."
   ]
  },
  {
   "cell_type": "code",
   "execution_count": 2,
   "metadata": {},
   "outputs": [],
   "source": [
    "def load_xmas_data(fpath: str) -> List[int]:\n",
    "    \"\"\"Load XMAS data as a list of ints.\n",
    "    \n",
    "    :param fpath:  path to the input XMAS data file\n",
    "    \"\"\"\n",
    "    with Path(fpath).open(\"r\") as ifh:\n",
    "        return [int(_.strip()) for _ in ifh.readlines()]"
   ]
  },
  {
   "cell_type": "markdown",
   "metadata": {},
   "source": [
    "To find the invalid number, we first define a window of elements in the data of the same length as the preamble size, starting at the first element. This is, to begin with, the preamble. This set of numbers will never be reused, so we can split the list between the preamble and the rest of the data.\n",
    "\n",
    "We find the sum of all combinations of values in this window, using `itertools.combinations()` as a list.\n",
    "\n",
    "If the first value in the (rest of the) data is in the list, the number is valid and we can move on. To do this, we *pop* the first value off our window, and extend the list with the first value of the remaining data (the number we just checked) *pop*ped off the remaining data list.\n",
    "\n",
    "However, if the first value in the (rest of the) data is not in the list, it is the invalid number we're looking for, and the function returns it."
   ]
  },
  {
   "cell_type": "code",
   "execution_count": 3,
   "metadata": {},
   "outputs": [],
   "source": [
    "def find_xmas_invalid_number(data: List[int], preamble_size: int) -> int:\n",
    "    \"\"\"Return first invalid number in the passed XMAS data\n",
    "    \n",
    "    :param data:  input XMAS data\n",
    "    :param preamble_size:  the number of values in the preamble (and subsequent window)\n",
    "    \"\"\"\n",
    "    window = data[:preamble_size]\n",
    "    data = data[preamble_size:]\n",
    "    \n",
    "    while len(data):\n",
    "        if data[0] not in (sum(_) for _ in combinations(window, 2)):\n",
    "            return data[0]\n",
    "        else:\n",
    "            window.pop(0)\n",
    "            window.append(data.pop(0))"
   ]
  },
  {
   "cell_type": "markdown",
   "metadata": {},
   "source": [
    "Solving the test puzzle."
   ]
  },
  {
   "cell_type": "code",
   "execution_count": 4,
   "metadata": {},
   "outputs": [
    {
     "data": {
      "text/plain": [
       "127"
      ]
     },
     "execution_count": 4,
     "metadata": {},
     "output_type": "execute_result"
    }
   ],
   "source": [
    "data = load_xmas_data(\"day09_test.txt\")\n",
    "find_xmas_invalid_number(data, 5)"
   ]
  },
  {
   "cell_type": "markdown",
   "metadata": {},
   "source": [
    "Solving the real puzzle."
   ]
  },
  {
   "cell_type": "code",
   "execution_count": 5,
   "metadata": {},
   "outputs": [
    {
     "data": {
      "text/plain": [
       "552655238"
      ]
     },
     "execution_count": 5,
     "metadata": {},
     "output_type": "execute_result"
    }
   ],
   "source": [
    "data = load_xmas_data(\"day09_data.txt\")\n",
    "find_xmas_invalid_number(data, 25)"
   ]
  },
  {
   "cell_type": "markdown",
   "metadata": {},
   "source": [
    "## Puzzle 2\n",
    "\n",
    "The final step in breaking the XMAS encryption relies on the invalid number you just found: you must find a contiguous set of at least two numbers in your list which sum to the invalid number from step 1.\n",
    "\n",
    "Again consider the above example:\n",
    "\n",
    "```text\n",
    "35\n",
    "20\n",
    "15\n",
    "25\n",
    "47\n",
    "40\n",
    "62\n",
    "55\n",
    "65\n",
    "95\n",
    "102\n",
    "117\n",
    "150\n",
    "182\n",
    "127\n",
    "219\n",
    "299\n",
    "277\n",
    "309\n",
    "576\n",
    "```\n",
    "\n",
    "In this list, adding up all of the numbers from 15 through 40 produces the invalid number from step 1, 127. (Of course, the contiguous set of numbers in your actual list might be much longer.)\n",
    "\n",
    "To find the encryption weakness, add together the smallest and largest number in this contiguous range; in this example, these are 15 and 47, producing 62.\n",
    "\n",
    "What is the encryption weakness in your XMAS-encrypted list of numbers?"
   ]
  },
  {
   "cell_type": "markdown",
   "metadata": {},
   "source": [
    "To find the XMAS weakness in the data we write a function that first finds the corresponding invalid number.\n",
    "\n",
    "Next, we define a pointer `ptr` to an index in the data (starting from 0, the first position). We then check every window size in the data (starting from that pointer) from 2 upwards in turn, for whether it sums to a value greater than the invalid number. If it does, we move to the next pointer position and repeat the process. This takes advantage of the observation that, once the window elements first sum to a certain value - e.g. `winsum`, because the next value is a positive integer, any larger window must sum to an even larger value.\n",
    "\n",
    "If the window does not sum to a value greater than the invalid number, we check whether it sums to the invalid number itself. If it does, then we "
   ]
  },
  {
   "cell_type": "code",
   "execution_count": 6,
   "metadata": {},
   "outputs": [],
   "source": [
    "def find_xmas_weakness(data: List[int], preamble_size: int) -> int:\n",
    "    \"\"\"Return encryption weakness of passed XMAS data\n",
    "    \n",
    "    :param data:  input XMAS data\n",
    "    :preamble_size:  the number of values in the preamble (and subsequence window)\n",
    "    \"\"\"\n",
    "    invalid = find_xmas_invalid_number(data, preamble_size)\n",
    "    \n",
    "    ptr = 0\n",
    "    while ptr < len(data):\n",
    "        for winsize in range(2, len(data) - ptr):\n",
    "            window = data[ptr:ptr+winsize]\n",
    "            winsum = sum(window)\n",
    "            if winsum > invalid:\n",
    "                break\n",
    "            if winsum == invalid:\n",
    "                return min(window) + max(window)\n",
    "        ptr += 1"
   ]
  },
  {
   "cell_type": "code",
   "execution_count": 7,
   "metadata": {},
   "outputs": [
    {
     "data": {
      "text/plain": [
       "62"
      ]
     },
     "execution_count": 7,
     "metadata": {},
     "output_type": "execute_result"
    }
   ],
   "source": [
    "data = load_xmas_data(\"day09_test.txt\")\n",
    "find_xmas_weakness(data, 5)"
   ]
  },
  {
   "cell_type": "code",
   "execution_count": 8,
   "metadata": {},
   "outputs": [
    {
     "data": {
      "text/plain": [
       "70672245"
      ]
     },
     "execution_count": 8,
     "metadata": {},
     "output_type": "execute_result"
    }
   ],
   "source": [
    "data = load_xmas_data(\"day09_data.txt\")\n",
    "find_xmas_weakness(data, 25)"
   ]
  },
  {
   "cell_type": "code",
   "execution_count": null,
   "metadata": {},
   "outputs": [],
   "source": []
  }
 ],
 "metadata": {
  "kernelspec": {
   "display_name": "Python 3",
   "language": "python",
   "name": "python3"
  },
  "language_info": {
   "codemirror_mode": {
    "name": "ipython",
    "version": 3
   },
   "file_extension": ".py",
   "mimetype": "text/x-python",
   "name": "python",
   "nbconvert_exporter": "python",
   "pygments_lexer": "ipython3",
   "version": "3.8.6"
  }
 },
 "nbformat": 4,
 "nbformat_minor": 4
}
