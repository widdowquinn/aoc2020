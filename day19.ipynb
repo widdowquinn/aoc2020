{
 "cells": [
  {
   "cell_type": "markdown",
   "metadata": {},
   "source": [
    "# Day 19: Monster Messages\n",
    "\n",
    "You land in an airport surrounded by dense forest. As you walk to your high-speed train, the Elves at the Mythical Information Bureau contact you again. They think their satellite has collected an image of a sea monster! Unfortunately, the connection to the satellite is having problems, and many of the messages sent back from the satellite have been corrupted.\n",
    "\n",
    "They sent you a list of the rules valid messages should obey and a list of received messages they've collected so far (your puzzle input).\n",
    "\n",
    "The rules for valid messages (the top part of your puzzle input) are numbered and build upon each other. For example:\n",
    "\n",
    "```text\n",
    "0: 1 2\n",
    "1: \"a\"\n",
    "2: 1 3 | 3 1\n",
    "3: \"b\"\n",
    "```\n",
    "\n",
    "Some rules, like 3: \"b\", simply match a single character (in this case, b).\n",
    "\n",
    "The remaining rules list the sub-rules that must be followed; for example, the rule 0: 1 2 means that to match rule 0, the text being checked must match rule 1, and the text after the part that matched rule 1 must then match rule 2.\n",
    "\n",
    "Some of the rules have multiple lists of sub-rules separated by a pipe (|). This means that at least one list of sub-rules must match. (The ones that match might be different each time the rule is encountered.) For example, the rule 2: 1 3 | 3 1 means that to match rule 2, the text being checked must match rule 1 followed by rule 3 or it must match rule 3 followed by rule 1.\n",
    "\n",
    "Fortunately, there are no loops in the rules, so the list of possible matches will be finite. Since rule 1 matches a and rule 3 matches b, rule 2 matches either ab or ba. Therefore, rule 0 matches aab or aba.\n",
    "\n",
    "Here's a more interesting example:\n",
    "\n",
    "```text\n",
    "0: 4 1 5\n",
    "1: 2 3 | 3 2\n",
    "2: 4 4 | 5 5\n",
    "3: 4 5 | 5 4\n",
    "4: \"a\"\n",
    "5: \"b\"\n",
    "```\n",
    "\n",
    "Here, because rule 4 matches a and rule 5 matches b, rule 2 matches two letters that are the same (aa or bb), and rule 3 matches two letters that are different (ab or ba).\n",
    "\n",
    "Since rule 1 matches rules 2 and 3 once each in either order, it must match two pairs of letters, one pair with matching letters and one pair with different letters. This leaves eight possibilities: aaab, aaba, bbab, bbba, abaa, abbb, baaa, or babb.\n",
    "\n",
    "Rule 0, therefore, matches a (rule 4), then any of the eight options from rule 1, then b (rule 5): aaaabb, aaabab, abbabb, abbbab, aabaab, aabbbb, abaaab, or ababbb.\n",
    "\n",
    "The received messages (the bottom part of your puzzle input) need to be checked against the rules so you can determine which are valid and which are corrupted. Including the rules and the messages together, this might look like:\n",
    "\n",
    "```text\n",
    "0: 4 1 5\n",
    "1: 2 3 | 3 2\n",
    "2: 4 4 | 5 5\n",
    "3: 4 5 | 5 4\n",
    "4: \"a\"\n",
    "5: \"b\"\n",
    "\n",
    "ababbb\n",
    "bababa\n",
    "abbbab\n",
    "aaabbb\n",
    "aaaabbb\n",
    "```\n",
    "\n",
    "Your goal is to determine the number of messages that completely match rule 0. In the above example, ababbb and abbbab match, but bababa, aaabbb, and aaaabbb do not, producing the answer 2. The whole message must match all of rule 0; there can't be extra unmatched characters in the message. (For example, aaaabbb might appear to match rule 0 above, but it has an extra unmatched b on the end.)\n",
    "\n",
    "How many messages completely match rule 0?"
   ]
  },
  {
   "cell_type": "code",
   "execution_count": 1,
   "metadata": {},
   "outputs": [],
   "source": [
    "# Python imports\n",
    "import re\n",
    "\n",
    "from pathlib import Path"
   ]
  },
  {
   "cell_type": "markdown",
   "metadata": {},
   "source": [
    "We break out reading of the input file into two functions: one that reads the file and processes messages (`load_data()`) and passes the more tricky rule-parsing out to the second function `parse_line()`:"
   ]
  },
  {
   "cell_type": "code",
   "execution_count": 2,
   "metadata": {},
   "outputs": [],
   "source": [
    "def parse_line(line):\n",
    "    rule = []\n",
    "    for elem in line:\n",
    "        try:\n",
    "            rule.append(int(elem))\n",
    "        except ValueError as err:\n",
    "            rule.append(str(elem.replace('\"', \"\")))\n",
    "    return rule"
   ]
  },
  {
   "cell_type": "code",
   "execution_count": 3,
   "metadata": {},
   "outputs": [],
   "source": [
    "def load_data(fpath):\n",
    "    rules = {}\n",
    "    messages = []\n",
    "    state = \"rules\"\n",
    "    with Path(fpath).open(\"r\") as ifh:\n",
    "        for line in [_.strip().split() for _ in ifh.readlines()]:\n",
    "            if len(line) == 0:\n",
    "                state = \"messages\"\n",
    "                continue\n",
    "            if state == \"rules\":\n",
    "                rules[int(line[0][:-1])] = parse_line(line[1:])\n",
    "            if state == \"messages\":\n",
    "                messages.append(line[0])\n",
    "    return rules, messages"
   ]
  },
  {
   "cell_type": "markdown",
   "metadata": {},
   "source": [
    "Let's check that the rules and messages are being processed correctly."
   ]
  },
  {
   "cell_type": "code",
   "execution_count": 4,
   "metadata": {},
   "outputs": [
    {
     "name": "stdout",
     "output_type": "stream",
     "text": [
      "{0: [4, 1, 5], 1: [2, 3, '|', 3, 2], 2: [4, 4, '|', 5, 5], 3: [4, 5, '|', 5, 4], 4: ['a'], 5: ['b']}\n",
      "['ababbb', 'bababa', 'abbbab', 'aaabbb', 'aaaabbb']\n"
     ]
    }
   ],
   "source": [
    "rules, messages = load_data(\"day19_test.txt\")\n",
    "print(rules)\n",
    "print(messages)"
   ]
  },
  {
   "cell_type": "markdown",
   "metadata": {},
   "source": [
    "To solve the first puzzle, we compile each of the rules into a corresponding *regular expression*. Rule 0 is the \"final\" compiled expression, and the other rules are partial. Two rules correspond to letters: `a` and `b`. The rest are numerals. So long as there are numerals in any of the rules, our final compilation of the ultimate regular expression in rule zero is not complete, so we have a function `has_digit()` to test for this.\n",
    "\n",
    "To compile rule 0, we use the function `compile_rules()`. This first goes through all of the rules, wrapping each in parentheses as its own group. Then, so long as we have not compiled rule 0 completely, we keep looping over the rules, replacing digits with the corresponding compiled rule (so long as that rule is compiled - i.e. has no digits in it). \n",
    "\n",
    "That eventually completes the compilation of rule 0 (and all other rules), and we then join the compiled rules into a string that can be understood as a regular expression by Python's `re` module.\n",
    "\n",
    "The `count_valid_messages()` function tests each message in turn against rule 0, and returns the count of those that match."
   ]
  },
  {
   "cell_type": "code",
   "execution_count": 5,
   "metadata": {},
   "outputs": [],
   "source": [
    "def has_digit(rules):\n",
    "    for key, rule in rules.items():\n",
    "        for elem in rule:\n",
    "            if isinstance(elem, int):\n",
    "                return True\n",
    "    return False\n",
    "\n",
    "def compile_rules(rules):\n",
    "    for key, rule in rules.items():\n",
    "        if rule not in ([\"a\"], [\"b\"]):\n",
    "            rules[key] = [\"(\"] + rule + [\")\"]\n",
    "    \n",
    "    while has_digit(rules):\n",
    "        for key, rule in rules.items():\n",
    "            new_rule = []\n",
    "            for idx in rule:\n",
    "                if str(idx) in \"ab()|\":\n",
    "                    new_rule += [idx]\n",
    "                else:\n",
    "                    new_rule += rules[idx]\n",
    "            rules[key] = new_rule\n",
    "            \n",
    "    for key, rule in rules.items():\n",
    "        rules[key] = \"\".join(rule)\n",
    "    return rules\n",
    "\n",
    "def count_valid_messages(rules, messages):\n",
    "    count = 0\n",
    "    for message in messages:\n",
    "        if re.match(rules[0]+\"$\", message) is not None:\n",
    "            count += 1\n",
    "    return count"
   ]
  },
  {
   "cell_type": "markdown",
   "metadata": {},
   "source": [
    "We test these functions first on the test data:"
   ]
  },
  {
   "cell_type": "code",
   "execution_count": 6,
   "metadata": {},
   "outputs": [
    {
     "data": {
      "text/plain": [
       "2"
      ]
     },
     "execution_count": 6,
     "metadata": {},
     "output_type": "execute_result"
    }
   ],
   "source": [
    "rules, messages = load_data(\"day19_test.txt\")\n",
    "rules = compile_rules(rules)\n",
    "count_valid_messages(rules, messages)"
   ]
  },
  {
   "cell_type": "markdown",
   "metadata": {},
   "source": [
    "And then solve the puzzle."
   ]
  },
  {
   "cell_type": "code",
   "execution_count": 7,
   "metadata": {},
   "outputs": [
    {
     "data": {
      "text/plain": [
       "208"
      ]
     },
     "execution_count": 7,
     "metadata": {},
     "output_type": "execute_result"
    }
   ],
   "source": [
    "rules, messages = load_data(\"day19_data.txt\")\n",
    "rules = compile_rules(rules)\n",
    "count_valid_messages(rules, messages)"
   ]
  },
  {
   "cell_type": "markdown",
   "metadata": {},
   "source": [
    "## Part Two\n",
    "\n",
    "As you look over the list of messages, you realize your matching rules aren't quite right. To fix them, completely replace rules 8: 42 and 11: 42 31 with the following:\n",
    "\n",
    "```text\n",
    "8: 42 | 42 8\n",
    "11: 42 31 | 42 11 31\n",
    "```\n",
    "\n",
    "This small change has a big impact: now, the rules do contain loops, and the list of messages they could hypothetically match is infinite. You'll need to determine how these changes affect which messages are valid.\n",
    "\n",
    "Fortunately, many of the rules are unaffected by this change; it might help to start by looking at which rules always match the same set of values and how those rules (especially rules 42 and 31) are used by the new versions of rules 8 and 11.\n",
    "\n",
    "(Remember, you only need to handle the rules you have; building a solution that could handle any hypothetical combination of rules would be significantly more difficult.)\n",
    "\n",
    "For example:\n",
    "\n",
    "```text\n",
    "42: 9 14 | 10 1\n",
    "9: 14 27 | 1 26\n",
    "10: 23 14 | 28 1\n",
    "1: \"a\"\n",
    "11: 42 31\n",
    "5: 1 14 | 15 1\n",
    "19: 14 1 | 14 14\n",
    "12: 24 14 | 19 1\n",
    "16: 15 1 | 14 14\n",
    "31: 14 17 | 1 13\n",
    "6: 14 14 | 1 14\n",
    "2: 1 24 | 14 4\n",
    "0: 8 11\n",
    "13: 14 3 | 1 12\n",
    "15: 1 | 14\n",
    "17: 14 2 | 1 7\n",
    "23: 25 1 | 22 14\n",
    "28: 16 1\n",
    "4: 1 1\n",
    "20: 14 14 | 1 15\n",
    "3: 5 14 | 16 1\n",
    "27: 1 6 | 14 18\n",
    "14: \"b\"\n",
    "21: 14 1 | 1 14\n",
    "25: 1 1 | 1 14\n",
    "22: 14 14\n",
    "8: 42\n",
    "26: 14 22 | 1 20\n",
    "18: 15 15\n",
    "7: 14 5 | 1 21\n",
    "24: 14 1\n",
    "\n",
    "abbbbbabbbaaaababbaabbbbabababbbabbbbbbabaaaa\n",
    "bbabbbbaabaabba\n",
    "babbbbaabbbbbabbbbbbaabaaabaaa\n",
    "aaabbbbbbaaaabaababaabababbabaaabbababababaaa\n",
    "bbbbbbbaaaabbbbaaabbabaaa\n",
    "bbbababbbbaaaaaaaabbababaaababaabab\n",
    "ababaaaaaabaaab\n",
    "ababaaaaabbbaba\n",
    "baabbaaaabbaaaababbaababb\n",
    "abbbbabbbbaaaababbbbbbaaaababb\n",
    "aaaaabbaabaaaaababaa\n",
    "aaaabbaaaabbaaa\n",
    "aaaabbaabbaaaaaaabbbabbbaaabbaabaaa\n",
    "babaaabbbaaabaababbaabababaaab\n",
    "aabbbbbaabbbaaaaaabbbbbababaaaaabbaaabba\n",
    "```\n",
    "\n",
    "Without updating rules 8 and 11, these rules only match three messages: bbabbbbaabaabba, ababaaaaaabaaab, and ababaaaaabbbaba.\n",
    "\n",
    "However, after updating rules 8 and 11, a total of 12 messages match:\n",
    "\n",
    "    bbabbbbaabaabba\n",
    "    babbbbaabbbbbabbbbbbaabaaabaaa\n",
    "    aaabbbbbbaaaabaababaabababbabaaabbababababaaa\n",
    "    bbbbbbbaaaabbbbaaabbabaaa\n",
    "    bbbababbbbaaaaaaaabbababaaababaabab\n",
    "    ababaaaaaabaaab\n",
    "    ababaaaaabbbaba\n",
    "    baabbaaaabbaaaababbaababb\n",
    "    abbbbabbbbaaaababbbbbbaaaababb\n",
    "    aaaaabbaabaaaaababaa\n",
    "    aaaabbaabbaaaaaaabbbabbbaaabbaabaaa\n",
    "    aabbbbbaabbbaaaaaabbbbbababaaaaabbaaabba\n",
    "\n",
    "After updating rules 8 and 11, how many messages completely match rule 0?"
   ]
  },
  {
   "cell_type": "markdown",
   "metadata": {},
   "source": [
    "There's now a second set of test data. We try the original solution on this:"
   ]
  },
  {
   "cell_type": "code",
   "execution_count": 8,
   "metadata": {},
   "outputs": [
    {
     "data": {
      "text/plain": [
       "3"
      ]
     },
     "execution_count": 8,
     "metadata": {},
     "output_type": "execute_result"
    }
   ],
   "source": [
    "rules, messages = load_data(\"day19_test2.txt\")\n",
    "rules = compile_rules(rules)\n",
    "count_valid_messages(rules, messages)"
   ]
  },
  {
   "cell_type": "markdown",
   "metadata": {},
   "source": [
    "Adding the new rules introduces infinite loops, which *can* be represented in regular expressions. However, I could not find a way to specify matching an equal number of pattern repeats for rule 11 (essentially `a{k}b{k}` for any `k`, but not `a{k}b{m}` where `k` != `m`). The naive representation of this rule works for the test data but not the real puzzle, so I \"cheated\" by specifying rule 11 manually.\n",
    "\n",
    "First though, we have to account for cases where the rule contains the number for itself, by rewriting `compile_rules()`:"
   ]
  },
  {
   "cell_type": "code",
   "execution_count": 9,
   "metadata": {},
   "outputs": [],
   "source": [
    "def compile_rules(rules):\n",
    "    for key, rule in rules.items():\n",
    "        if rule not in ([\"a\"], [\"b\"]):\n",
    "            rules[key] = [\"(\"] + rule + [\")\"]\n",
    "    \n",
    "    while has_digit(rules):\n",
    "        for key, rule in rules.items():\n",
    "            new_rule = []\n",
    "            for idx in rule:\n",
    "                if str(idx) in \"ab()|+?\":\n",
    "                    new_rule += [idx]\n",
    "                elif re.match(\"\\{\\d*\\}\", str(idx)):\n",
    "                    new_rule += [idx]\n",
    "                else:\n",
    "                    new_rule += rules[idx]\n",
    "            rules[key] = new_rule\n",
    "            \n",
    "    for key, rule in rules.items():\n",
    "        rules[key] = \"\".join(rule)\n",
    "    return rules"
   ]
  },
  {
   "cell_type": "markdown",
   "metadata": {},
   "source": [
    "I specified the naive version of rule 11 for the test data, which worked:"
   ]
  },
  {
   "cell_type": "code",
   "execution_count": 10,
   "metadata": {},
   "outputs": [
    {
     "data": {
      "text/plain": [
       "12"
      ]
     },
     "execution_count": 10,
     "metadata": {},
     "output_type": "execute_result"
    }
   ],
   "source": [
    "rules, messages = load_data(\"day19_test2.txt\")\n",
    "rules[8] = [\"(\", 42, \")\", \"+\", \"?\"]\n",
    "rules[11] = [\"(\", 42, \")\", \"+\", \"?\", \"(\", 31, \")\", \"+\", \"?\"]\n",
    "rules = compile_rules(rules)\n",
    "count_valid_messages(rules, messages)"
   ]
  },
  {
   "cell_type": "markdown",
   "metadata": {},
   "source": [
    "But it doesn't work for the real data. Happily, manual specification of an equal number of repeats solves the problem."
   ]
  },
  {
   "cell_type": "code",
   "execution_count": 11,
   "metadata": {},
   "outputs": [
    {
     "data": {
      "text/plain": [
       "316"
      ]
     },
     "execution_count": 11,
     "metadata": {},
     "output_type": "execute_result"
    }
   ],
   "source": [
    "rules, messages = load_data(\"day19_data.txt\")\n",
    "rules[8] = [\"(\", 42, \")\", \"+\", \"?\"]\n",
    "rules[11] = [\"(\", 42, \")\", \"{1}\", \"(\", 31, \")\", \"{1}\", \"|\",\n",
    "             \"(\", 42, \")\", \"{2}\", \"(\", 31, \")\", \"{2}\", \"|\",\n",
    "             \"(\", 42, \")\", \"{3}\", \"(\", 31, \")\", \"{3}\", \"|\",\n",
    "             \"(\", 42, \")\", \"{4}\", \"(\", 31, \")\", \"{4}\", \"|\",\n",
    "             \"(\", 42, \")\", \"{5}\", \"(\", 31, \")\", \"{5}\", \"|\",\n",
    "             \"(\", 42, \")\", \"{6}\", \"(\", 31, \")\", \"{6}\", \"|\",\n",
    "             \"(\", 42, \")\", \"{7}\", \"(\", 31, \")\", \"{7}\",]\n",
    "rules = compile_rules(rules)\n",
    "count_valid_messages(rules, messages)"
   ]
  },
  {
   "cell_type": "code",
   "execution_count": null,
   "metadata": {},
   "outputs": [],
   "source": []
  }
 ],
 "metadata": {
  "kernelspec": {
   "display_name": "Python 3",
   "language": "python",
   "name": "python3"
  },
  "language_info": {
   "codemirror_mode": {
    "name": "ipython",
    "version": 3
   },
   "file_extension": ".py",
   "mimetype": "text/x-python",
   "name": "python",
   "nbconvert_exporter": "python",
   "pygments_lexer": "ipython3",
   "version": "3.8.6"
  }
 },
 "nbformat": 4,
 "nbformat_minor": 4
}
