{
 "cells": [
  {
   "cell_type": "markdown",
   "metadata": {},
   "source": [
    "# Day 5: Binary Boarding\n",
    "\n",
    "You board your plane only to discover a new problem: you dropped your boarding pass! You aren't sure which seat is yours, and all of the flight attendants are busy with the flood of people that suddenly made it through passport control.\n",
    "\n",
    "You write a quick program to use your phone's camera to scan all of the nearby boarding passes (your puzzle input); perhaps you can find your seat through process of elimination.\n",
    "\n",
    "Instead of zones or groups, this airline uses binary space partitioning to seat people. A seat might be specified like FBFBBFFRLR, where F means \"front\", B means \"back\", L means \"left\", and R means \"right\".\n",
    "\n",
    "The first 7 characters will either be F or B; these specify exactly one of the 128 rows on the plane (numbered 0 through 127). Each letter tells you which half of a region the given seat is in. Start with the whole list of rows; the first letter indicates whether the seat is in the front (0 through 63) or the back (64 through 127). The next letter indicates which half of that region the seat is in, and so on until you're left with exactly one row.\n",
    "\n",
    "For example, consider just the first seven characters of FBFBBFFRLR:\n",
    "\n",
    "    Start by considering the whole range, rows 0 through 127.\n",
    "    F means to take the lower half, keeping rows 0 through 63.\n",
    "    B means to take the upper half, keeping rows 32 through 63.\n",
    "    F means to take the lower half, keeping rows 32 through 47.\n",
    "    B means to take the upper half, keeping rows 40 through 47.\n",
    "    B keeps rows 44 through 47.\n",
    "    F keeps rows 44 through 45.\n",
    "    The final F keeps the lower of the two, row 44.\n",
    "\n",
    "The last three characters will be either L or R; these specify exactly one of the 8 columns of seats on the plane (numbered 0 through 7). The same process as above proceeds again, this time with only three steps. L means to keep the lower half, while R means to keep the upper half.\n",
    "\n",
    "For example, consider just the last 3 characters of FBFBBFFRLR:\n",
    "\n",
    "    Start by considering the whole range, columns 0 through 7.\n",
    "    R means to take the upper half, keeping columns 4 through 7.\n",
    "    L means to take the lower half, keeping columns 4 through 5.\n",
    "    The final R keeps the upper of the two, column 5.\n",
    "\n",
    "So, decoding FBFBBFFRLR reveals that it is the seat at row 44, column 5.\n",
    "\n",
    "Every seat also has a unique seat ID: multiply the row by 8, then add the column. In this example, the seat has ID 44 * 8 + 5 = 357.\n",
    "\n",
    "Here are some other boarding passes:\n",
    "\n",
    "    BFFFBBFRRR: row 70, column 7, seat ID 567.\n",
    "    FFFBBBFRRR: row 14, column 7, seat ID 119.\n",
    "    BBFFBBFRLL: row 102, column 4, seat ID 820.\n",
    "\n",
    "## Puzzle 1\n",
    "\n",
    "As a sanity check, look through your list of boarding passes. What is the highest seat ID on a boarding pass?"
   ]
  },
  {
   "cell_type": "code",
   "execution_count": 1,
   "metadata": {},
   "outputs": [],
   "source": [
    "# Python imports\n",
    "from pathlib import Path\n",
    "from typing import List, Tuple"
   ]
  },
  {
   "cell_type": "markdown",
   "metadata": {},
   "source": [
    "We write a function to parse a single boarding pass and give the row and seat number as a tuple."
   ]
  },
  {
   "cell_type": "code",
   "execution_count": 2,
   "metadata": {},
   "outputs": [],
   "source": [
    "def parse_boarding_pass(code: str, numrows: int=128, numcols: int=8) -> Tuple[int]:\n",
    "    \"\"\"Return row and seat number tuple for a boarding pass code\n",
    "    \n",
    "    :param code:  boarding pass code\n",
    "    :param numrows:  number of rows on vessel\n",
    "    :param numrows:  number of seats in each row\n",
    "    \n",
    "    This is essentially a pair of binary search, excluding half of our list at\n",
    "    a time until only a single value is left. It operates first for rows, and\n",
    "    then for seats (columns).\n",
    "    \"\"\"\n",
    "    rows = list(range(numrows))\n",
    "    seats = list(range(numcols))\n",
    "    \n",
    "    for char in code:\n",
    "        if char == \"F\":\n",
    "            rows = rows[:(len(rows)//2)]\n",
    "        elif char == \"B\":\n",
    "            rows = rows[(len(rows)//2):]\n",
    "        elif char == \"L\":\n",
    "            seats = seats[:(len(seats)//2)]\n",
    "        elif char == \"R\":\n",
    "            seats = seats[(len(seats)//2):]\n",
    "    \n",
    "    return (rows[0], seats[0])"
   ]
  },
  {
   "cell_type": "markdown",
   "metadata": {},
   "source": [
    "The next function calculates the seat ID as defined in the introduction text."
   ]
  },
  {
   "cell_type": "code",
   "execution_count": 3,
   "metadata": {},
   "outputs": [],
   "source": [
    "def calc_seat_id(code: str, numrows: int=128, numcols: int=8) -> int:\n",
    "    \"\"\"Return seat ID for a boarding pass code\n",
    "    \n",
    "    :param code:  boarding pass code\n",
    "    :param numrows:  number of rows on vessel\n",
    "    :param numrows:  number of seats in each row\n",
    "    \"\"\"\n",
    "    row, seat = parse_boarding_pass(code)\n",
    "    return (row * 8) + seat"
   ]
  },
  {
   "cell_type": "markdown",
   "metadata": {},
   "source": [
    "And we have a function to load and parse boarding passes from a file"
   ]
  },
  {
   "cell_type": "code",
   "execution_count": 4,
   "metadata": {},
   "outputs": [],
   "source": [
    "def load_passes(fpath: str) -> List[str]:\n",
    "    with Path(fpath).open(\"r\") as ifh:\n",
    "        return [_.strip() for _ in ifh.readlines()]"
   ]
  },
  {
   "cell_type": "markdown",
   "metadata": {},
   "source": [
    "We test these functions on the example data:"
   ]
  },
  {
   "cell_type": "code",
   "execution_count": 5,
   "metadata": {},
   "outputs": [
    {
     "data": {
      "text/plain": [
       "(44, 5)"
      ]
     },
     "execution_count": 5,
     "metadata": {},
     "output_type": "execute_result"
    }
   ],
   "source": [
    "parse_boarding_pass(\"FBFBBFFRLR\")"
   ]
  },
  {
   "cell_type": "code",
   "execution_count": 6,
   "metadata": {},
   "outputs": [
    {
     "name": "stdout",
     "output_type": "stream",
     "text": [
      "567\n",
      "119\n",
      "820\n"
     ]
    }
   ],
   "source": [
    "passes = load_passes(\"day05_test.txt\")\n",
    "for bpass in passes:\n",
    "    print(calc_seat_id(bpass))\n",
    "    "
   ]
  },
  {
   "cell_type": "markdown",
   "metadata": {},
   "source": [
    "And then solve the real puzzle."
   ]
  },
  {
   "cell_type": "code",
   "execution_count": 7,
   "metadata": {},
   "outputs": [
    {
     "data": {
      "text/plain": [
       "822"
      ]
     },
     "execution_count": 7,
     "metadata": {},
     "output_type": "execute_result"
    }
   ],
   "source": [
    "passes = load_passes(\"day05_data.txt\")\n",
    "pass_ids = [calc_seat_id(_) for _ in passes]\n",
    "max(pass_ids)"
   ]
  },
  {
   "cell_type": "markdown",
   "metadata": {},
   "source": [
    "## Puzzle 2\n",
    "\n",
    "Ding! The \"fasten seat belt\" signs have turned on. Time to find your seat.\n",
    "\n",
    "It's a completely full flight, so your seat should be the only missing boarding pass in your list. However, there's a catch: some of the seats at the very front and back of the plane don't exist on this aircraft, so they'll be missing from your list as well.\n",
    "\n",
    "Your seat wasn't at the very front or back, though; the seats with IDs +1 and -1 from yours will be in your list.\n",
    "\n",
    "What is the ID of your seat?"
   ]
  },
  {
   "cell_type": "markdown",
   "metadata": {},
   "source": [
    "This is a straightforward identification of the first missing number in the list (we don't need to consider the front and back of the plane as those values aren't in the list."
   ]
  },
  {
   "cell_type": "code",
   "execution_count": 8,
   "metadata": {},
   "outputs": [],
   "source": [
    "def find_seat(numlist: List[int]) -> List[int]:\n",
    "    \"\"\"Return IDs of missing seats in the list\n",
    "    \n",
    "    :param numlist:  list of seatIDs\n",
    "    \n",
    "    We search from the lowest to the highest value in the list, only.\n",
    "    \"\"\"\n",
    "    numlist = sorted(numlist)\n",
    "    return [seat for seat in range(numlist[0], numlist[-1]+1) if seat not in numlist]"
   ]
  },
  {
   "cell_type": "code",
   "execution_count": 9,
   "metadata": {},
   "outputs": [
    {
     "data": {
      "text/plain": [
       "[705]"
      ]
     },
     "execution_count": 9,
     "metadata": {},
     "output_type": "execute_result"
    }
   ],
   "source": [
    "find_seat(pass_ids)"
   ]
  },
  {
   "cell_type": "code",
   "execution_count": null,
   "metadata": {},
   "outputs": [],
   "source": []
  }
 ],
 "metadata": {
  "kernelspec": {
   "display_name": "Python 3",
   "language": "python",
   "name": "python3"
  },
  "language_info": {
   "codemirror_mode": {
    "name": "ipython",
    "version": 3
   },
   "file_extension": ".py",
   "mimetype": "text/x-python",
   "name": "python",
   "nbconvert_exporter": "python",
   "pygments_lexer": "ipython3",
   "version": "3.8.6"
  }
 },
 "nbformat": 4,
 "nbformat_minor": 4
}
