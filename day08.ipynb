{
 "cells": [
  {
   "cell_type": "markdown",
   "metadata": {},
   "source": [
    "# Day 8: Handheld Halting\n",
    "\n",
    "Your flight to the major airline hub reaches cruising altitude without incident. While you consider checking the in-flight menu for one of those drinks that come with a little umbrella, you are interrupted by the kid sitting next to you.\n",
    "\n",
    "Their handheld game console won't turn on! They ask if you can take a look.\n",
    "\n",
    "You narrow the problem down to a strange infinite loop in the boot code (your puzzle input) of the device. You should be able to fix it, but first you need to be able to run the code in isolation.\n",
    "\n",
    "## Puzzle 1\n",
    "\n",
    "The boot code is represented as a text file with one instruction per line of text. Each instruction consists of an operation (acc, jmp, or nop) and an argument (a signed number like +4 or -20).\n",
    "\n",
    "    acc increases or decreases a single global value called the accumulator by the value given in the argument. For example, acc +7 would increase the accumulator by 7. The accumulator starts at 0. After an acc instruction, the instruction immediately below it is executed next.\n",
    "    jmp jumps to a new instruction relative to itself. The next instruction to execute is found using the argument as an offset from the jmp instruction; for example, jmp +2 would skip the next instruction, jmp +1 would continue to the instruction immediately below it, and jmp -20 would cause the instruction 20 lines above to be executed next.\n",
    "    nop stands for No OPeration - it does nothing. The instruction immediately below it is executed next.\n",
    "\n",
    "For example, consider the following program:\n",
    "\n",
    "```text\n",
    "nop +0\n",
    "acc +1\n",
    "jmp +4\n",
    "acc +3\n",
    "jmp -3\n",
    "acc -99\n",
    "acc +1\n",
    "jmp -4\n",
    "acc +6\n",
    "```\n",
    "\n",
    "These instructions are visited in this order:\n",
    "\n",
    "```text\n",
    "nop +0  | 1\n",
    "acc +1  | 2, 8(!)\n",
    "jmp +4  | 3\n",
    "acc +3  | 6\n",
    "jmp -3  | 7\n",
    "acc -99 |\n",
    "acc +1  | 4\n",
    "jmp -4  | 5\n",
    "acc +6  |\n",
    "```\n",
    "\n",
    "First, the nop +0 does nothing. Then, the accumulator is increased from 0 to 1 (acc +1) and jmp +4 sets the next instruction to the other acc +1 near the bottom. After it increases the accumulator from 1 to 2, jmp -4 executes, setting the next instruction to the only acc +3. It sets the accumulator to 5, and jmp -3 causes the program to continue back at the first acc +1.\n",
    "\n",
    "This is an infinite loop: with this sequence of jumps, the program will run forever. The moment the program tries to run any instruction a second time, you know it will never terminate.\n",
    "\n",
    "Immediately before the program would run an instruction a second time, the value in the accumulator is 5.\n",
    "\n",
    "Run your copy of the boot code. Immediately before any instruction is executed a second time, what value is in the accumulator?"
   ]
  },
  {
   "cell_type": "code",
   "execution_count": 1,
   "metadata": {},
   "outputs": [],
   "source": [
    "# Python imports\n",
    "from pathlib import Path\n",
    "from typing import List, Tuple"
   ]
  },
  {
   "cell_type": "markdown",
   "metadata": {},
   "source": [
    "Our solution here is to create a \"machine\" that runs the program. The machine works like a Turing machine. It has an accumulator that holds a value, a list of instructions as `(opcode, value)` tuples, and a pointer that holds the index of the current instruction in the program list.\n",
    "\n",
    "Each opcode in the program gets its own *method* in the machine that adjusts the pointer and accumulator values according to the instructions in the program.\n",
    "\n",
    "When it runs, the machine steps through the program, following the instructions in the program as defined above by calling the machine's *methods* with the values in the program's instruction.\n",
    "\n",
    "As we need to test for infinite loops, we give the machine a history of which pointer values have been seen. An infinite loop would visit the same pointer twice so, when that happens, we raise an error.\n",
    "\n",
    "We assume that attempting to point to a pointer position outside the program is a valid way to stop the program, and report the value in the accumulator at that point."
   ]
  },
  {
   "cell_type": "code",
   "execution_count": 2,
   "metadata": {},
   "outputs": [],
   "source": [
    "class Instruction:\n",
    "    \n",
    "    \"\"\"Represents an instruction for the Machine\"\"\"\n",
    "    \n",
    "    opcode: str\n",
    "    val: int\n",
    "        \n",
    "    def __init__(self, opcode: str, val: int) -> None:\n",
    "        \"\"\"Instantiate an instruction.\n",
    "        \n",
    "        :param opcode:  instruction name\n",
    "        :param val:  instruction parameter\n",
    "        \"\"\"\n",
    "        self.opcode = opcode\n",
    "        self.val = val\n",
    "        \n",
    "    def __repr__(self) -> None:\n",
    "        return f\"Instruction <id(self)>: {opcode} {val}\"\n",
    "\n",
    "    def __str__(self) -> None:\n",
    "        return f\"{self.opcode} {self.val}\"\n",
    "\n",
    "    \n",
    "class Machine:\n",
    "    \n",
    "    \"\"\"Represents a machine for solving the puzzles\"\"\"\n",
    "    \n",
    "    acc: int = 0  # accumulator\n",
    "    _history: List[int]  # history of visited pointer values\n",
    "    prog: List  # the machine's program\n",
    "    ptr: int = 0  # pointer to a line in the program\n",
    "    verbose: False  # if True, prints the instructions as they are executed\n",
    "        \n",
    "    def __init__(self, verbose=False) -> None:\n",
    "        \"\"\"Instantiate machine.\"\"\"\n",
    "        self.reset()\n",
    "                \n",
    "        self.initialise_opcodes()\n",
    "        \n",
    "        self.verbose = verbose\n",
    "\n",
    "    def _acc(self, val: int) -> None:\n",
    "        \"\"\"Perform acc instruction\n",
    "        \n",
    "        :param val:  increment for the accumulator\n",
    "        \"\"\"\n",
    "        self.acc += val\n",
    "        self.ptr += 1\n",
    "        \n",
    "    def _check_history(self) -> None:\n",
    "        \"\"\"Raise runtime error if current pointer value is in history\"\"\"\n",
    "        if self.ptr in self._history:\n",
    "            raise RuntimeError(f\"Infinite Loop: {self.acc}\")\n",
    "        \n",
    "    def _get_next_instruction(self) -> Instruction:\n",
    "        \"\"\"Return program instruction at current pointer\"\"\"\n",
    "        opcode, val = self.prog[self.ptr]\n",
    "        \n",
    "        return Instruction(opcode, val)\n",
    "    \n",
    "    def initialise_opcodes(self) -> None:\n",
    "        \"\"\"Create distribution dictionary of methods for opcodes\"\"\"\n",
    "        self.opcode_fn = {\n",
    "            \"acc\": self._acc,\n",
    "            \"jmp\": self._jmp,\n",
    "            \"nop\": self._nop,\n",
    "        }\n",
    "    \n",
    "    def _jmp(self, val: int) -> None:\n",
    "        \"\"\"Perform jmp instruction:\n",
    "        \n",
    "        :param val:  number of instructions to jump\n",
    "        \n",
    "        negative values jump backwards in the program; positive values\n",
    "        jump forwards\n",
    "        \"\"\"\n",
    "        self.ptr += val\n",
    "    \n",
    "    def load_program(self, fpath: str) -> None:\n",
    "        \"\"\"Load instructions from file\"\"\"\n",
    "        with Path(fpath).open(\"r\") as ifh:\n",
    "            for line in ifh.readlines():\n",
    "                ins, val = line.strip().split()\n",
    "                self.prog.append((ins, int(val)))\n",
    "    \n",
    "    def _nop(self, val: int) -> None:\n",
    "        \"\"\"Perform nop instruction\n",
    "        \n",
    "        :param val:  no action is performed with this value\n",
    "        \"\"\"\n",
    "        self.ptr += 1\n",
    "    \n",
    "    def read_program(self, prog: List[Tuple[str, int]]) -> None:\n",
    "        \"\"\"Read passed program\n",
    "        \n",
    "        :param prog:  machine program as a list of (instruction, value) tuples\n",
    "        \"\"\"\n",
    "        self.reset_program()\n",
    "        self.prog = prog\n",
    "\n",
    "    def reset(self) -> None:\n",
    "        \"\"\"Clear machine state\"\"\"\n",
    "        self.reset_accumulator()\n",
    "        self.reset_history()\n",
    "        self.reset_program()\n",
    "        self.reset_pointer()\n",
    "        \n",
    "    def reset_accumulator(self) -> None:\n",
    "        \"\"\"Clear accumulator\"\"\"\n",
    "        self.acc = 0\n",
    "        \n",
    "    def reset_history(self) -> None:\n",
    "        \"\"\"Clear pointer history\"\"\"\n",
    "        self._history = []\n",
    "\n",
    "    def reset_program(self) -> None:\n",
    "        \"\"\"Clear program\"\"\"\n",
    "        self.prog = []\n",
    "\n",
    "    def reset_pointer(self) -> None:\n",
    "        \"\"\"Clear pointer\"\"\"\n",
    "        self.ptr = 0      \n",
    "        \n",
    "    def run(self) -> int:\n",
    "        \"\"\"Run current program\"\"\"\n",
    "        while True:\n",
    "            self._check_history()  # guard against infinite loops\n",
    "            self._history.append(self.ptr)\n",
    "            try:\n",
    "                ins = self._get_next_instruction()\n",
    "            except IndexError:  # program completes\n",
    "                return self.acc\n",
    "            if self.verbose:\n",
    "                print(f\"{self.ptr:04d}: {ins}\")\n",
    "            self._run_instruction(ins)\n",
    "            \n",
    "    def _run_instruction(self, ins: Instruction) -> None:\n",
    "        \"\"\"Execute passed Instruction\n",
    "        \n",
    "        :param ins:  Instruction instance to execute\n",
    "        \"\"\"\n",
    "        self.opcode_fn[ins.opcode](ins.val)\n",
    "        \n",
    "    def __repr__(self):\n",
    "        return f\"Machine <id(self)>, {len(self.prog)} instructions\"\n",
    "    \n",
    "    def __str__(self):\n",
    "        return \"\\n\".join([f\"{opn} {val}\" for opn, val in self.prog])"
   ]
  },
  {
   "cell_type": "markdown",
   "metadata": {},
   "source": [
    "Solve the test puzzle."
   ]
  },
  {
   "cell_type": "code",
   "execution_count": 3,
   "metadata": {},
   "outputs": [
    {
     "name": "stdout",
     "output_type": "stream",
     "text": [
      "Infinite Loop: 5\n"
     ]
    }
   ],
   "source": [
    "machine = Machine()\n",
    "machine.load_program(\"day08_test.txt\")\n",
    "try:\n",
    "    machine.run()\n",
    "except RuntimeError as err:\n",
    "    print(err)"
   ]
  },
  {
   "cell_type": "markdown",
   "metadata": {},
   "source": [
    "Solve the real puzzle."
   ]
  },
  {
   "cell_type": "code",
   "execution_count": 4,
   "metadata": {},
   "outputs": [
    {
     "name": "stdout",
     "output_type": "stream",
     "text": [
      "Infinite Loop: 2080\n"
     ]
    }
   ],
   "source": [
    "machine = Machine()\n",
    "machine.load_program(\"day08_data.txt\")\n",
    "try:\n",
    "    machine.run()\n",
    "except RuntimeError as err:\n",
    "    print(err)"
   ]
  },
  {
   "cell_type": "markdown",
   "metadata": {},
   "source": [
    "## Part Two\n",
    "\n",
    "After some careful analysis, you believe that exactly one instruction is corrupted.\n",
    "\n",
    "Somewhere in the program, either a jmp is supposed to be a nop, or a nop is supposed to be a jmp. (No acc instructions were harmed in the corruption of this boot code.)\n",
    "\n",
    "The program is supposed to terminate by attempting to execute an instruction immediately after the last instruction in the file. By changing exactly one jmp or nop, you can repair the boot code and make it terminate correctly.\n",
    "\n",
    "For example, consider the same program from above:\n",
    "\n",
    "```text\n",
    "nop +0\n",
    "acc +1\n",
    "jmp +4\n",
    "acc +3\n",
    "jmp -3\n",
    "acc -99\n",
    "acc +1\n",
    "jmp -4\n",
    "acc +6\n",
    "```\n",
    "\n",
    "If you change the first instruction from nop +0 to jmp +0, it would create a single-instruction infinite loop, never leaving that instruction. If you change almost any of the jmp instructions, the program will still eventually find another jmp instruction and loop forever.\n",
    "\n",
    "However, if you change the second-to-last instruction (from jmp -4 to nop -4), the program terminates! The instructions are visited in this order:\n",
    "\n",
    "```text\n",
    "nop +0  | 1\n",
    "acc +1  | 2\n",
    "jmp +4  | 3\n",
    "acc +3  |\n",
    "jmp -3  |\n",
    "acc -99 |\n",
    "acc +1  | 4\n",
    "nop -4  | 5\n",
    "acc +6  | 6\n",
    "```\n",
    "\n",
    "After the last instruction (acc +6), the program terminates by attempting to run the instruction below the last instruction in the file. With this change, after the program terminates, the accumulator contains the value 8 (acc +1, acc +1, acc +6).\n",
    "\n",
    "Fix the program so that it terminates normally by changing exactly one jmp (to nop) or nop (to jmp). What is the value of the accumulator after the program terminates?"
   ]
  },
  {
   "cell_type": "markdown",
   "metadata": {},
   "source": [
    "Now we need to load the program and mutate/manipulate it, outside the machine. So we first write a function that loads a program for the machine into a variable."
   ]
  },
  {
   "cell_type": "code",
   "execution_count": 5,
   "metadata": {},
   "outputs": [],
   "source": [
    "def load_program(fpath: str) -> List[Tuple[str, int]]:\n",
    "    \"\"\"Load instructions from file:\n",
    "    \n",
    "    :param fpath:  path to program file\n",
    "    \"\"\"\n",
    "    inst = []\n",
    "    with Path(fpath).open(\"r\") as ifh:\n",
    "        for line in ifh.readlines():\n",
    "            ins, val = line.strip().split()\n",
    "            inst.append((ins, int(val)))\n",
    "    return inst"
   ]
  },
  {
   "cell_type": "markdown",
   "metadata": {},
   "source": [
    "Then we write a function that takes a program as input, and returns a list containing that program, and all other programs where a pair of specified instructions are swapped exactly once."
   ]
  },
  {
   "cell_type": "code",
   "execution_count": 6,
   "metadata": {},
   "outputs": [],
   "source": [
    "def mutate_programs(prog: List[Tuple[str, int]], ins1: str, ins2: str) -> List[List[Tuple[str, int]]]:\n",
    "    \"\"\"Return all programs with exactly one ins1 and ins2 swapped\n",
    "    \n",
    "    :param prog:  base program to be mutated\n",
    "    :param ins1:  instruction code that can be swapped\n",
    "    :param ins2:  instruction code that can be swapped\n",
    "    \n",
    "    Returns all variants of the program with either...\n",
    "    \n",
    "    - one instance of ins1 replaced with ins2\n",
    "    \n",
    "    or\n",
    "    \n",
    "    - one instance of ins2 replaced with ins1\n",
    "    \"\"\"\n",
    "    new_programs = [prog]\n",
    "    for linenum, inst in enumerate(prog):\n",
    "        if inst[0] == ins1:\n",
    "            newprog = prog[:linenum] + [(ins2, inst[1])] + prog[linenum + 1:]\n",
    "            new_programs.append(newprog)\n",
    "        if inst[0] == ins2:\n",
    "            newprog = prog[:linenum] + [(ins1, inst[1])] + prog[linenum + 1:]\n",
    "            new_programs.append(newprog)\n",
    "    return new_programs\n"
   ]
  },
  {
   "cell_type": "markdown",
   "metadata": {},
   "source": [
    "Then we load our original program, generate the list of all mutated programs as specified in the puzzle, then loop over those programs one-by-one, giving them to the machine and running them."
   ]
  },
  {
   "cell_type": "code",
   "execution_count": 7,
   "metadata": {},
   "outputs": [
    {
     "name": "stdout",
     "output_type": "stream",
     "text": [
      "8\n"
     ]
    }
   ],
   "source": [
    "inst = load_program(\"day08_test.txt\")\n",
    "programs = mutate_programs(inst, \"nop\", \"jmp\")\n",
    "machine = Machine()\n",
    "\n",
    "for prog in programs:\n",
    "    machine.reset()\n",
    "    machine.read_program(prog)\n",
    "    try:\n",
    "        print(machine.run())\n",
    "    except RuntimeError as err:\n",
    "        pass"
   ]
  },
  {
   "cell_type": "code",
   "execution_count": 8,
   "metadata": {},
   "outputs": [
    {
     "name": "stdout",
     "output_type": "stream",
     "text": [
      "2477\n"
     ]
    }
   ],
   "source": [
    "prog = load_program(\"day08_data.txt\")\n",
    "programs = mutate_programs(prog, \"nop\", \"jmp\")\n",
    "machine = Machine()\n",
    "\n",
    "for prog in programs:\n",
    "    machine.reset()\n",
    "    machine.read_program(prog)\n",
    "    try:\n",
    "        print(machine.run())\n",
    "    except RuntimeError as err:\n",
    "        pass"
   ]
  },
  {
   "cell_type": "code",
   "execution_count": null,
   "metadata": {},
   "outputs": [],
   "source": []
  }
 ],
 "metadata": {
  "kernelspec": {
   "display_name": "Python 3",
   "language": "python",
   "name": "python3"
  },
  "language_info": {
   "codemirror_mode": {
    "name": "ipython",
    "version": 3
   },
   "file_extension": ".py",
   "mimetype": "text/x-python",
   "name": "python",
   "nbconvert_exporter": "python",
   "pygments_lexer": "ipython3",
   "version": "3.8.6"
  }
 },
 "nbformat": 4,
 "nbformat_minor": 4
}
