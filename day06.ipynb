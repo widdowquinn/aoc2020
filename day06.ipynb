{
 "cells": [
  {
   "cell_type": "markdown",
   "metadata": {},
   "source": [
    "# Day 6: Custom Customs\n",
    "\n",
    "As your flight approaches the regional airport where you'll switch to a much larger plane, customs declaration forms are distributed to the passengers.\n",
    "\n",
    "The form asks a series of 26 yes-or-no questions marked a through z. All you need to do is identify the questions for which anyone in your group answers \"yes\". Since your group is just you, this doesn't take very long.\n",
    "\n",
    "However, the person sitting next to you seems to be experiencing a language barrier and asks if you can help. For each of the people in their group, you write down the questions for which they answer \"yes\", one per line. For example:\n",
    "\n",
    "```text\n",
    "abcx\n",
    "abcy\n",
    "abcz\n",
    "```\n",
    "\n",
    "In this group, there are 6 questions to which anyone answered \"yes\": a, b, c, x, y, and z. (Duplicate answers to the same question don't count extra; each question counts at most once.)\n",
    "\n",
    "Another group asks for your help, then another, and eventually you've collected answers from every group on the plane (your puzzle input). Each group's answers are separated by a blank line, and within each group, each person's answers are on a single line. For example:\n",
    "\n",
    "```text\n",
    "abc\n",
    "\n",
    "a\n",
    "b\n",
    "c\n",
    "\n",
    "ab\n",
    "ac\n",
    "\n",
    "a\n",
    "a\n",
    "a\n",
    "a\n",
    "\n",
    "b\n",
    "```\n",
    "\n",
    "This list represents answers from five groups:\n",
    "\n",
    "    The first group contains one person who answered \"yes\" to 3 questions: a, b, and c.\n",
    "    The second group contains three people; combined, they answered \"yes\" to 3 questions: a, b, and c.\n",
    "    The third group contains two people; combined, they answered \"yes\" to 3 questions: a, b, and c.\n",
    "    The fourth group contains four people; combined, they answered \"yes\" to only 1 question, a.\n",
    "    The last group contains one person who answered \"yes\" to only 1 question, b.\n",
    "\n",
    "In this example, the sum of these counts is 3 + 3 + 3 + 1 + 1 = 11.\n",
    "\n",
    "## Puzzle 1\n",
    "\n",
    "For each group, count the number of questions to which anyone answered \"yes\". What is the sum of those counts?"
   ]
  },
  {
   "cell_type": "code",
   "execution_count": 1,
   "metadata": {},
   "outputs": [],
   "source": [
    "# Python imports\n",
    "from collections import defaultdict\n",
    "from pathlib import Path\n",
    "from typing import Dict, List, Set, Tuple"
   ]
  },
  {
   "cell_type": "markdown",
   "metadata": {},
   "source": [
    "We approach the problem by loading data from a file. As we're loading the data here, we take the opportunity to process the answers into *unique* answers by using the `set` collection. In a `set`, every element occurs exactly once, no matter how many times it is added, and we use one set per group.\n",
    "\n",
    "This means that we can add every answer for each group, but end up only with a single copy of each unique answer.\n",
    "\n",
    "The parser below exhibits a fairly common pattern - we loop over every line in the file, and:\n",
    "\n",
    "- if the line is blank, we know it's the end of a group, so we process the group data and prepare for the next group\n",
    "- if the line is not blank, it's an entry for the current group, and we process it as such\n",
    "- if we reach the end and we're still holding some data, the file hasn't ended with a blank line, and we process what we have as a single group's data.\n",
    "\n",
    "Before we start parsing, we have to set up two containers:\n",
    "\n",
    "1. a container to hold all of the groups (a `list` here)\n",
    "2. a container to hold the current group data (a `set` here)\n",
    "\n",
    "Both start empty. As we proceed through the first group, the `set` starts to accumulate data and, when the end of the group is reached (a blank line) the current `set` is added to the `list`, and a new *empty* `set` is prepared for the next group.\n",
    "\n",
    "In this way, we guarantee that we capture all of the group data into separate containers."
   ]
  },
  {
   "cell_type": "code",
   "execution_count": 2,
   "metadata": {},
   "outputs": [],
   "source": [
    "def load_answers(fpath: str) -> List[Set]:\n",
    "    with Path(fpath).open(\"r\") as ifh:\n",
    "        \"\"\"Return list of sets with answers given by each group\n",
    "        \n",
    "        :param fpath:  path to file containing answers\n",
    "        \"\"\"\n",
    "        \n",
    "        group_answers = []\n",
    "        group_set = set()\n",
    "        \n",
    "        for line in [_.strip() for _ in ifh.readlines()]:\n",
    "            if len(line) == 0:  # catch the end of a group\n",
    "                group_answers.append(group_set)\n",
    "                group_set = set()\n",
    "            else:  # process lines that contain a group answer\n",
    "                group_set = group_set.union(set(list(line)))\n",
    "        if len(group_set):  # catch cases with no empty line at the end of a file\n",
    "            group_answers.append(group_set)\n",
    "            group_set = set()\n",
    "                \n",
    "        return group_answers"
   ]
  },
  {
   "cell_type": "markdown",
   "metadata": {},
   "source": [
    "Solve the test puzzle."
   ]
  },
  {
   "cell_type": "code",
   "execution_count": 3,
   "metadata": {},
   "outputs": [
    {
     "name": "stdout",
     "output_type": "stream",
     "text": [
      "[{'a', 'b', 'c'}, {'a', 'b', 'c'}, {'a', 'b', 'c'}, {'a'}, {'b'}]\n"
     ]
    },
    {
     "data": {
      "text/plain": [
       "11"
      ]
     },
     "execution_count": 3,
     "metadata": {},
     "output_type": "execute_result"
    }
   ],
   "source": [
    "answers = load_answers(\"day06_test.txt\")\n",
    "print(answers)\n",
    "sum([len(ans) for ans in answers])"
   ]
  },
  {
   "cell_type": "markdown",
   "metadata": {},
   "source": [
    "Solve the real puzzle."
   ]
  },
  {
   "cell_type": "code",
   "execution_count": 4,
   "metadata": {},
   "outputs": [
    {
     "data": {
      "text/plain": [
       "6161"
      ]
     },
     "execution_count": 4,
     "metadata": {},
     "output_type": "execute_result"
    }
   ],
   "source": [
    "answers = load_answers(\"day06_data.txt\")\n",
    "sum([len(ans) for ans in answers])"
   ]
  },
  {
   "cell_type": "markdown",
   "metadata": {},
   "source": [
    "## Puzzle 2\n",
    "\n",
    "As you finish the last group's customs declaration, you notice that you misread one word in the instructions:\n",
    "\n",
    "You don't need to identify the questions to which anyone answered \"yes\"; you need to identify the questions to which everyone answered \"yes\"!\n",
    "\n",
    "Using the same example as above:\n",
    "\n",
    "```text\n",
    "abc\n",
    "\n",
    "a\n",
    "b\n",
    "c\n",
    "\n",
    "ab\n",
    "ac\n",
    "\n",
    "a\n",
    "a\n",
    "a\n",
    "a\n",
    "\n",
    "b\n",
    "```\n",
    "\n",
    "This list represents answers from five groups:\n",
    "\n",
    "    In the first group, everyone (all 1 person) answered \"yes\" to 3 questions: a, b, and c.\n",
    "    In the second group, there is no question to which everyone answered \"yes\".\n",
    "    In the third group, everyone answered yes to only 1 question, a. Since some people did not answer \"yes\" to b or c, they don't count.\n",
    "    In the fourth group, everyone answered yes to only 1 question, a.\n",
    "    In the fifth group, everyone (all 1 person) answered \"yes\" to 1 question, b.\n",
    "\n",
    "In this example, the sum of these counts is 3 + 0 + 1 + 1 + 1 = 6.\n",
    "\n",
    "For each group, count the number of questions to which everyone answered \"yes\". What is the sum of those counts?"
   ]
  },
  {
   "cell_type": "markdown",
   "metadata": {},
   "source": [
    "Our approach here has to be slightly different to the one above.\n",
    "\n",
    "To keep separation of different actions, we have distinct `load_answers()` and `find_common_answers()` functions. The first of these works like the parser in the original `load_answers()` function, but keeps track of group size and the count of each answer given in the group.\n",
    "\n",
    "The parser uses a `defaultdict` which is a special kind of dictionary that automatically assigns values to new items. For instance here, `defaultdict(int)` assigns a value `0` to each item when it is created. This allows us to use `group_dict[ans] += 1` to start the count of each answer `ans` at 1."
   ]
  },
  {
   "cell_type": "code",
   "execution_count": 5,
   "metadata": {},
   "outputs": [],
   "source": [
    "def load_answers(fpath: str) -> List[Tuple[int, Dict]]:\n",
    "    \"\"\"Return a list of tuples of group size, and dictionary of answer counts.\n",
    "    \n",
    "    :param fpath:  path to the answer data file\n",
    "    \n",
    "    Returns a list of (group_size, group_answers) tuples, where group_answers\n",
    "    is a dictionary keyed by answer with values the number of times that\n",
    "    answer was given.\n",
    "    \"\"\"\n",
    "    with Path(fpath).open(\"r\") as ifh:\n",
    "        \n",
    "        group_answers = []\n",
    "        group_dict = defaultdict(int)\n",
    "        group_size = 0\n",
    "        \n",
    "        for line in [_.strip() for _ in ifh.readlines()]:\n",
    "            if len(line) == 0:\n",
    "                group_answers.append((group_size, group_dict))\n",
    "                group_dict = defaultdict(int)\n",
    "                group_size = 0\n",
    "            else:\n",
    "                for ans in list(line):\n",
    "                    group_dict[ans] += 1\n",
    "                group_size += 1\n",
    "        if group_size:\n",
    "            group_answers.append((group_size, group_dict))\n",
    "            group_dict = defaultdict(int)\n",
    "            group_size = 0\n",
    "\n",
    "        return group_answers"
   ]
  },
  {
   "cell_type": "markdown",
   "metadata": {},
   "source": [
    "The second function takes the output from our parser, and loops over the pair of `(group_size, group_answers)` values, and counts all the answers that were given by all members in the group."
   ]
  },
  {
   "cell_type": "code",
   "execution_count": 6,
   "metadata": {},
   "outputs": [],
   "source": [
    "def count_common_answers(answers: List[Tuple[int, Dict]]) -> List[int]:\n",
    "    \"\"\"Return count of answers given by all members in each group\n",
    "    \n",
    "    :param answers:  output from load_answers(); a list of (group_size, group_answers)\n",
    "                     tuples, where group_answers is a dictionary keyed by answer with\n",
    "                     values the number of times that answer was given.\n",
    "    \"\"\"\n",
    "    common_answers = []\n",
    "    for gsize, ganswers in answers:\n",
    "        common_answers.append(len([k for k, v in ganswers.items() if v == gsize]))\n",
    "\n",
    "    return common_answers"
   ]
  },
  {
   "cell_type": "markdown",
   "metadata": {},
   "source": [
    "Solve test puzzle."
   ]
  },
  {
   "cell_type": "code",
   "execution_count": 7,
   "metadata": {},
   "outputs": [
    {
     "name": "stdout",
     "output_type": "stream",
     "text": [
      "[3, 0, 1, 1, 1]\n"
     ]
    },
    {
     "data": {
      "text/plain": [
       "6"
      ]
     },
     "execution_count": 7,
     "metadata": {},
     "output_type": "execute_result"
    }
   ],
   "source": [
    "answers = load_answers(\"day06_test.txt\")\n",
    "canswers = count_common_answers(answers)\n",
    "print(canswers)\n",
    "sum(canswers)"
   ]
  },
  {
   "cell_type": "markdown",
   "metadata": {},
   "source": [
    "Solve real puzzle."
   ]
  },
  {
   "cell_type": "code",
   "execution_count": 8,
   "metadata": {},
   "outputs": [
    {
     "data": {
      "text/plain": [
       "2971"
      ]
     },
     "execution_count": 8,
     "metadata": {},
     "output_type": "execute_result"
    }
   ],
   "source": [
    "answers = load_answers(\"day06_data.txt\")\n",
    "canswers = count_common_answers(answers)\n",
    "sum(canswers)"
   ]
  },
  {
   "cell_type": "markdown",
   "metadata": {},
   "source": [
    "Note that we can recover our original puzzle solution with a function that counts the number of keys in each group dictionary:"
   ]
  },
  {
   "cell_type": "code",
   "execution_count": 9,
   "metadata": {},
   "outputs": [],
   "source": [
    "def count_unique_answers(answers: List[Tuple[int, Dict]]) -> List[int]:\n",
    "    \"\"\"Return count of unique answers given by members in each group\n",
    "    \n",
    "    :param answers:  output from load_answers(); a list of (group_size, group_answers)\n",
    "                     tuples, where group_answers is a dictionary keyed by answer with\n",
    "                     values the number of times that answer was given.\n",
    "    \"\"\"\n",
    "    unique_answers = []\n",
    "    for gsize, ganswers in answers:\n",
    "        unique_answers.append(len(ganswers))\n",
    "\n",
    "    return unique_answers"
   ]
  },
  {
   "cell_type": "code",
   "execution_count": 10,
   "metadata": {},
   "outputs": [
    {
     "name": "stdout",
     "output_type": "stream",
     "text": [
      "[3, 3, 3, 1, 1]\n"
     ]
    },
    {
     "data": {
      "text/plain": [
       "11"
      ]
     },
     "execution_count": 10,
     "metadata": {},
     "output_type": "execute_result"
    }
   ],
   "source": [
    "answers = load_answers(\"day06_test.txt\")\n",
    "canswers = count_unique_answers(answers)\n",
    "print(canswers)\n",
    "sum(canswers)"
   ]
  },
  {
   "cell_type": "code",
   "execution_count": 11,
   "metadata": {},
   "outputs": [
    {
     "data": {
      "text/plain": [
       "6161"
      ]
     },
     "execution_count": 11,
     "metadata": {},
     "output_type": "execute_result"
    }
   ],
   "source": [
    "answers = load_answers(\"day06_data.txt\")\n",
    "canswers = count_unique_answers(answers)\n",
    "sum(canswers)"
   ]
  },
  {
   "cell_type": "markdown",
   "metadata": {},
   "source": [
    "This kind of pattern, where we separate out parsing a file from processing the parsed output in different ways, is more flexible than combining the parsing with analysis in the same function. It is an example of each function doing one well-defined thing."
   ]
  },
  {
   "cell_type": "code",
   "execution_count": null,
   "metadata": {},
   "outputs": [],
   "source": []
  }
 ],
 "metadata": {
  "kernelspec": {
   "display_name": "Python 3",
   "language": "python",
   "name": "python3"
  },
  "language_info": {
   "codemirror_mode": {
    "name": "ipython",
    "version": 3
   },
   "file_extension": ".py",
   "mimetype": "text/x-python",
   "name": "python",
   "nbconvert_exporter": "python",
   "pygments_lexer": "ipython3",
   "version": "3.8.6"
  }
 },
 "nbformat": 4,
 "nbformat_minor": 4
}
