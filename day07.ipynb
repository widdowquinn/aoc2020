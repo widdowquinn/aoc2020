{
 "cells": [
  {
   "cell_type": "markdown",
   "metadata": {},
   "source": [
    "# Day 7: Handy Haversacks\n",
    "\n",
    "You land at the regional airport in time for your next flight. In fact, it looks like you'll even have time to grab some food: all flights are currently delayed due to issues in luggage processing.\n",
    "\n",
    "Due to recent aviation regulations, many rules (your puzzle input) are being enforced about bags and their contents; bags must be color-coded and must contain specific quantities of other color-coded bags. Apparently, nobody responsible for these regulations considered how long they would take to enforce!\n",
    "\n",
    "For example, consider the following rules:\n",
    "\n",
    "    light red bags contain 1 bright white bag, 2 muted yellow bags.\n",
    "    dark orange bags contain 3 bright white bags, 4 muted yellow bags.\n",
    "    bright white bags contain 1 shiny gold bag.\n",
    "    muted yellow bags contain 2 shiny gold bags, 9 faded blue bags.\n",
    "    shiny gold bags contain 1 dark olive bag, 2 vibrant plum bags.\n",
    "    dark olive bags contain 3 faded blue bags, 4 dotted black bags.\n",
    "    vibrant plum bags contain 5 faded blue bags, 6 dotted black bags.\n",
    "    faded blue bags contain no other bags.\n",
    "    dotted black bags contain no other bags.\n",
    "\n",
    "These rules specify the required contents for 9 bag types. In this example, every faded blue bag is empty, every vibrant plum bag contains 11 bags (5 faded blue and 6 dotted black), and so on.\n",
    "\n",
    "You have a shiny gold bag. If you wanted to carry it in at least one other bag, how many different bag colors would be valid for the outermost bag? (In other words: how many colors can, eventually, contain at least one shiny gold bag?)\n",
    "\n",
    "In the above rules, the following options would be available to you:\n",
    "\n",
    "    A bright white bag, which can hold your shiny gold bag directly.\n",
    "    A muted yellow bag, which can hold your shiny gold bag directly, plus some other bags.\n",
    "    A dark orange bag, which can hold bright white and muted yellow bags, either of which could then hold your shiny gold bag.\n",
    "    A light red bag, which can hold bright white and muted yellow bags, either of which could then hold your shiny gold bag.\n",
    "\n",
    "So, in this example, the number of bag colors that can eventually contain at least one shiny gold bag is 4.\n",
    "\n",
    "How many bag colors can eventually contain at least one shiny gold bag? (The list of rules is quite long; make sure you get all of it.)"
   ]
  },
  {
   "cell_type": "code",
   "execution_count": 1,
   "metadata": {},
   "outputs": [],
   "source": [
    "# Python imports\n",
    "from math import prod\n",
    "from pathlib import Path\n",
    "from typing import List, Tuple\n",
    "\n",
    "import networkx as nx"
   ]
  },
  {
   "cell_type": "markdown",
   "metadata": {},
   "source": [
    "This can be represented as a graph problem.\n",
    "\n",
    "Consider that each bag is a node in a graph, then each edge from bag `A` to bag `B` represents the relationship `A contains B`; this is a directed graph. The edges are also weighted because `A` may contain a variable number of bags `B`.\n",
    "\n",
    "We write two functions: one to parse a single line of a rule from the input file; the other to load the rule file and return a `networkx` directed graph representing the rules."
   ]
  },
  {
   "cell_type": "code",
   "execution_count": 2,
   "metadata": {},
   "outputs": [],
   "source": [
    "def parse_rule(line: str) -> Tuple[str, List[Tuple[str, int]]]:\n",
    "    \"\"\"Parse a single line from a rule file into a tuple of (outer, inner) bag data\n",
    "    \n",
    "    :param line:  Rule formatted as \n",
    "                  \"<colour> bags contain [<count> <colour>|, ...] bags.\"\n",
    "                  \n",
    "    Returns a tuple of (<outer bag colour>, <list of inner bag colours and counts>)\n",
    "    \"\"\"\n",
    "    outer, inner = line.split(\" bags contain \")\n",
    "\n",
    "    # Identify colours and counts of contained bags\n",
    "    contents = []\n",
    "    for inbag in inner.split(\", \"):\n",
    "        elems = inbag.split()\n",
    "        try:\n",
    "            num = int(elems[0])\n",
    "            colour = f\"{elems[1]} {elems[2]}\"\n",
    "            contents.append((colour, num))\n",
    "        except ValueError:  # no contents\n",
    "            pass\n",
    "    \n",
    "    return (outer, contents)"
   ]
  },
  {
   "cell_type": "code",
   "execution_count": 3,
   "metadata": {},
   "outputs": [],
   "source": [
    "def load_rules(fpath: str) -> nx.DiGraph:\n",
    "    \"\"\"Return nx.Digraph defined by rules in passed file\n",
    "    \n",
    "    :param fpath:  path to file containing rules for bag containment\n",
    "    \"\"\"\n",
    "    bags = nx.DiGraph()\n",
    "    with Path(fpath).open(\"r\") as ifh:\n",
    "        for line in ifh.readlines():\n",
    "            outer, contents = parse_rule(line.strip()[:-1])\n",
    "            bags.add_node(outer, bag_count=1)\n",
    "            for colour, num in contents:\n",
    "                bags.add_node(colour, bag_count=1)\n",
    "                bags.add_edge(outer, colour, weight=num)\n",
    "    return bags"
   ]
  },
  {
   "cell_type": "markdown",
   "metadata": {},
   "source": [
    "We can use `networkx`'s `nx.has_path()` function to identify whether a path exists *from* each node to the query node (here, \"shiny gold\"). A straightforward approach is to count all nodes in the graph that possess such a path."
   ]
  },
  {
   "cell_type": "markdown",
   "metadata": {},
   "source": [
    "Solving the test puzzle."
   ]
  },
  {
   "cell_type": "code",
   "execution_count": 4,
   "metadata": {},
   "outputs": [
    {
     "data": {
      "text/plain": [
       "4"
      ]
     },
     "execution_count": 4,
     "metadata": {},
     "output_type": "execute_result"
    }
   ],
   "source": [
    "rules = load_rules(\"day07_test.txt\")\n",
    "sum([nx.has_path(rules, node, \"shiny gold\") for node in rules]) - 1 # no self-loops allowed"
   ]
  },
  {
   "cell_type": "markdown",
   "metadata": {},
   "source": [
    "Solving the real puzzle."
   ]
  },
  {
   "cell_type": "code",
   "execution_count": 5,
   "metadata": {},
   "outputs": [
    {
     "data": {
      "text/plain": [
       "213"
      ]
     },
     "execution_count": 5,
     "metadata": {},
     "output_type": "execute_result"
    }
   ],
   "source": [
    "rules = load_rules(\"day07_data.txt\")\n",
    "sum([nx.has_path(rules, node, \"shiny gold\") for node in rules]) - 1 # no self-loops allowed"
   ]
  },
  {
   "cell_type": "markdown",
   "metadata": {},
   "source": [
    "# Puzzle 2\n",
    "\n",
    "It's getting pretty expensive to fly these days - not because of ticket prices, but because of the ridiculous number of bags you need to buy!\n",
    "\n",
    "Consider again your shiny gold bag and the rules from the above example:\n",
    "\n",
    "    faded blue bags contain 0 other bags.\n",
    "    dotted black bags contain 0 other bags.\n",
    "    vibrant plum bags contain 11 other bags: 5 faded blue bags and 6 dotted black bags.\n",
    "    dark olive bags contain 7 other bags: 3 faded blue bags and 4 dotted black bags.\n",
    "\n",
    "So, a single shiny gold bag must contain 1 dark olive bag (and the 7 bags within it) plus 2 vibrant plum bags (and the 11 bags within each of those): 1 + 1 * 7 + 2 + 2 * 11 = 32 bags!\n",
    "\n",
    "Of course, the actual rules have a small chance of going several levels deeper than this example; be sure to count all of the bags, even if the nesting becomes topologically impractical!\n",
    "\n",
    "Here's another example:\n",
    "\n",
    "    shiny gold bags contain 2 dark red bags.\n",
    "    dark red bags contain 2 dark orange bags.\n",
    "    dark orange bags contain 2 dark yellow bags.\n",
    "    dark yellow bags contain 2 dark green bags.\n",
    "    dark green bags contain 2 dark blue bags.\n",
    "    dark blue bags contain 2 dark violet bags.\n",
    "    dark violet bags contain no other bags.\n",
    "\n",
    "In this example, a single shiny gold bag must contain 126 other bags.\n",
    "\n",
    "How many individual bags are required inside your single shiny gold bag?"
   ]
  },
  {
   "cell_type": "markdown",
   "metadata": {},
   "source": [
    "To solve this, we develop an algorithm that starts at *termini* of the graph (nodes with zero outdegree, that is: bags that contain no other bags).\n",
    "\n",
    "We take each such *terminus* in turn, and look at the edges leading in to the terminus, to see which nodes it is connected to (i.e. we look at each of the bags that contain the bag we're currently considering). The edge weight represents the bag containment rule, so if the edge weight is 3, say, the *containing* bag contains 3 terminus bags.\n",
    "\n",
    "All the nodes/bags in the graph have a count (`bag_count`) stating how many bags they contain (plus one to represent the bag itself). So we update the number of bags in the upstream *containing* bag to be the *weight* of the edge multiplied by the number of bags in the terminal bag (including itself).\n",
    "\n",
    "Once we have done this for a single terminal node, we remove that node from the graph, and move to the next terminus. When we run out of termini, we check to see if we've created new terminal nodes, and repeat the process.\n",
    "\n",
    "If we hit our query node as a \"terminal\" then its number will no longer be updated by downstream nodes, so we can stop and report the number of bags it contains (its `bag_count` - 1).\n",
    "\n",
    "This algorithm is encoded in the `bagception_number()` function below."
   ]
  },
  {
   "cell_type": "code",
   "execution_count": 6,
   "metadata": {},
   "outputs": [],
   "source": [
    "def bagception_number(graph: nx.DiGraph, node: str) -> int:\n",
    "    \"\"\"Returns the number of other bags contained by a specified bag.\n",
    "    \n",
    "    :param node:  the name of the query node\n",
    "    \"\"\"\n",
    "    # initial set of terminal nodes\n",
    "    termini = [node for node, deg in graph.out_degree if deg == 0]\n",
    "\n",
    "    while len(termini):  # loop while there are still termini\n",
    "        curnode = termini.pop(0)  # pop a terminus off the left end of the list\n",
    "        curbags = nx.get_node_attributes(graph, \"bag_count\")[curnode] # number of bags at current node \n",
    "\n",
    "        if curnode == node:  # have we hit our node? If so, report contained bags\n",
    "            return nx.get_node_attributes(graph, \"bag_count\")[node] - 1\n",
    "\n",
    "        for pred in rules.predecessors(curnode):  # loop over predecessor nodes\n",
    "            weight = graph[pred][curnode][\"weight\"]  # get edge weight\n",
    "            predbags = nx.get_node_attributes(graph, \"bag_count\")[pred] # how many bags at predecessor\n",
    "            newbags = predbags + curbags * weight  # new number of bags at predecessory\n",
    "            rules.add_node(pred, bag_count=newbags)  # update graph\n",
    "\n",
    "        graph.remove_node(curnode)  # remove the terminus we were working with\n",
    "        \n",
    "        # Update the list with any new termini\n",
    "        termini.extend([node for node, deg in graph.out_degree if deg == 0 and node not in termini])\n",
    "        \n",
    "    return 0  # Only happens if we don't find our query node"
   ]
  },
  {
   "cell_type": "markdown",
   "metadata": {},
   "source": [
    "Solving the example problems"
   ]
  },
  {
   "cell_type": "code",
   "execution_count": 7,
   "metadata": {},
   "outputs": [
    {
     "data": {
      "text/plain": [
       "32"
      ]
     },
     "execution_count": 7,
     "metadata": {},
     "output_type": "execute_result"
    }
   ],
   "source": [
    "rules = load_rules(\"day07_test.txt\")\n",
    "bagception_number(rules, \"shiny gold\")"
   ]
  },
  {
   "cell_type": "code",
   "execution_count": 8,
   "metadata": {},
   "outputs": [
    {
     "data": {
      "text/plain": [
       "126"
      ]
     },
     "execution_count": 8,
     "metadata": {},
     "output_type": "execute_result"
    }
   ],
   "source": [
    "rules = load_rules(\"day07_test2.txt\")\n",
    "bagception_number(rules, \"shiny gold\")"
   ]
  },
  {
   "cell_type": "markdown",
   "metadata": {},
   "source": [
    "Solving the real puzzle."
   ]
  },
  {
   "cell_type": "code",
   "execution_count": 9,
   "metadata": {},
   "outputs": [
    {
     "data": {
      "text/plain": [
       "38426"
      ]
     },
     "execution_count": 9,
     "metadata": {},
     "output_type": "execute_result"
    }
   ],
   "source": [
    "rules = load_rules(\"day07_data.txt\")\n",
    "bagception_number(rules, \"shiny gold\")"
   ]
  },
  {
   "cell_type": "markdown",
   "metadata": {},
   "source": [
    "## Rendering graphs with `networkx`\n",
    "\n",
    "To get inspiration/understand your algorithm development process it can be useful to visualise the graph representation of your data. `networkx` has functions to help with that."
   ]
  },
  {
   "cell_type": "code",
   "execution_count": 10,
   "metadata": {},
   "outputs": [
    {
     "data": {
      "image/png": "[encoded data removed]",
      "text/plain": [
       "<Figure size 432x288 with 1 Axes>"
      ]
     },
     "metadata": {},
     "output_type": "display_data"
    }
   ],
   "source": [
    "rules = load_rules(\"day07_test.txt\")\n",
    "nx.draw_shell(rules, with_labels=True)"
   ]
  },
  {
   "cell_type": "code",
   "execution_count": null,
   "metadata": {},
   "outputs": [],
   "source": [
    "rules = load_rules(\"day07_test2.txt\")\n",
    "nx.draw_shell(rules, with_labels=True)"
   ]
  },
  {
   "cell_type": "code",
   "execution_count": null,
   "metadata": {},
   "outputs": [],
   "source": []
  }
 ],
 "metadata": {
  "kernelspec": {
   "display_name": "Python 3",
   "language": "python",
   "name": "python3"
  },
  "language_info": {
   "codemirror_mode": {
    "name": "ipython",
    "version": 3
   },
   "file_extension": ".py",
   "mimetype": "text/x-python",
   "name": "python",
   "nbconvert_exporter": "python",
   "pygments_lexer": "ipython3",
   "version": "3.8.6"
  }
 },
 "nbformat": 4,
 "nbformat_minor": 4
}
