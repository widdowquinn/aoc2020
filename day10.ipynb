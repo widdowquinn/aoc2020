{
 "cells": [
  {
   "cell_type": "markdown",
   "metadata": {},
   "source": [
    "# Day 10: Adapter Array\n",
    "\n",
    "Patched into the aircraft's data port, you discover weather forecasts of a massive tropical storm. Before you can figure out whether it will impact your vacation plans, however, your device suddenly turns off!\n",
    "\n",
    "Its battery is dead.\n",
    "\n",
    "You'll need to plug it in. There's only one problem: the charging outlet near your seat produces the wrong number of jolts. Always prepared, you make a list of all of the joltage adapters in your bag.\n",
    "\n",
    "## Puzzle 1\n",
    "\n",
    "Each of your joltage adapters is rated for a specific output joltage (your puzzle input). Any given adapter can take an input 1, 2, or 3 jolts lower than its rating and still produce its rated output joltage.\n",
    "\n",
    "In addition, your device has a built-in joltage adapter rated for 3 jolts higher than the highest-rated adapter in your bag. (If your adapter list were 3, 9, and 6, your device's built-in adapter would be rated for 12 jolts.)\n",
    "\n",
    "Treat the charging outlet near your seat as having an effective joltage rating of 0.\n",
    "\n",
    "Since you have some time to kill, you might as well test all of your adapters. Wouldn't want to get to your resort and realize you can't even charge your device!\n",
    "\n",
    "If you use every adapter in your bag at once, what is the distribution of joltage differences between the charging outlet, the adapters, and your device?\n",
    "\n",
    "For example, suppose that in your bag, you have adapters with the following joltage ratings:\n",
    "\n",
    "```text\n",
    "16\n",
    "10\n",
    "15\n",
    "5\n",
    "1\n",
    "11\n",
    "7\n",
    "19\n",
    "6\n",
    "12\n",
    "4\n",
    "```\n",
    "\n",
    "With these adapters, your device's built-in joltage adapter would be rated for 19 + 3 = 22 jolts, 3 higher than the highest-rated adapter.\n",
    "\n",
    "Because adapters can only connect to a source 1-3 jolts lower than its rating, in order to use every adapter, you'd need to choose them like this:\n",
    "\n",
    "    The charging outlet has an effective rating of 0 jolts, so the only adapters that could connect to it directly would need to have a joltage rating of 1, 2, or 3 jolts. Of these, only one you have is an adapter rated 1 jolt (difference of 1).\n",
    "    From your 1-jolt rated adapter, the only choice is your 4-jolt rated adapter (difference of 3).\n",
    "    From the 4-jolt rated adapter, the adapters rated 5, 6, or 7 are valid choices. However, in order to not skip any adapters, you have to pick the adapter rated 5 jolts (difference of 1).\n",
    "    Similarly, the next choices would need to be the adapter rated 6 and then the adapter rated 7 (with difference of 1 and 1).\n",
    "    The only adapter that works with the 7-jolt rated adapter is the one rated 10 jolts (difference of 3).\n",
    "    From 10, the choices are 11 or 12; choose 11 (difference of 1) and then 12 (difference of 1).\n",
    "    After 12, only valid adapter has a rating of 15 (difference of 3), then 16 (difference of 1), then 19 (difference of 3).\n",
    "    Finally, your device's built-in adapter is always 3 higher than the highest adapter, so its rating is 22 jolts (always a difference of 3).\n",
    "\n",
    "In this example, when using every adapter, there are 7 differences of 1 jolt and 5 differences of 3 jolts.\n",
    "\n",
    "Here is a larger example:\n",
    "\n",
    "```text\n",
    "28\n",
    "33\n",
    "18\n",
    "42\n",
    "31\n",
    "14\n",
    "46\n",
    "20\n",
    "48\n",
    "47\n",
    "24\n",
    "23\n",
    "49\n",
    "45\n",
    "19\n",
    "38\n",
    "39\n",
    "11\n",
    "1\n",
    "32\n",
    "25\n",
    "35\n",
    "8\n",
    "17\n",
    "7\n",
    "9\n",
    "4\n",
    "2\n",
    "34\n",
    "10\n",
    "3\n",
    "```\n",
    "\n",
    "In this larger example, in a chain that uses all of the adapters, there are 22 differences of 1 jolt and 10 differences of 3 jolts.\n",
    "\n",
    "Find a chain that uses all of your adapters to connect the charging outlet to your device's built-in adapter and count the joltage differences between the charging outlet, the adapters, and your device. What is the number of 1-jolt differences multiplied by the number of 3-jolt differences?"
   ]
  },
  {
   "cell_type": "code",
   "execution_count": 1,
   "metadata": {},
   "outputs": [],
   "source": [
    "# Python imports\n",
    "from collections import Counter\n",
    "from itertools import combinations\n",
    "from pathlib import Path\n",
    "from typing import List\n",
    "\n",
    "import networkx as nx"
   ]
  },
  {
   "cell_type": "markdown",
   "metadata": {},
   "source": [
    "This looks like it might turn into a graph problem but, for now, the challenge seems straightforward enough that we can attack it directly.\n",
    "\n",
    "The adapters must be arranged from lowest value to highest value. So we load the adapters into a sorted list, for convenience with the `load_adapters()` function."
   ]
  },
  {
   "cell_type": "code",
   "execution_count": 2,
   "metadata": {},
   "outputs": [],
   "source": [
    "def load_adapters(fpath: str) -> List[int]:\n",
    "    \"\"\"Return a sorted list of adapter values\n",
    "    \n",
    "    :param fpath:  path to input data file\n",
    "    \"\"\"\n",
    "    with Path(fpath).open(\"r\") as ifh:\n",
    "        adapters = sorted([int(_) for _ in ifh.readlines()])\n",
    "    return adapters"
   ]
  },
  {
   "cell_type": "markdown",
   "metadata": {},
   "source": [
    "Now we can use a Python `Counter` to count the differences in value between consecutive adapter values - not forgetting to add the 0 jolt source, and the joltage value for the device, with the `count_differences()` function."
   ]
  },
  {
   "cell_type": "code",
   "execution_count": 3,
   "metadata": {},
   "outputs": [],
   "source": [
    "def count_differences(adapters: List[int]) -> Counter:\n",
    "    \"\"\"Return Counter of differences between consecutive adapter values\n",
    "    \n",
    "    :param adapters:  sorted list of adapter values\n",
    "    \"\"\"\n",
    "    adapters = [0] + adapters + [max(adapters) + 3]\n",
    "    diffs = [adapters[idx + 1] - adapters[idx] for idx in range(len(adapters) - 1)]\n",
    "    return Counter(diffs)"
   ]
  },
  {
   "cell_type": "markdown",
   "metadata": {},
   "source": [
    "Checking we load adapters correctly."
   ]
  },
  {
   "cell_type": "code",
   "execution_count": 4,
   "metadata": {},
   "outputs": [
    {
     "data": {
      "text/plain": [
       "[1, 4, 5, 6, 7, 10, 11, 12, 15, 16, 19]"
      ]
     },
     "execution_count": 4,
     "metadata": {},
     "output_type": "execute_result"
    }
   ],
   "source": [
    "adapters = load_adapters(\"day10_test1.txt\")\n",
    "adapters"
   ]
  },
  {
   "cell_type": "markdown",
   "metadata": {},
   "source": [
    "Checking we count differences correctly."
   ]
  },
  {
   "cell_type": "code",
   "execution_count": 5,
   "metadata": {},
   "outputs": [
    {
     "data": {
      "text/plain": [
       "Counter({1: 7, 3: 5})"
      ]
     },
     "execution_count": 5,
     "metadata": {},
     "output_type": "execute_result"
    }
   ],
   "source": [
    "diffs = count_differences(adapters)\n",
    "diffs"
   ]
  },
  {
   "cell_type": "code",
   "execution_count": 6,
   "metadata": {},
   "outputs": [
    {
     "data": {
      "text/plain": [
       "Counter({1: 22, 3: 10})"
      ]
     },
     "execution_count": 6,
     "metadata": {},
     "output_type": "execute_result"
    }
   ],
   "source": [
    "adapters = load_adapters(\"day10_test2.txt\")\n",
    "diffs = count_differences(adapters)\n",
    "diffs"
   ]
  },
  {
   "cell_type": "markdown",
   "metadata": {},
   "source": [
    "Now we can multiply the counts for the real puzzle."
   ]
  },
  {
   "cell_type": "code",
   "execution_count": 7,
   "metadata": {},
   "outputs": [
    {
     "data": {
      "text/plain": [
       "2240"
      ]
     },
     "execution_count": 7,
     "metadata": {},
     "output_type": "execute_result"
    }
   ],
   "source": [
    "adapters = load_adapters(\"day10_data.txt\")\n",
    "diffs = count_differences(adapters)\n",
    "diffs[1] * diffs[3]"
   ]
  },
  {
   "cell_type": "markdown",
   "metadata": {},
   "source": [
    "## Puzzle 2\n",
    "\n",
    "To completely determine whether you have enough adapters, you'll need to figure out how many different ways they can be arranged. Every arrangement needs to connect the charging outlet to your device. The previous rules about when adapters can successfully connect still apply.\n",
    "\n",
    "The first example above (the one that starts with 16, 10, 15) supports the following arrangements:\n",
    "\n",
    "```text\n",
    "(0), 1, 4, 5, 6, 7, 10, 11, 12, 15, 16, 19, (22)\n",
    "(0), 1, 4, 5, 6, 7, 10, 12, 15, 16, 19, (22)\n",
    "(0), 1, 4, 5, 7, 10, 11, 12, 15, 16, 19, (22)\n",
    "(0), 1, 4, 5, 7, 10, 12, 15, 16, 19, (22)\n",
    "(0), 1, 4, 6, 7, 10, 11, 12, 15, 16, 19, (22)\n",
    "(0), 1, 4, 6, 7, 10, 12, 15, 16, 19, (22)\n",
    "(0), 1, 4, 7, 10, 11, 12, 15, 16, 19, (22)\n",
    "(0), 1, 4, 7, 10, 12, 15, 16, 19, (22)\n",
    "```\n",
    "\n",
    "(The charging outlet and your device's built-in adapter are shown in parentheses.) Given the adapters from the first example, the total number of arrangements that connect the charging outlet to your device is 8.\n",
    "\n",
    "The second example above (the one that starts with 28, 33, 18) has many arrangements. Here are a few:\n",
    "\n",
    "```text\n",
    "(0), 1, 2, 3, 4, 7, 8, 9, 10, 11, 14, 17, 18, 19, 20, 23, 24, 25, 28, 31,\n",
    "32, 33, 34, 35, 38, 39, 42, 45, 46, 47, 48, 49, (52)\n",
    "\n",
    "(0), 1, 2, 3, 4, 7, 8, 9, 10, 11, 14, 17, 18, 19, 20, 23, 24, 25, 28, 31,\n",
    "32, 33, 34, 35, 38, 39, 42, 45, 46, 47, 49, (52)\n",
    "\n",
    "(0), 1, 2, 3, 4, 7, 8, 9, 10, 11, 14, 17, 18, 19, 20, 23, 24, 25, 28, 31,\n",
    "32, 33, 34, 35, 38, 39, 42, 45, 46, 48, 49, (52)\n",
    "\n",
    "(0), 1, 2, 3, 4, 7, 8, 9, 10, 11, 14, 17, 18, 19, 20, 23, 24, 25, 28, 31,\n",
    "32, 33, 34, 35, 38, 39, 42, 45, 46, 49, (52)\n",
    "\n",
    "(0), 1, 2, 3, 4, 7, 8, 9, 10, 11, 14, 17, 18, 19, 20, 23, 24, 25, 28, 31,\n",
    "32, 33, 34, 35, 38, 39, 42, 45, 47, 48, 49, (52)\n",
    "\n",
    "(0), 3, 4, 7, 10, 11, 14, 17, 20, 23, 25, 28, 31, 34, 35, 38, 39, 42, 45,\n",
    "46, 48, 49, (52)\n",
    "\n",
    "(0), 3, 4, 7, 10, 11, 14, 17, 20, 23, 25, 28, 31, 34, 35, 38, 39, 42, 45,\n",
    "46, 49, (52)\n",
    "\n",
    "(0), 3, 4, 7, 10, 11, 14, 17, 20, 23, 25, 28, 31, 34, 35, 38, 39, 42, 45,\n",
    "47, 48, 49, (52)\n",
    "\n",
    "(0), 3, 4, 7, 10, 11, 14, 17, 20, 23, 25, 28, 31, 34, 35, 38, 39, 42, 45,\n",
    "47, 49, (52)\n",
    "\n",
    "(0), 3, 4, 7, 10, 11, 14, 17, 20, 23, 25, 28, 31, 34, 35, 38, 39, 42, 45,\n",
    "48, 49, (52)\n",
    "```\n",
    "\n",
    "In total, this set of adapters can connect the charging outlet to your device in 19208 distinct arrangements.\n",
    "\n",
    "You glance back down at your bag and try to remember why you brought so many adapters; there must be more than a trillion valid ways to arrange them! Surely, there must be an efficient way to count the arrangements.\n",
    "\n",
    "What is the total number of distinct ways you can arrange the adapters to connect the charging outlet to your device?"
   ]
  },
  {
   "cell_type": "markdown",
   "metadata": {},
   "source": [
    "This is now clearly a graph problem: what is the count of valid paths through the adapters from the outlet (joltage zero) to the device?\n",
    "\n",
    "We load the adapters as a directed graph, where each node is an adapter (with labelled joltage) and each edge represents a valid connection between adapters (joltage difference is between 1 and 3, inclusive), using `load_adapter_graph()`"
   ]
  },
  {
   "cell_type": "code",
   "execution_count": 8,
   "metadata": {},
   "outputs": [],
   "source": [
    "def load_adapter_graph(fpath: str) -> nx.DiGraph:\n",
    "    \"\"\"Return directed graph representing valid adapter connections\n",
    "    \n",
    "    :param fpath:  path to input data file\n",
    "    \"\"\"\n",
    "    adapters = nx.DiGraph()\n",
    "    adapters.add_node(0)\n",
    "\n",
    "    with Path(fpath).open(\"r\") as ifh:\n",
    "        adaptervals = [0] + sorted([int(_) for _ in ifh.readlines()])\n",
    "#         print(adaptervals)\n",
    "        for val in adaptervals:\n",
    "            adapters.add_node(val)\n",
    "        for u, v in combinations(adapters.nodes, 2):\n",
    "            diff = max((u, v)) - min((u, v))\n",
    "            if 0 < diff <= 3 and (u, v) not in adapters.edges():\n",
    "                adapters.add_edge(u, v, weight=diff)\n",
    "    return adapters"
   ]
  },
  {
   "cell_type": "markdown",
   "metadata": {},
   "source": [
    "As a check, we can count the differences of the edges as before with `count_graph_differences()`."
   ]
  },
  {
   "cell_type": "code",
   "execution_count": 9,
   "metadata": {},
   "outputs": [],
   "source": [
    "def count_graph_differences(adapters: nx.DiGraph) -> Counter:\n",
    "    \"\"\"Return Counter of differences between consecutive adapter values\n",
    "    \n",
    "    :param adapters:  directed graph of valid adapter connections\n",
    "    \"\"\"\n",
    "    diffs = [weight for (u, v, weight) in adapters.edges(data=\"weight\")]\n",
    "    return Counter(diffs)"
   ]
  },
  {
   "cell_type": "code",
   "execution_count": 10,
   "metadata": {},
   "outputs": [
    {
     "data": {
      "image/png": "[encoded data removed]",
      "text/plain": [
       "<Figure size 432x288 with 1 Axes>"
      ]
     },
     "metadata": {},
     "output_type": "display_data"
    }
   ],
   "source": [
    "adapters = load_adapter_graph(\"day10_test1.txt\")\n",
    "nx.draw(adapters)"
   ]
  },
  {
   "cell_type": "code",
   "execution_count": 11,
   "metadata": {},
   "outputs": [
    {
     "data": {
      "text/plain": [
       "Counter({1: 7, 3: 5, 2: 3})"
      ]
     },
     "execution_count": 11,
     "metadata": {},
     "output_type": "execute_result"
    }
   ],
   "source": [
    "count_graph_differences(adapters)"
   ]
  },
  {
   "cell_type": "markdown",
   "metadata": {},
   "source": [
    "In principle we should be able to use the `networkx` function `all_simple_paths()` to enumerate all paths from the outlet to the device."
   ]
  },
  {
   "cell_type": "code",
   "execution_count": 12,
   "metadata": {},
   "outputs": [
    {
     "data": {
      "text/plain": [
       "8"
      ]
     },
     "execution_count": 12,
     "metadata": {},
     "output_type": "execute_result"
    }
   ],
   "source": [
    "adapters = load_adapter_graph(\"day10_test1.txt\")\n",
    "sum(1 for _ in nx.all_simple_paths(adapters, 0, max(adapters.nodes)))"
   ]
  },
  {
   "cell_type": "code",
   "execution_count": 13,
   "metadata": {},
   "outputs": [
    {
     "data": {
      "text/plain": [
       "19208"
      ]
     },
     "execution_count": 13,
     "metadata": {},
     "output_type": "execute_result"
    }
   ],
   "source": [
    "adapters = load_adapter_graph(\"day10_test2.txt\")\n",
    "sum(1 for _ in nx.all_simple_paths(adapters, 0, max(adapters.nodes)))"
   ]
  },
  {
   "cell_type": "markdown",
   "metadata": {},
   "source": [
    "But this is muc, much too slow to work for the real puzzle."
   ]
  },
  {
   "cell_type": "code",
   "execution_count": 14,
   "metadata": {},
   "outputs": [
    {
     "data": {
      "image/png": "[encoded data removed]",
      "text/plain": [
       "<Figure size 432x288 with 1 Axes>"
      ]
     },
     "metadata": {},
     "output_type": "display_data"
    }
   ],
   "source": [
    "adapters = load_adapter_graph(\"day10_data.txt\")\n",
    "nx.draw_spring(adapters)"
   ]
  },
  {
   "cell_type": "code",
   "execution_count": 15,
   "metadata": {},
   "outputs": [],
   "source": [
    "# sum(1 for _ in tqdm(nx.all_simple_paths(adapters, 0, max(adapters.nodes))))"
   ]
  },
  {
   "cell_type": "markdown",
   "metadata": {},
   "source": [
    "We adapt our \"bagception\" solution from day 7.\n",
    "\n",
    "The key is to recognise that the number of paths from any node in the graph to the device is the sum of the number of paths from all immediately downstream nodes in the graph to the device.\n",
    "\n",
    "So if node 10 connects to nodes 12 and 13, the number of paths from node 10 is the sum of (number of paths from node 12) + (number of paths from node 13).\n",
    "\n",
    "We use the same logic as in \"bagception\", progressing from the graph termini (initially one terminus: the device) to the graph source (the outlet, node 0). At each step we sum the number of paths to the device from the downstream nodes that the current node is connected to.\n",
    "\n",
    "One difference from \"bagception\" is that we don't want to remove nodes or edges from the adapter graph when counting, so we create a copy of the graph for our deletions. A more elegant version of this would mark nodes in the graph as \"visited\" rather than deleting them."
   ]
  },
  {
   "cell_type": "code",
   "execution_count": 16,
   "metadata": {},
   "outputs": [],
   "source": [
    "def count_paths(adapters: nx.DiGraph) -> int:\n",
    "    \"\"\"Return the number of paths from outlet to device.\n",
    "    \n",
    "    :param adapters:  directed graph of valid adapter connections\n",
    "    \"\"\"\n",
    "    # initial set of terminal nodes\n",
    "    gcopy = adapters.copy()\n",
    "    termini = [node for node, deg in gcopy.out_degree if deg == 0]\n",
    "\n",
    "    while len(termini):  # loop while there are still termini\n",
    "        curnode = termini.pop(0)  # pop a terminus off the left end of the list\n",
    "        paths_out = adapters.out_edges(curnode)\n",
    "        if len(paths_out) == 0:  # this is the device\n",
    "            adapters.add_node(curnode, paths_to_device=1)\n",
    "        else:\n",
    "            paths_to_device = 0\n",
    "            for u, v in paths_out:\n",
    "                paths_to_device += adapters.nodes[v][\"paths_to_device\"]\n",
    "            adapters.add_node(curnode, paths_to_device=paths_to_device)\n",
    "        \n",
    "        if curnode == 0:  # have we hit the outlet?\n",
    "            return nx.get_node_attributes(adapters, \"paths_to_device\")[0]\n",
    "\n",
    "        gcopy.remove_node(curnode)  # remove the terminus we were working with\n",
    "        \n",
    "        # Update the list with any new termini\n",
    "        termini.extend([node for node, deg in gcopy.out_degree if deg == 0 and node not in termini])\n",
    "        \n",
    "    return 0  # Only happens if we don't find our query node"
   ]
  },
  {
   "cell_type": "markdown",
   "metadata": {},
   "source": [
    "Solving for the example data."
   ]
  },
  {
   "cell_type": "code",
   "execution_count": 17,
   "metadata": {},
   "outputs": [
    {
     "data": {
      "text/plain": [
       "8"
      ]
     },
     "execution_count": 17,
     "metadata": {},
     "output_type": "execute_result"
    }
   ],
   "source": [
    "adapters = load_adapter_graph(\"day10_test1.txt\")\n",
    "count_paths(adapters)"
   ]
  },
  {
   "cell_type": "code",
   "execution_count": 18,
   "metadata": {},
   "outputs": [
    {
     "data": {
      "text/plain": [
       "19208"
      ]
     },
     "execution_count": 18,
     "metadata": {},
     "output_type": "execute_result"
    }
   ],
   "source": [
    "adapters = load_adapter_graph(\"day10_test2.txt\")\n",
    "count_paths(adapters)"
   ]
  },
  {
   "cell_type": "markdown",
   "metadata": {},
   "source": [
    "Solving for the real puzzle."
   ]
  },
  {
   "cell_type": "code",
   "execution_count": 19,
   "metadata": {},
   "outputs": [
    {
     "data": {
      "text/plain": [
       "99214346656768"
      ]
     },
     "execution_count": 19,
     "metadata": {},
     "output_type": "execute_result"
    }
   ],
   "source": [
    "adapters = load_adapter_graph(\"day10_data.txt\")\n",
    "count_paths(adapters)"
   ]
  },
  {
   "cell_type": "code",
   "execution_count": null,
   "metadata": {},
   "outputs": [],
   "source": []
  }
 ],
 "metadata": {
  "kernelspec": {
   "display_name": "Python 3",
   "language": "python",
   "name": "python3"
  },
  "language_info": {
   "codemirror_mode": {
    "name": "ipython",
    "version": 3
   },
   "file_extension": ".py",
   "mimetype": "text/x-python",
   "name": "python",
   "nbconvert_exporter": "python",
   "pygments_lexer": "ipython3",
   "version": "3.8.6"
  }
 },
 "nbformat": 4,
 "nbformat_minor": 4
}
