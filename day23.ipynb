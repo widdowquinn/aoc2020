{
 "cells": [
  {
   "cell_type": "markdown",
   "metadata": {},
   "source": [
    "# Day 23: Crab Cups\n",
    "\n",
    "The small crab challenges you to a game! The crab is going to mix up some cups, and you have to predict where they'll end up.\n",
    "\n",
    "The cups will be arranged in a circle and labeled clockwise (your puzzle input). For example, if your labeling were 32415, there would be five cups in the circle; going clockwise around the circle from the first cup, the cups would be labeled 3, 2, 4, 1, 5, and then back to 3 again.\n",
    "\n",
    "Before the crab starts, it will designate the first cup in your list as the current cup. The crab is then going to do 100 moves.\n",
    "\n",
    "Each move, the crab does the following actions:\n",
    "\n",
    "    The crab picks up the three cups that are immediately clockwise of the current cup. They are removed from the circle; cup spacing is adjusted as necessary to maintain the circle.\n",
    "    The crab selects a destination cup: the cup with a label equal to the current cup's label minus one. If this would select one of the cups that was just picked up, the crab will keep subtracting one until it finds a cup that wasn't just picked up. If at any point in this process the value goes below the lowest value on any cup's label, it wraps around to the highest value on any cup's label instead.\n",
    "    The crab places the cups it just picked up so that they are immediately clockwise of the destination cup. They keep the same order as when they were picked up.\n",
    "    The crab selects a new current cup: the cup which is immediately clockwise of the current cup.\n",
    "\n",
    "For example, suppose your cup labeling were 389125467. If the crab were to do merely 10 moves, the following changes would occur:\n",
    "\n",
    "```text\n",
    "-- move 1 --\n",
    "cups: (3) 8  9  1  2  5  4  6  7 \n",
    "pick up: 8, 9, 1\n",
    "destination: 2\n",
    "\n",
    "-- move 2 --\n",
    "cups:  3 (2) 8  9  1  5  4  6  7 \n",
    "pick up: 8, 9, 1\n",
    "destination: 7\n",
    "\n",
    "-- move 3 --\n",
    "cups:  3  2 (5) 4  6  7  8  9  1 \n",
    "pick up: 4, 6, 7\n",
    "destination: 3\n",
    "\n",
    "-- move 4 --\n",
    "cups:  7  2  5 (8) 9  1  3  4  6 \n",
    "pick up: 9, 1, 3\n",
    "destination: 7\n",
    "\n",
    "-- move 5 --\n",
    "cups:  3  2  5  8 (4) 6  7  9  1 \n",
    "pick up: 6, 7, 9\n",
    "destination: 3\n",
    "\n",
    "-- move 6 --\n",
    "cups:  9  2  5  8  4 (1) 3  6  7 \n",
    "pick up: 3, 6, 7\n",
    "destination: 9\n",
    "\n",
    "-- move 7 --\n",
    "cups:  7  2  5  8  4  1 (9) 3  6 \n",
    "pick up: 3, 6, 7\n",
    "destination: 8\n",
    "\n",
    "-- move 8 --\n",
    "cups:  8  3  6  7  4  1  9 (2) 5 \n",
    "pick up: 5, 8, 3\n",
    "destination: 1\n",
    "\n",
    "-- move 9 --\n",
    "cups:  7  4  1  5  8  3  9  2 (6)\n",
    "pick up: 7, 4, 1\n",
    "destination: 5\n",
    "\n",
    "-- move 10 --\n",
    "cups: (5) 7  4  1  8  3  9  2  6 \n",
    "pick up: 7, 4, 1\n",
    "destination: 3\n",
    "\n",
    "-- final --\n",
    "cups:  5 (8) 3  7  4  1  9  2  6 \n",
    "```\n",
    "\n",
    "In the above example, the cups' values are the labels as they appear moving clockwise around the circle; the current cup is marked with ( ).\n",
    "\n",
    "After the crab is done, what order will the cups be in? Starting after the cup labeled 1, collect the other cups' labels clockwise into a single string with no extra characters; each number except 1 should appear exactly once. In the above example, after 10 moves, the cups clockwise from 1 are labeled 9, 2, 6, 5, and so on, producing 92658374. If the crab were to complete all 100 moves, the order after cup 1 would be 67384529.\n",
    "\n",
    "Using your labeling, simulate 100 moves. What are the labels on the cups after cup 1?"
   ]
  },
  {
   "cell_type": "code",
   "execution_count": 1,
   "metadata": {},
   "outputs": [],
   "source": [
    "# Python imports\n",
    "from itertools import islice\n",
    "\n",
    "import networkx as nx\n",
    "\n",
    "from tqdm.notebook import tqdm"
   ]
  },
  {
   "cell_type": "markdown",
   "metadata": {},
   "source": [
    "My first thought was to represent the whole cup game as a class, implementing the game state as a list of `int`s (cups), and shuffling list elements as if we were really playing the game."
   ]
  },
  {
   "cell_type": "code",
   "execution_count": 2,
   "metadata": {},
   "outputs": [],
   "source": [
    "class Cups:\n",
    "    \n",
    "    def __init__(self, cups):\n",
    "        self.cups = [int(_) for _ in cups]\n",
    "        \n",
    "    def move(self):\n",
    "        # Make pickup\n",
    "        pickup = self.cups[1:4]\n",
    "        cups = [self.cups[0]] + self.cups[4:]\n",
    "        \n",
    "        # Find index of insert point\n",
    "        val = cups[0] - 1\n",
    "        while True:\n",
    "            if val in cups:\n",
    "                idx = cups.index(val)\n",
    "                break\n",
    "            else:\n",
    "                val -= 1\n",
    "                if val < 1:\n",
    "                    val = max(cups)\n",
    "\n",
    "        # Insert pickup\n",
    "        self.cups = cups[:idx+1] + pickup + cups[idx+1:]\n",
    "        \n",
    "        # Rotate cups\n",
    "        self.cups = self.cups[1:] + [self.cups[0]]\n",
    "\n",
    "    @property\n",
    "    def labels(self):\n",
    "        idx = self.cups.index(1)\n",
    "        return \"\".join([str(_) for _ in self.cups[idx+1:] + self.cups[:idx]])\n",
    "        \n",
    "    def __str__(self):\n",
    "        return f\"{self.cups}\"\n",
    "        \n",
    "    def __repr__(self):\n",
    "        return f\"<Cups {id(self)}: {self.cups}\""
   ]
  },
  {
   "cell_type": "markdown",
   "metadata": {},
   "source": [
    "This works."
   ]
  },
  {
   "cell_type": "code",
   "execution_count": 3,
   "metadata": {},
   "outputs": [
    {
     "name": "stdout",
     "output_type": "stream",
     "text": [
      "[3, 8, 9, 1, 2, 5, 4, 6, 7]\n",
      "[2, 8, 9, 1, 5, 4, 6, 7, 3]\n",
      "[5, 4, 6, 7, 8, 9, 1, 3, 2]\n",
      "[8, 9, 1, 3, 4, 6, 7, 2, 5]\n",
      "[4, 6, 7, 9, 1, 3, 2, 5, 8]\n",
      "[1, 3, 6, 7, 9, 2, 5, 8, 4]\n",
      "[9, 3, 6, 7, 2, 5, 8, 4, 1]\n",
      "[2, 5, 8, 3, 6, 7, 4, 1, 9]\n",
      "[6, 7, 4, 1, 5, 8, 3, 9, 2]\n",
      "[5, 7, 4, 1, 8, 3, 9, 2, 6]\n",
      "[8, 3, 7, 4, 1, 9, 2, 6, 5]\n"
     ]
    }
   ],
   "source": [
    "cups = Cups(\"389125467\")\n",
    "print(cups)\n",
    "\n",
    "for _ in range(10):\n",
    "    cups.move()\n",
    "    print(cups)"
   ]
  },
  {
   "cell_type": "markdown",
   "metadata": {},
   "source": [
    "It's fast enough for a solution to the test:"
   ]
  },
  {
   "cell_type": "code",
   "execution_count": 4,
   "metadata": {},
   "outputs": [
    {
     "data": {
      "text/plain": [
       "'67384529'"
      ]
     },
     "execution_count": 4,
     "metadata": {},
     "output_type": "execute_result"
    }
   ],
   "source": [
    "cups = cups = Cups(\"389125467\")\n",
    "for _ in range(100):\n",
    "    cups.move()\n",
    "cups.labels"
   ]
  },
  {
   "cell_type": "markdown",
   "metadata": {},
   "source": [
    "And fast enough for the real puzzle, too:"
   ]
  },
  {
   "cell_type": "code",
   "execution_count": 5,
   "metadata": {},
   "outputs": [
    {
     "data": {
      "text/plain": [
       "'35827964'"
      ]
     },
     "execution_count": 5,
     "metadata": {},
     "output_type": "execute_result"
    }
   ],
   "source": [
    "cups = Cups(\"219748365\")\n",
    "for _ in range(100):\n",
    "    cups.move()\n",
    "cups.labels"
   ]
  },
  {
   "cell_type": "markdown",
   "metadata": {},
   "source": [
    "## Part Two\n",
    "\n",
    "Due to what you can only assume is a mistranslation (you're not exactly fluent in Crab), you are quite surprised when the crab starts arranging many cups in a circle on your raft - one million (1000000) in total.\n",
    "\n",
    "Your labeling is still correct for the first few cups; after that, the remaining cups are just numbered in an increasing fashion starting from the number after the highest number in your list and proceeding one by one until one million is reached. (For example, if your labeling were 54321, the cups would be numbered 5, 4, 3, 2, 1, and then start counting up from 6 until one million is reached.) In this way, every number from one through one million is used exactly once.\n",
    "\n",
    "After discovering where you made the mistake in translating Crab Numbers, you realize the small crab isn't going to do merely 100 moves; the crab is going to do ten million (10000000) moves!\n",
    "\n",
    "The crab is going to hide your stars - one each - under the two cups that will end up immediately clockwise of cup 1. You can have them if you predict what the labels on those cups will be when the crab is finished.\n",
    "\n",
    "In the above example (389125467), this would be 934001 and then 159792; multiplying these together produces 149245887792.\n",
    "\n",
    "Determine which two cups will end up immediately clockwise of cup 1. What do you get if you multiply their labels together?"
   ]
  },
  {
   "cell_type": "markdown",
   "metadata": {},
   "source": [
    "First, we try the solution above on the test puzzle:"
   ]
  },
  {
   "cell_type": "code",
   "execution_count": 6,
   "metadata": {},
   "outputs": [
    {
     "data": {
      "application/vnd.jupyter.widget-view+json": {
       "model_id": "5f063b09b14f44298afdb13172967602",
       "version_major": 2,
       "version_minor": 0
      },
      "text/plain": [
       "HBox(children=(HTML(value=''), FloatProgress(value=0.0), HTML(value='')))"
      ]
     },
     "metadata": {},
     "output_type": "display_data"
    },
    {
     "name": "stdout",
     "output_type": "stream",
     "text": [
      "\n"
     ]
    }
   ],
   "source": [
    "cups = Cups([int(_) for _ in \"389125467\"] + list(range(10, 1000001)))\n",
    "for _ in tqdm(range(100)):\n",
    "    cups.move()"
   ]
  },
  {
   "cell_type": "markdown",
   "metadata": {},
   "source": [
    "This is too slow for the full problem. We're only getting about 10 moves per second, so 10m moves would take hours.\n",
    "\n",
    "My first thought was to use a circular graph representation, where each node contains the cup number/label, and links forward to the next node:"
   ]
  },
  {
   "cell_type": "code",
   "execution_count": 7,
   "metadata": {},
   "outputs": [],
   "source": [
    "class CupsGraph:\n",
    "    \n",
    "    def __init__(self, cups):\n",
    "        self.circle = nx.DiGraph()\n",
    "        cups = [int(_) for _  in cups]\n",
    "        \n",
    "        # Add first node\n",
    "        last_label = cups[0]\n",
    "        self.circle.add_node(last_label)\n",
    "        \n",
    "        # Add rest of nodes, and edges\n",
    "        for label in cups[1:]:\n",
    "            self.circle.add_node(label)\n",
    "            self.circle.add_edge(last_label, label)\n",
    "            last_label = label\n",
    "            \n",
    "        # Close circle\n",
    "        self.circle.add_edge(last_label, cups[0])\n",
    "        \n",
    "        # Set current node\n",
    "        self.curnode = int(cups[0])\n",
    "            \n",
    "        \n",
    "    def move(self):\n",
    "        # Get region to move\n",
    "        curnode, pickup_start, pickup, pickup_end, next_node = \\\n",
    "            tuple(islice(nx.traversal.bfs_tree(self.circle, self.curnode), 5))\n",
    "\n",
    "        # Link current node to the next node but three\n",
    "        self.circle.remove_edge(curnode, pickup_start)\n",
    "        self.circle.remove_edge(pickup_end, next_node)\n",
    "        self.circle.add_edge(curnode, next_node)\n",
    "        \n",
    "        # Identify node for returning pickup\n",
    "        retval = self.curnode - 1\n",
    "        while True:\n",
    "            if retval not in (0, pickup_start, pickup, pickup_end):\n",
    "                break\n",
    "            else:\n",
    "                retval -= 1\n",
    "                if retval < 1:\n",
    "                    retval = max(self.circle.nodes)\n",
    "                    \n",
    "        # Return pickup\n",
    "        ins_left, ins_right = tuple(islice(nx.traversal.bfs_tree(self.circle, retval), 2))\n",
    "        self.circle.remove_edge(ins_left, ins_right)\n",
    "        self.circle.add_edge(ins_left, pickup_start)\n",
    "        self.circle.add_edge(pickup_end, ins_right)\n",
    "        \n",
    "        # Move to next node\n",
    "        self.curnode = next_node\n",
    "\n",
    "    @property\n",
    "    def labels(self):\n",
    "        return \"\".join([str(_) for _ in nx.traversal.bfs_tree(self.circle, 1)])[1:]\n",
    "        \n",
    "    def __str__(self):\n",
    "        return f\"{self.circle.nodes()}\"\n",
    "        \n",
    "    def __repr__(self):\n",
    "        return f\"<Cups {id(self)}>: Size: {len(self.circle)}\""
   ]
  },
  {
   "cell_type": "code",
   "execution_count": 8,
   "metadata": {},
   "outputs": [],
   "source": [
    "cups = CupsGraph([int(_) for _ in \"389125467\"] + list(range(10, 1000001)))\n",
    "\n",
    "# for _ in tqdm(range(10)):\n",
    "#     cups.move()"
   ]
  },
  {
   "cell_type": "markdown",
   "metadata": {},
   "source": [
    "But this is even slower than the first solution! I'm sure that this is a feasible approach, but the `networkx` overhead is possibly the issue.\n",
    "\n",
    "We can strip down the graph representation to a `dict` of `Cup` node objects. We implement each `Cup` as an object with `value` (label) and `nextcup` (implied edge to next `Cup`) attributes. Storing these in a dictionary makes finding individual cups fast, and we only need to manipulate edges of the pickup set and its neighbours.\n",
    "\n",
    "Rather than define a set of cups as a class and call a `.move()` method, this time we have a `play()` function that plays the game for a certain number of rounds, and gives us the first ten labels following from label `1`."
   ]
  },
  {
   "cell_type": "code",
   "execution_count": 9,
   "metadata": {},
   "outputs": [],
   "source": [
    "class Cup:\n",
    "    \n",
    "    def __init__(self, value, nextcup):\n",
    "        self.value = value\n",
    "        self.nextcup = nextcup\n",
    "        \n",
    "    def __repr__(self):\n",
    "        return f\"<Cup {id(self)}>: {self.value} -> {self.nextcup}\"\n",
    "        \n",
    "def play(cups, rounds):\n",
    "    cupints = [int(_) for _ in cups]\n",
    "    curcup = cupints[0]\n",
    "    \n",
    "    cupdict = {}\n",
    "    \n",
    "    for nextcup in cupints[1:]:\n",
    "        cupdict[curcup] = Cup(curcup, nextcup)\n",
    "        curcup = nextcup\n",
    "    cupdict[nextcup] = Cup(nextcup, cupints[0])\n",
    "    \n",
    "    curcup = cupdict[cupints[0]]\n",
    "    \n",
    "    for round in tqdm(range(rounds)):\n",
    "        # Identify pickups\n",
    "        pstart = cupdict[curcup.nextcup]\n",
    "        pmid = cupdict[pstart.nextcup]\n",
    "        pend = cupdict[pmid.nextcup]\n",
    "        nextcup = cupdict[pend.nextcup]\n",
    "        \n",
    "        # Relink original cups\n",
    "        curcup.nextcup = nextcup.value\n",
    "\n",
    "        # Identify node for returning pickup\n",
    "        retval = curcup.value - 1\n",
    "        while True:\n",
    "            if retval not in (0, pstart.value, pmid.value, pend.value):\n",
    "                break\n",
    "            else:\n",
    "                retval -= 1\n",
    "                if retval < 1:\n",
    "                    retval = max(cupdict)\n",
    "        \n",
    "        # Relink pickups\n",
    "        cupdict[pend.value].nextcup = cupdict[retval].nextcup\n",
    "        cupdict[retval].nextcup = pstart.value\n",
    "        \n",
    "        # Move forward\n",
    "        curcup = nextcup\n",
    "        \n",
    "    # Print list of cups, starting at 1\n",
    "    curcup = 1\n",
    "    cupvals = []\n",
    "    for _ in range(10):\n",
    "        cupvals.append(curcup)\n",
    "        curcup = cupdict[curcup].nextcup\n",
    "        \n",
    "    # Return first ten labels after label 1\n",
    "    return (cupvals[1:])"
   ]
  },
  {
   "cell_type": "code",
   "execution_count": 10,
   "metadata": {},
   "outputs": [
    {
     "data": {
      "application/vnd.jupyter.widget-view+json": {
       "model_id": "8d9dae119ed940ee9c83d1ccc43a6c9b",
       "version_major": 2,
       "version_minor": 0
      },
      "text/plain": [
       "HBox(children=(HTML(value=''), FloatProgress(value=0.0, max=10.0), HTML(value='')))"
      ]
     },
     "metadata": {},
     "output_type": "display_data"
    },
    {
     "name": "stdout",
     "output_type": "stream",
     "text": [
      "\n"
     ]
    },
    {
     "data": {
      "text/plain": [
       "[9, 2, 6, 5, 8, 3, 7, 4, 1]"
      ]
     },
     "execution_count": 10,
     "metadata": {},
     "output_type": "execute_result"
    }
   ],
   "source": [
    "cups = \"389125467\"\n",
    "play(cups, 10)"
   ]
  },
  {
   "cell_type": "code",
   "execution_count": 11,
   "metadata": {},
   "outputs": [
    {
     "data": {
      "application/vnd.jupyter.widget-view+json": {
       "model_id": "02f70a6a4f374b50b3872f84144cf6e7",
       "version_major": 2,
       "version_minor": 0
      },
      "text/plain": [
       "HBox(children=(HTML(value=''), FloatProgress(value=0.0, max=10000000.0), HTML(value='')))"
      ]
     },
     "metadata": {},
     "output_type": "display_data"
    },
    {
     "name": "stdout",
     "output_type": "stream",
     "text": [
      "\n"
     ]
    },
    {
     "data": {
      "text/plain": [
       "149245887792"
      ]
     },
     "execution_count": 11,
     "metadata": {},
     "output_type": "execute_result"
    }
   ],
   "source": [
    "cups = [int(_) for _ in \"389125467\"] + list(range(10, 1000001))\n",
    "result = play(cups, 10000000)\n",
    "result[0] * result[1]"
   ]
  },
  {
   "cell_type": "code",
   "execution_count": 12,
   "metadata": {},
   "outputs": [
    {
     "data": {
      "application/vnd.jupyter.widget-view+json": {
       "model_id": "e2d945e0e7504689b2f5f5a2bba3833b",
       "version_major": 2,
       "version_minor": 0
      },
      "text/plain": [
       "HBox(children=(HTML(value=''), FloatProgress(value=0.0, max=10000000.0), HTML(value='')))"
      ]
     },
     "metadata": {},
     "output_type": "display_data"
    },
    {
     "name": "stdout",
     "output_type": "stream",
     "text": [
      "\n"
     ]
    },
    {
     "data": {
      "text/plain": [
       "5403610688"
      ]
     },
     "execution_count": 12,
     "metadata": {},
     "output_type": "execute_result"
    }
   ],
   "source": [
    "cups = [int(_) for _ in \"219748365\"] + list(range(10, 1000001))\n",
    "result = play(cups, 10000000)\n",
    "result[0] * result[1]"
   ]
  },
  {
   "cell_type": "code",
   "execution_count": null,
   "metadata": {},
   "outputs": [],
   "source": []
  }
 ],
 "metadata": {
  "kernelspec": {
   "display_name": "Python 3",
   "language": "python",
   "name": "python3"
  },
  "language_info": {
   "codemirror_mode": {
    "name": "ipython",
    "version": 3
   },
   "file_extension": ".py",
   "mimetype": "text/x-python",
   "name": "python",
   "nbconvert_exporter": "python",
   "pygments_lexer": "ipython3",
   "version": "3.8.6"
  }
 },
 "nbformat": 4,
 "nbformat_minor": 4
}
