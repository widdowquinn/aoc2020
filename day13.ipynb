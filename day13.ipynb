{
 "cells": [
  {
   "cell_type": "markdown",
   "metadata": {},
   "source": [
    "# Day 13: Shuttle Search\n",
    "\n",
    "Your ferry can make it safely to a nearby port, but it won't get much further. When you call to book another ship, you discover that no ships embark from that port to your vacation island. You'll need to get from the port to the nearest airport.\n",
    "\n",
    "Fortunately, a shuttle bus service is available to bring you from the sea port to the airport! Each bus has an ID number that also indicates how often the bus leaves for the airport.\n",
    "\n",
    "Bus schedules are defined based on a timestamp that measures the number of minutes since some fixed reference point in the past. At timestamp 0, every bus simultaneously departed from the sea port. After that, each bus travels to the airport, then various other locations, and finally returns to the sea port to repeat its journey forever.\n",
    "\n",
    "The time this loop takes a particular bus is also its ID number: the bus with ID 5 departs from the sea port at timestamps 0, 5, 10, 15, and so on. The bus with ID 11 departs at 0, 11, 22, 33, and so on. If you are there when the bus departs, you can ride that bus to the airport!\n",
    "\n",
    "Your notes (your puzzle input) consist of two lines. The first line is your estimate of the earliest timestamp you could depart on a bus. The second line lists the bus IDs that are in service according to the shuttle company; entries that show x must be out of service, so you decide to ignore them.\n",
    "\n",
    "To save time once you arrive, your goal is to figure out the earliest bus you can take to the airport. (There will be exactly one such bus.)\n",
    "\n",
    "For example, suppose you have the following notes:\n",
    "\n",
    "```text\n",
    "939\n",
    "7,13,x,x,59,x,31,19\n",
    "```\n",
    "\n",
    "Here, the earliest timestamp you could depart is 939, and the bus IDs in service are 7, 13, 59, 31, and 19. Near timestamp 939, these bus IDs depart at the times marked D:\n",
    "\n",
    "```text\n",
    "time   bus 7   bus 13  bus 59  bus 31  bus 19\n",
    "929      .       .       .       .       .\n",
    "930      .       .       .       D       .\n",
    "931      D       .       .       .       D\n",
    "932      .       .       .       .       .\n",
    "933      .       .       .       .       .\n",
    "934      .       .       .       .       .\n",
    "935      .       .       .       .       .\n",
    "936      .       D       .       .       .\n",
    "937      .       .       .       .       .\n",
    "938      D       .       .       .       .\n",
    "939      .       .       .       .       .\n",
    "940      .       .       .       .       .\n",
    "941      .       .       .       .       .\n",
    "942      .       .       .       .       .\n",
    "943      .       .       .       .       .\n",
    "944      .       .       D       .       .\n",
    "945      D       .       .       .       .\n",
    "946      .       .       .       .       .\n",
    "947      .       .       .       .       .\n",
    "948      .       .       .       .       .\n",
    "949      .       D       .       .       .\n",
    "```\n",
    "\n",
    "The earliest bus you could take is bus ID 59. It doesn't depart until timestamp 944, so you would need to wait 944 - 939 = 5 minutes before it departs. Multiplying the bus ID by the number of minutes you'd need to wait gives 295.\n",
    "\n",
    "What is the ID of the earliest bus you can take to the airport multiplied by the number of minutes you'll need to wait for that bus?"
   ]
  },
  {
   "cell_type": "code",
   "execution_count": 1,
   "metadata": {},
   "outputs": [],
   "source": [
    "# Python imports\n",
    "from math import prod\n",
    "from pathlib import Path\n",
    "from typing import List, Tuple\n",
    "\n",
    "import numpy as np"
   ]
  },
  {
   "cell_type": "markdown",
   "metadata": {},
   "source": [
    "We begin as usual with a function that loads input data into a useful form. Here, we load our timestamp (waiting start time), and the numbers of the buses that are available."
   ]
  },
  {
   "cell_type": "code",
   "execution_count": 2,
   "metadata": {},
   "outputs": [],
   "source": [
    "def load_data(fpath: str) -> Tuple[int, List[int]]:\n",
    "    \"\"\"Return the puzzle timestamp and bus number list\n",
    "    \n",
    "    :param fpath:  path to file containing puzzle input\n",
    "    \"\"\"\n",
    "    with Path(fpath).open(\"r\") as ifh:\n",
    "        timestamp = int(ifh.readline().strip())\n",
    "        buses = [int(_) for _ in ifh.readline().strip().split(\",\") if _ != \"x\"]\n",
    "    \n",
    "    return timestamp, buses"
   ]
  },
  {
   "cell_type": "code",
   "execution_count": 3,
   "metadata": {},
   "outputs": [
    {
     "data": {
      "text/plain": [
       "(939, [7, 13, 59, 31, 19])"
      ]
     },
     "execution_count": 3,
     "metadata": {},
     "output_type": "execute_result"
    }
   ],
   "source": [
    "timestamp, buses = load_data(\"day13_test.txt\")\n",
    "timestamp, buses"
   ]
  },
  {
   "cell_type": "markdown",
   "metadata": {},
   "source": [
    "This is a number theory/prime number/modulus problem.\n",
    "\n",
    "As buses leave on timestamps of multiples of their bus number, their leaving times are 0 (mod bus number). Any other time is the current timestamp (mod bus number) into the journey.\n",
    "\n",
    "The journey takes (bus number) units of time, so the wait time is (bus number) - (current timestamp [mod bus number]).\n",
    "\n",
    "We make the function `earliest_bus` calculate this value for all input buses, and return the shortest wait for any bus, and that bus' number."
   ]
  },
  {
   "cell_type": "code",
   "execution_count": 4,
   "metadata": {},
   "outputs": [],
   "source": [
    "def earliest_bus(timestamp: int, buses: List[int]) -> Tuple[int, int]:\n",
    "    \"\"\"Return shortest wait time for a bus, and that bus' number.\n",
    "    \n",
    "    :param timestamp:  current time (waiting start time)\n",
    "    :param buses:  list of bus numbers\n",
    "    \"\"\"\n",
    "    bus_waits = sorted([(bus - timestamp % bus, bus) for bus in buses])\n",
    "    return bus_waits[0]"
   ]
  },
  {
   "cell_type": "markdown",
   "metadata": {},
   "source": [
    "We solve the test problem."
   ]
  },
  {
   "cell_type": "code",
   "execution_count": 5,
   "metadata": {},
   "outputs": [
    {
     "data": {
      "text/plain": [
       "(5, 59, 295)"
      ]
     },
     "execution_count": 5,
     "metadata": {},
     "output_type": "execute_result"
    }
   ],
   "source": [
    "wait, bus = earliest_bus(timestamp, buses)\n",
    "wait, bus, wait * bus"
   ]
  },
  {
   "cell_type": "markdown",
   "metadata": {},
   "source": [
    "Then the real problem."
   ]
  },
  {
   "cell_type": "code",
   "execution_count": 6,
   "metadata": {},
   "outputs": [
    {
     "data": {
      "text/plain": [
       "(5, 509, 2545)"
      ]
     },
     "execution_count": 6,
     "metadata": {},
     "output_type": "execute_result"
    }
   ],
   "source": [
    "timestamp, buses = load_data(\"day13_data.txt\")\n",
    "wait, bus = earliest_bus(timestamp, buses)\n",
    "wait, bus, wait * bus"
   ]
  },
  {
   "cell_type": "markdown",
   "metadata": {},
   "source": [
    "## Part Two\n",
    "\n",
    "The shuttle company is running a contest: one gold coin for anyone that can find the earliest timestamp such that the first bus ID departs at that time and each subsequent listed bus ID departs at that subsequent minute. (The first line in your input is no longer relevant.)\n",
    "\n",
    "For example, suppose you have the same list of bus IDs as above:\n",
    "\n",
    "```text\n",
    "7,13,x,x,59,x,31,19\n",
    "````\n",
    "\n",
    "An `x` in the schedule means there are no constraints on what bus IDs must depart at that time.\n",
    "\n",
    "This means you are looking for the earliest timestamp (called t) such that:\n",
    "\n",
    "    Bus ID 7 departs at timestamp t.\n",
    "    Bus ID 13 departs one minute after timestamp t.\n",
    "    There are no requirements or restrictions on departures at two or three minutes after timestamp t.\n",
    "    Bus ID 59 departs four minutes after timestamp t.\n",
    "    There are no requirements or restrictions on departures at five minutes after timestamp t.\n",
    "    Bus ID 31 departs six minutes after timestamp t.\n",
    "    Bus ID 19 departs seven minutes after timestamp t.\n",
    "\n",
    "The only bus departures that matter are the listed bus IDs at their specific offsets from t. Those bus IDs can depart at other times, and other bus IDs can depart at those times. For example, in the list above, because bus ID 19 must depart seven minutes after the timestamp at which bus ID 7 departs, bus ID 7 will always also be departing with bus ID 19 at seven minutes after timestamp t.\n",
    "\n",
    "In this example, the earliest timestamp at which this occurs is 1068781:\n",
    "\n",
    "```text\n",
    "time     bus 7   bus 13  bus 59  bus 31  bus 19\n",
    "1068773    .       .       .       .       .\n",
    "1068774    D       .       .       .       .\n",
    "1068775    .       .       .       .       .\n",
    "1068776    .       .       .       .       .\n",
    "1068777    .       .       .       .       .\n",
    "1068778    .       .       .       .       .\n",
    "1068779    .       .       .       .       .\n",
    "1068780    .       .       .       .       .\n",
    "1068781    D       .       .       .       .\n",
    "1068782    .       D       .       .       .\n",
    "1068783    .       .       .       .       .\n",
    "1068784    .       .       .       .       .\n",
    "1068785    .       .       D       .       .\n",
    "1068786    .       .       .       .       .\n",
    "1068787    .       .       .       D       .\n",
    "1068788    D       .       .       .       D\n",
    "1068789    .       .       .       .       .\n",
    "1068790    .       .       .       .       .\n",
    "1068791    .       .       .       .       .\n",
    "1068792    .       .       .       .       .\n",
    "1068793    .       .       .       .       .\n",
    "1068794    .       .       .       .       .\n",
    "1068795    D       D       .       .       .\n",
    "1068796    .       .       .       .       .\n",
    "1068797    .       .       .       .       .\n",
    "```\n",
    "\n",
    "In the above example, bus ID 7 departs at timestamp 1068788 (seven minutes after t). This is fine; the only requirement on that minute is that bus ID 19 departs then, and it does.\n",
    "\n",
    "Here are some other examples:\n",
    "\n",
    "    The earliest timestamp that matches the list 17,x,13,19 is 3417.\n",
    "    67,7,59,61 first occurs at timestamp 754018.\n",
    "    67,x,7,59,61 first occurs at timestamp 779210.\n",
    "    67,7,x,59,61 first occurs at timestamp 1261476.\n",
    "    1789,37,47,1889 first occurs at timestamp 1202161486.\n",
    "\n",
    "However, with so many bus IDs in your list, surely the actual earliest timestamp will be larger than 100000000000000!\n",
    "\n",
    "What is the earliest timestamp such that all of the listed bus IDs depart at offsets matching their positions in the list?"
   ]
  },
  {
   "cell_type": "markdown",
   "metadata": {},
   "source": [
    "This is an extension of the above problem. The bus numbers are all prime, so the pattern of leave times repeats at the timestamp that is the product of all their numbers (and all multiples of this); this sets an upper limit on the appropriate timestamp.\n",
    "\n",
    "Consider two bus numbers p and q, with p > q. Suppose p must have a wait time of s and q must have a wait time of t. If 0 is not a solution time, then all possible solution times are s (mod p). Such solution times must also be t (mod q); that is, s = t (mod pq).\n",
    "\n",
    "This generalises so that all the wait times must be equal modulo the product of all bus numbers.\n",
    "\n",
    "A nuance of this is that a bus' wait time in the input data may be greater than that bus' number. In these cases, we need to calculate the wait time as index (mod bus number).\n",
    "\n",
    "> It took me quite a while to realise that the bus number could be greater than that bus' index in the list; that was my main solution bottleneck. When the index is greater than the bus number, my algorithm does not find a solution or halt.\n",
    "\n",
    "We write a function `load_offsets()` that loads puzzle input data from a file and calculates the appropriate wait time."
   ]
  },
  {
   "cell_type": "code",
   "execution_count": 7,
   "metadata": {},
   "outputs": [],
   "source": [
    "def load_offsets(fpath: str) -> List[Tuple[int, int]]:\n",
    "    \"\"\"Return a list of (bus number, wait time) tuples from the puzzle input file\n",
    "    \n",
    "    :param fpath:  path to puzzle input file\n",
    "    \"\"\"\n",
    "    with Path(fpath).open(\"r\") as ifh:\n",
    "        timestamp = int(ifh.readline().strip())\n",
    "        buses = [(int(bus), idx % int(bus)) for idx, bus in enumerate(ifh.readline().strip().split(\",\")) if bus != \"x\"]\n",
    "    \n",
    "    return buses"
   ]
  },
  {
   "cell_type": "code",
   "execution_count": 8,
   "metadata": {},
   "outputs": [
    {
     "data": {
      "text/plain": [
       "[(7, 0), (13, 1), (59, 4), (31, 6), (19, 7)]"
      ]
     },
     "execution_count": 8,
     "metadata": {},
     "output_type": "execute_result"
    }
   ],
   "source": [
    "buses = load_offsets(\"day13_test.txt\")\n",
    "buses"
   ]
  },
  {
   "cell_type": "markdown",
   "metadata": {},
   "source": [
    "We write the `check_buses()` function to check our candidate solutions."
   ]
  },
  {
   "cell_type": "code",
   "execution_count": 9,
   "metadata": {},
   "outputs": [],
   "source": [
    "def check_buses(timestamp: int, buses: List[Tuple[int, int]]) -> bool:\n",
    "    \"\"\"Returns True if timestamp results in the correct wait times\n",
    "    \n",
    "    :param timestamp:  candidate puzzle solution\n",
    "    :param buses:  (bus number, wait time) puzzle inputs\n",
    "    \"\"\"\n",
    "    bus_waits = [(bus, bus - timestamp % bus) for bus, wait in buses]\n",
    "    bus_waits = [(bus, 0 if wait == bus else wait) for bus, wait in bus_waits]\n",
    "    if bus_waits == buses:\n",
    "        return True"
   ]
  },
  {
   "cell_type": "markdown",
   "metadata": {},
   "source": [
    "The contest-winning algorithm uses the observation above to generate and test candidate timestamp solutions.\n",
    "\n",
    "To minimise the search time, we sort buses in order of bus number, in order to exclude the largest number of candidate values as early as possible. This works because we test for the first solution mod p (where p is the biggest possible single modulus), then the second with mod pq (the biggest possible modulus that is the product of two bus numbers p and q), and so on until we are looking at a modulus that is the product of all bus numbers except the smallest. (This also implies a lower bound on the initial search value of that modulus but, empirically, the function is faster starting from zero).\n",
    "\n",
    "We implement the algorithm in the function `find_wait_timestamp()`"
   ]
  },
  {
   "cell_type": "code",
   "execution_count": 10,
   "metadata": {},
   "outputs": [],
   "source": [
    "def find_wait_timestamp(buses: List[Tuple[int, int]]) -> int:\n",
    "    \"\"\"Returns timestamp at which all buses have stated wait times\n",
    "    \n",
    "    :param buses:  list of (bus number, wait time) puzzle inputs\n",
    "    \"\"\"\n",
    "    buses = sorted(buses, reverse=True)\n",
    "    bcopy = buses[:]  # copy necessary for check as we pop buses from input list\n",
    "\n",
    "    # Result must be in following limits\n",
    "    lower_bound = prod([bus for bus, idx in buses[:-1]])\n",
    "    upper_bound = prod([bus for bus, idx in buses])\n",
    "    print(f\"{lower_bound=} {upper_bound=}\")\n",
    "    \n",
    "    # Start at time zero (not a solution), with timestamp step size 1\n",
    "    curtime, curstep = 0, 1  # curtime is the candidate time; curstep the test modulus\n",
    "    while len(buses):  # If there are any buses left in the list, get the next input\n",
    "        curbus, curoffset = buses.pop(0)  # bus number and wait time\n",
    "        \n",
    "        # If the expected wait time is zero, set the expected wait time\n",
    "        # to the bus number (=0 (mod bus number)); this is necessary for\n",
    "        # the calculations/checks\n",
    "        if curoffset == 0:\n",
    "            curoffset = curbus\n",
    "        print(f\"{curbus=}, {curoffset=}, {curtime=}, {curstep=}\")\n",
    "        \n",
    "        # Loop while the candidate time does not result in the expected\n",
    "        # wait time (i.e. timestamp (mod curstep) is not wait time)\n",
    "        while curbus - curtime % curbus != curoffset:\n",
    "            curtime += curstep  # increment the candidate time equal to modulus\n",
    "            if check_buses(curtime, bcopy):  # candidate is a winner?\n",
    "                return curtime  # return the winning timestamp\n",
    "        \n",
    "        # The buses considered so far have the correct wait times, so\n",
    "        # increase the modulus to the product of the current bus number\n",
    "        # and the current modulus.\n",
    "        # For instance, if current modulus is pq and current bus number is r,\n",
    "        # new modulus is pqr\n",
    "        # Our search excludes exponentially more search space with each new\n",
    "        # bus added\n",
    "        curstep *= curbus        "
   ]
  },
  {
   "cell_type": "code",
   "execution_count": 11,
   "metadata": {},
   "outputs": [
    {
     "name": "stdout",
     "output_type": "stream",
     "text": [
      "lower_bound=451763 upper_bound=3162341\n",
      "curbus=59, curoffset=4, curtime=0, curstep=1\n",
      "curbus=31, curoffset=6, curtime=55, curstep=59\n",
      "curbus=19, curoffset=7, curtime=645, curstep=1829\n",
      "curbus=13, curoffset=1, curtime=26251, curstep=34751\n",
      "curbus=7, curoffset=7, curtime=165255, curstep=451763\n"
     ]
    },
    {
     "data": {
      "text/plain": [
       "1068781"
      ]
     },
     "execution_count": 11,
     "metadata": {},
     "output_type": "execute_result"
    }
   ],
   "source": [
    "buses = load_offsets(\"day13_test.txt\")\n",
    "find_wait_timestamp(buses)"
   ]
  },
  {
   "cell_type": "code",
   "execution_count": 12,
   "metadata": {},
   "outputs": [
    {
     "name": "stdout",
     "output_type": "stream",
     "text": [
      "lower_bound=158832787 upper_bound=5876813119\n",
      "curbus=1889, curoffset=3, curtime=0, curstep=1\n",
      "curbus=1789, curoffset=1789, curtime=1886, curstep=1889\n",
      "curbus=47, curoffset=2, curtime=2467031, curstep=3379421\n",
      "curbus=37, curoffset=1, curtime=90331977, curstep=158832787\n"
     ]
    },
    {
     "data": {
      "text/plain": [
       "1202161486"
      ]
     },
     "execution_count": 12,
     "metadata": {},
     "output_type": "execute_result"
    }
   ],
   "source": [
    "find_wait_timestamp([(1789,0), (37,1), (47,2), (1889,3)])"
   ]
  },
  {
   "cell_type": "code",
   "execution_count": 13,
   "metadata": {},
   "outputs": [
    {
     "name": "stdout",
     "output_type": "stream",
     "text": [
      "lower_bound=106965245506139 upper_bound=1390548191579807\n",
      "curbus=643, curoffset=19, curtime=0, curstep=1\n",
      "curbus=509, curoffset=50, curtime=624, curstep=643\n",
      "curbus=41, curoffset=9, curtime=275828, curstep=327287\n",
      "curbus=37, curoffset=19, curtime=2566837, curstep=13418767\n",
      "curbus=29, curoffset=21, curtime=56241905, curstep=496494379\n",
      "curbus=23, curoffset=19, curtime=8000151969, curstep=14398336991\n",
      "curbus=19, curoffset=19, curtime=281568554798, curstep=331161750793\n",
      "curbus=17, curoffset=2, curtime=1937377308763, curstep=6292073265067\n",
      "curbus=13, curoffset=11, curtime=52273963429299, curstep=106965245506139\n"
     ]
    },
    {
     "data": {
      "text/plain": [
       "266204454441577"
      ]
     },
     "execution_count": 13,
     "metadata": {},
     "output_type": "execute_result"
    }
   ],
   "source": [
    "buses = load_offsets(\"day13_data.txt\")\n",
    "find_wait_timestamp(buses)"
   ]
  },
  {
   "cell_type": "code",
   "execution_count": null,
   "metadata": {},
   "outputs": [],
   "source": []
  }
 ],
 "metadata": {
  "kernelspec": {
   "display_name": "Python 3",
   "language": "python",
   "name": "python3"
  },
  "language_info": {
   "codemirror_mode": {
    "name": "ipython",
    "version": 3
   },
   "file_extension": ".py",
   "mimetype": "text/x-python",
   "name": "python",
   "nbconvert_exporter": "python",
   "pygments_lexer": "ipython3",
   "version": "3.8.6"
  }
 },
 "nbformat": 4,
 "nbformat_minor": 4
}
