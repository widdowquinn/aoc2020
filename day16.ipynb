{
 "cells": [
  {
   "cell_type": "markdown",
   "metadata": {},
   "source": [
    "# Day 16: Ticket Translation\n",
    "\n",
    "As you're walking to yet another connecting flight, you realize that one of the legs of your re-routed trip coming up is on a high-speed train. However, the train ticket you were given is in a language you don't understand. You should probably figure out what it says before you get to the train station after the next flight.\n",
    "\n",
    "Unfortunately, you can't actually read the words on the ticket. You can, however, read the numbers, and so you figure out the fields these tickets must have and the valid ranges for values in those fields.\n",
    "\n",
    "You collect the rules for ticket fields, the numbers on your ticket, and the numbers on other nearby tickets for the same train service (via the airport security cameras) together into a single document you can reference (your puzzle input).\n",
    "\n",
    "The rules for ticket fields specify a list of fields that exist somewhere on the ticket and the valid ranges of values for each field. For example, a rule like class: 1-3 or 5-7 means that one of the fields in every ticket is named class and can be any value in the ranges 1-3 or 5-7 (inclusive, such that 3 and 5 are both valid in this field, but 4 is not).\n",
    "\n",
    "Each ticket is represented by a single line of comma-separated values. The values are the numbers on the ticket in the order they appear; every ticket has the same format. For example, consider this ticket:\n",
    "\n",
    "```text\n",
    ".--------------------------------------------------------.\n",
    "| ????: 101    ?????: 102   ??????????: 103     ???: 104 |\n",
    "|                                                        |\n",
    "| ??: 301  ??: 302             ???????: 303      ??????? |\n",
    "| ??: 401  ??: 402           ???? ????: 403    ????????? |\n",
    "'--------------------------------------------------------'\n",
    "```\n",
    "\n",
    "Here, ? represents text in a language you don't understand. This ticket might be represented as 101,102,103,104,301,302,303,401,402,403; of course, the actual train tickets you're looking at are much more complicated. In any case, you've extracted just the numbers in such a way that the first number is always the same specific field, the second number is always a different specific field, and so on - you just don't know what each position actually means!\n",
    "\n",
    "Start by determining which tickets are completely invalid; these are tickets that contain values which aren't valid for any field. Ignore your ticket for now.\n",
    "\n",
    "For example, suppose you have the following notes:\n",
    "\n",
    "```text\n",
    "class: 1-3 or 5-7\n",
    "row: 6-11 or 33-44\n",
    "seat: 13-40 or 45-50\n",
    "\n",
    "your ticket:\n",
    "7,1,14\n",
    "\n",
    "nearby tickets:\n",
    "7,3,47\n",
    "40,4,50\n",
    "55,2,20\n",
    "38,6,12\n",
    "```\n",
    "\n",
    "It doesn't matter which position corresponds to which field; you can identify invalid nearby tickets by considering only whether tickets contain values that are not valid for any field. In this example, the values on the first nearby ticket are all valid for at least one field. This is not true of the other three nearby tickets: the values 4, 55, and 12 are are not valid for any field. Adding together all of the invalid values produces your ticket scanning error rate: 4 + 55 + 12 = 71.\n",
    "\n",
    "Consider the validity of the nearby tickets you scanned. What is your ticket scanning error rate?"
   ]
  },
  {
   "cell_type": "code",
   "execution_count": 1,
   "metadata": {},
   "outputs": [],
   "source": [
    "# Python imports\n",
    "from math import prod\n",
    "from pathlib import Path\n",
    "from typing import Dict, List, Tuple"
   ]
  },
  {
   "cell_type": "markdown",
   "metadata": {},
   "source": [
    "The puzzle has a more complex input file structure than usual, so we break out parsing field names/ranges into its own function for convenience:"
   ]
  },
  {
   "cell_type": "code",
   "execution_count": 2,
   "metadata": {},
   "outputs": [],
   "source": [
    "def parse_field(line: str) -> Tuple[str, List[Tuple[int, int]]]:\n",
    "    \"\"\"Return (name, [ranges]) for a single definition line in puzzle input\n",
    "    \n",
    "    :param line:  definition of field ranges from puzzle input\n",
    "    \"\"\"\n",
    "    vals = []\n",
    "    name, valstr = line.strip().split(\": \")\n",
    "    valstr = valstr.split(\" or \")\n",
    "    for val in valstr:\n",
    "        start, end = val.split(\"-\")\n",
    "        vals.append((int(start), int(end)))\n",
    "    return name, vals"
   ]
  },
  {
   "cell_type": "markdown",
   "metadata": {},
   "source": [
    "And for the data loading we actually have to switch parsing modes to get the data into the state we want: separate fields/field ranges, my ticket and nearby ticket elements.\n",
    "\n",
    "We could turn this into a `namedtuple` or `Dataclass` but for now we keep it as a tuple."
   ]
  },
  {
   "cell_type": "code",
   "execution_count": 3,
   "metadata": {},
   "outputs": [],
   "source": [
    "def load_data(fpath: str) -> Tuple[Dict[str, List[Tuple[int]]], Tuple[int], List[Tuple[int]]]:\n",
    "    \"\"\"Return field range definitions, my ticket, and list of nearby tickets\n",
    "    \n",
    "    :param fpath:  path to the puzzle input file\n",
    "    \"\"\"\n",
    "    fields = {}  # valid start, end ranges keyed by field name\n",
    "    my_ticket = None  # list of field values on my ticket\n",
    "    nearby_tickets = []  # lists of field  values on nearby tickets\n",
    "    \n",
    "    mode = \"field\"  # current parsing mode\n",
    "    with Path(fpath).open(\"r\") as ifh:\n",
    "        for line in [_ for _ in ifh.readlines() if len(_.strip())]:\n",
    "            if line.startswith(\"your\"):  # switch parsing mode to \"my ticket\"\n",
    "                mode = \"your_ticket\"\n",
    "                continue\n",
    "            if line.startswith(\"nearby\"):  # switch parsing model to \"nearby tickets\"\n",
    "                mode = \"nearby_ticket\"\n",
    "                continue\n",
    "                \n",
    "            if mode == \"field\":  # parse field ranges\n",
    "                name, vals = parse_field(line)\n",
    "                fields[name] = vals\n",
    "            elif mode == \"your_ticket\":  # parse my ticket\n",
    "                my_ticket = tuple([int(_) for _ in line.strip().split(\",\")])\n",
    "            elif mode == \"nearby_ticket\":  # parse nearby ticket\n",
    "                nearby_tickets.append(tuple([int(_) for _ in line.strip().split(\",\")]))\n",
    "            \n",
    "    return fields, my_ticket, nearby_tickets"
   ]
  },
  {
   "cell_type": "markdown",
   "metadata": {},
   "source": [
    "To solve the first part of the puzzle, we need to identify all values on each ticket that are not valid in any of the field ranges, then sum them.\n",
    "\n",
    "This could be a useful function for later in the puzzle, so we create `get_invalid_ticket_values()` to return a set of values - from a single ticket - that do not correspond to any of the valid ranges."
   ]
  },
  {
   "cell_type": "code",
   "execution_count": 4,
   "metadata": {},
   "outputs": [],
   "source": [
    "def get_invalid_ticket_values(inticket: Tuple[int], fields: Dict[str, List[Tuple[int]]]):\n",
    "    \"\"\"Return invalid values on the ticket, according to fields\n",
    "    \n",
    "    :param inticket:  input ticket\n",
    "    :param fields:  field ranges, keyed by field name\n",
    "    \"\"\"\n",
    "    valid = set()  # valid numbers on a ticket\n",
    "    ticket = set(inticket)  # convert ticket to set for easy processing\n",
    "    \n",
    "    # Check each value on the ticket against the ranges of each field and,\n",
    "    # if the value is in the valid range, add it to the valid set\n",
    "    for val in ticket:\n",
    "        for key, ranges in fields.items():\n",
    "            for start, end in ranges:\n",
    "                if end >= val >= start:\n",
    "                    valid.add(val)\n",
    "                    continue  # skip on to next range\n",
    "            if val in valid:\n",
    "                continue  # skip on to next ticket value\n",
    "                    \n",
    "    # Return values on the ticket that are not in the valid set\n",
    "    return ticket.difference(valid)"
   ]
  },
  {
   "cell_type": "markdown",
   "metadata": {},
   "source": [
    "We check our own ticket for invalid values."
   ]
  },
  {
   "cell_type": "code",
   "execution_count": 5,
   "metadata": {},
   "outputs": [
    {
     "data": {
      "text/plain": [
       "set()"
      ]
     },
     "execution_count": 5,
     "metadata": {},
     "output_type": "execute_result"
    }
   ],
   "source": [
    "fields, my_ticket, nearby_tickets = load_data(\"day16_test.txt\")\n",
    "get_invalid_ticket_values(my_ticket, fields)"
   ]
  },
  {
   "cell_type": "markdown",
   "metadata": {},
   "source": [
    "Then we create a function to scan all nearby tickets for invalid values, and return their sum:"
   ]
  },
  {
   "cell_type": "code",
   "execution_count": 6,
   "metadata": {},
   "outputs": [],
   "source": [
    "def scan_tickets(tickets: List[Tuple[int]], fields: Dict[str, List[Tuple[int]]]):\n",
    "    \"\"\"Return sum of invalid numbers on input tickets\n",
    "    \n",
    "    :param tickets:  input tickets\n",
    "    :param fields:  field ranges, keyed by name\n",
    "    \"\"\"\n",
    "    invalid = []  # invalid numbers from tickets\n",
    "    \n",
    "    # Check each ticket for invalid numbers; if number is invalid\n",
    "    # add to the invalid list\n",
    "    for ticket in tickets:\n",
    "        vals = get_invalid_ticket_values(ticket, fields)\n",
    "        if len(vals):\n",
    "            invalid.extend(list(vals))\n",
    "            \n",
    "    # Return sum of invalid numbers\n",
    "    return sum(invalid)"
   ]
  },
  {
   "cell_type": "markdown",
   "metadata": {},
   "source": [
    "Solving the test data:"
   ]
  },
  {
   "cell_type": "code",
   "execution_count": 7,
   "metadata": {},
   "outputs": [
    {
     "data": {
      "text/plain": [
       "71"
      ]
     },
     "execution_count": 7,
     "metadata": {},
     "output_type": "execute_result"
    }
   ],
   "source": [
    "fields, my_ticket, nearby_tickets = load_data(\"day16_test.txt\")\n",
    "scan_tickets(nearby_tickets, fields)"
   ]
  },
  {
   "cell_type": "markdown",
   "metadata": {},
   "source": [
    "And then the real data:"
   ]
  },
  {
   "cell_type": "code",
   "execution_count": 8,
   "metadata": {},
   "outputs": [
    {
     "data": {
      "text/plain": [
       "19093"
      ]
     },
     "execution_count": 8,
     "metadata": {},
     "output_type": "execute_result"
    }
   ],
   "source": [
    "fields, my_ticket, nearby_tickets = load_data(\"day16_data.txt\")\n",
    "scan_tickets(nearby_tickets, fields)"
   ]
  },
  {
   "cell_type": "markdown",
   "metadata": {},
   "source": [
    "## Part Two\n",
    "\n",
    "Now that you've identified which tickets contain invalid values, discard those tickets entirely. Use the remaining valid tickets to determine which field is which.\n",
    "\n",
    "Using the valid ranges for each field, determine what order the fields appear on the tickets. The order is consistent between all tickets: if seat is the third field, it is the third field on every ticket, including your ticket.\n",
    "\n",
    "For example, suppose you have the following notes:\n",
    "\n",
    "```\n",
    "class: 0-1 or 4-19\n",
    "row: 0-5 or 8-19\n",
    "seat: 0-13 or 16-19\n",
    "\n",
    "your ticket:\n",
    "11,12,13\n",
    "\n",
    "nearby tickets:\n",
    "3,9,18\n",
    "15,1,5\n",
    "5,14,9\n",
    "```\n",
    "\n",
    "Based on the nearby tickets in the above example, the first position must be row, the second position must be class, and the third position must be seat; you can conclude that in your ticket, class is 12, row is 11, and seat is 13.\n",
    "\n",
    "Once you work out which field is which, look for the six fields on your ticket that start with the word departure. What do you get if you multiply those six values together?"
   ]
  },
  {
   "cell_type": "markdown",
   "metadata": {},
   "source": [
    "We've got a new set of test data, so we sanity-check the input."
   ]
  },
  {
   "cell_type": "code",
   "execution_count": 9,
   "metadata": {},
   "outputs": [
    {
     "data": {
      "text/plain": [
       "({'class': [(0, 1), (4, 19)],\n",
       "  'row': [(0, 5), (8, 19)],\n",
       "  'seat': [(0, 13), (16, 19)]},\n",
       " (11, 12, 13),\n",
       " [(3, 9, 18), (15, 1, 5), (5, 14, 9)])"
      ]
     },
     "execution_count": 9,
     "metadata": {},
     "output_type": "execute_result"
    }
   ],
   "source": [
    "fields, my_ticket, nearby_tickets = load_data(\"day16_test2.txt\")\n",
    "fields, my_ticket, nearby_tickets"
   ]
  },
  {
   "cell_type": "markdown",
   "metadata": {},
   "source": [
    "To identify fields, we use a two-stage approach.\n",
    "\n",
    "We set up the algorithm with a dictionary keyed by ticket column indices - initially, these could correspond to any of the fields, but we'll eliminate options as they are invalidated by each ticket.\n",
    "\n",
    "Firstly, we take each ticket in turn, discarding invalid tickets. We check the number in each column of the (valid) ticket against each field range and, if the number is not valid for that field, eliminate the field from the dictionary above.\n",
    "\n",
    "The second part of the process assumes that the dictionary is in a state where the problem can be solved. Any column in the dictionary that now contains only a single field is \"solved\" - the field belongs to that column. So, we can remove that field from all other columns. While there remain any unsolved columns, we loop over all keys and items in the dictionary, identifying solved columns. For each solved column we remove the corresponding field from all other columns. We repeat this until all columns are solved, then we return the solution."
   ]
  },
  {
   "cell_type": "code",
   "execution_count": 10,
   "metadata": {},
   "outputs": [],
   "source": [
    "def identify_fields(fields: Dict[str, List[Tuple[int]]], tickets: List[Tuple[int]]) -> Dict[int, List[str]]:\n",
    "    \"\"\"Identify the name associated with each field index on a ticket\n",
    "    \n",
    "    :param fields:  field ranges keyed by field name\n",
    "    :param tickets:  input ticket values\n",
    "    \"\"\"\n",
    "    # set up dictionary, keyed by ticket index\n",
    "    # add all known fields to each index\n",
    "    # we'll remove these fields one-by-one as they are invalidated\n",
    "    fieldcols = {}\n",
    "    for idx in range(len(tickets[0])):\n",
    "        fieldcols[idx] = list(fields.keys())\n",
    "    \n",
    "    # exclude field from columns when an invalid value is found in that column\n",
    "    for ticket in tickets:\n",
    "        # Skip any tickets that are just invalid\n",
    "        if len(get_invalid_ticket_values(ticket, fields)):\n",
    "            continue\n",
    "\n",
    "        # Check each valid ticket column\n",
    "        for idx, val in enumerate(ticket):\n",
    "            for key, ranges in fields.items():\n",
    "                # If this column is valid for the field key, set valid_field to True\n",
    "                valid_field = False\n",
    "                for (start, end) in ranges:\n",
    "                    if end >= val >= start:\n",
    "                        valid_field = True\n",
    "                # If the column is not a valid value for the field, remove that field\n",
    "                # from the fieldcols dictionary\n",
    "                if not valid_field:\n",
    "                    try:\n",
    "                        fieldcols[idx].remove(key)\n",
    "                    except:\n",
    "                        pass\n",
    "    \n",
    "    # identify any columns where there is only one possible field\n",
    "    # this field cannot correspond to any other column, so remove it from all\n",
    "    # other columns\n",
    "    # repeat until all columns are assigned a field name\n",
    "    # This is a hacky solution - better to avoid the rechecks of the same\n",
    "    # field name! Could hold a list of \"solved\" columns, and remove fields\n",
    "    # and columns from the dictionary when solved, for instance\n",
    "    while any([len(_) > 1 for _ in fieldcols.values()]):  # False when solved\n",
    "        for key, vals in fieldcols.items():\n",
    "            if len(vals) == 1:  # Current field solved\n",
    "                val = vals[0]\n",
    "                # Remove this field name from all other columns\n",
    "                for k, v in fieldcols.items():\n",
    "                    if k != key:\n",
    "                        try:\n",
    "                            v.remove(val)\n",
    "                        except:\n",
    "                            pass\n",
    "    \n",
    "    # Return the solution\n",
    "    return {k:v[0] for k, v in fieldcols.items()}"
   ]
  },
  {
   "cell_type": "markdown",
   "metadata": {},
   "source": [
    "We check the test puzzle."
   ]
  },
  {
   "cell_type": "code",
   "execution_count": 11,
   "metadata": {},
   "outputs": [
    {
     "data": {
      "text/plain": [
       "{0: 'row', 1: 'class', 2: 'seat'}"
      ]
     },
     "execution_count": 11,
     "metadata": {},
     "output_type": "execute_result"
    }
   ],
   "source": [
    "fields, my_ticket, nearby_tickets = load_data(\"day16_test2.txt\")\n",
    "identify_fields(fields, nearby_tickets)"
   ]
  },
  {
   "cell_type": "markdown",
   "metadata": {},
   "source": [
    "Now we solve the real puzzle."
   ]
  },
  {
   "cell_type": "code",
   "execution_count": 12,
   "metadata": {},
   "outputs": [
    {
     "data": {
      "text/plain": [
       "{0: 'arrival location',\n",
       " 1: 'arrival track',\n",
       " 2: 'row',\n",
       " 3: 'seat',\n",
       " 4: 'price',\n",
       " 5: 'departure platform',\n",
       " 6: 'departure date',\n",
       " 7: 'arrival platform',\n",
       " 8: 'duration',\n",
       " 9: 'type',\n",
       " 10: 'departure station',\n",
       " 11: 'departure track',\n",
       " 12: 'train',\n",
       " 13: 'class',\n",
       " 14: 'arrival station',\n",
       " 15: 'wagon',\n",
       " 16: 'departure time',\n",
       " 17: 'route',\n",
       " 18: 'zone',\n",
       " 19: 'departure location'}"
      ]
     },
     "execution_count": 12,
     "metadata": {},
     "output_type": "execute_result"
    }
   ],
   "source": [
    "fields, my_ticket, nearby_tickets = load_data(\"day16_data.txt\")\n",
    "fieldnames = identify_fields(fields, nearby_tickets)\n",
    "fieldnames"
   ]
  },
  {
   "cell_type": "markdown",
   "metadata": {},
   "source": [
    "The value required is the product of the values on *my ticket* for the columns starting with the word \"departure\", and we can calculate this directly:"
   ]
  },
  {
   "cell_type": "code",
   "execution_count": 13,
   "metadata": {},
   "outputs": [
    {
     "data": {
      "text/plain": [
       "5311123569883"
      ]
     },
     "execution_count": 13,
     "metadata": {},
     "output_type": "execute_result"
    }
   ],
   "source": [
    "fieldids = [key for key, val in fieldnames.items() if val.startswith(\"departure\")]\n",
    "prod([my_ticket[idx] for idx in fieldids])"
   ]
  }
 ],
 "metadata": {
  "kernelspec": {
   "display_name": "Python 3",
   "language": "python",
   "name": "python3"
  },
  "language_info": {
   "codemirror_mode": {
    "name": "ipython",
    "version": 3
   },
   "file_extension": ".py",
   "mimetype": "text/x-python",
   "name": "python",
   "nbconvert_exporter": "python",
   "pygments_lexer": "ipython3",
   "version": "3.8.6"
  }
 },
 "nbformat": 4,
 "nbformat_minor": 4
}
