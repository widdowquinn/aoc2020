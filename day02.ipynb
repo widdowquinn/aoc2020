{
 "cells": [
  {
   "cell_type": "markdown",
   "metadata": {},
   "source": [
    "# Day 2: Password Philosophy\n",
    "\n",
    "Your flight departs in a few days from the coastal airport; the easiest way down to the coast from here is via toboggan.\n",
    "\n",
    "The shopkeeper at the North Pole Toboggan Rental Shop is having a bad day. \"Something's wrong with our computers; we can't log in!\" You ask if you can take a look.\n",
    "\n",
    "Their password database seems to be a little corrupted: some of the passwords wouldn't have been allowed by the Official Toboggan Corporate Policy that was in effect when they were chosen.\n",
    "\n",
    "To try to debug the problem, they have created a list (your puzzle input) of passwords (according to the corrupted database) and the corporate policy when that password was set.\n",
    "\n",
    "## Puzzle 1\n",
    "\n",
    "For example, suppose you have the following list:\n",
    "\n",
    "```text\n",
    "1-3 a: abcde\n",
    "1-3 b: cdefg\n",
    "2-9 c: ccccccccc\n",
    "```\n",
    "\n",
    "Each line gives the password policy and then the password. The password policy indicates the lowest and highest number of times a given letter must appear for the password to be valid. For example, 1-3 a means that the password must contain a at least 1 time and at most 3 times.\n",
    "\n",
    "In the above example, 2 passwords are valid. The middle password, cdefg, is not; it contains no instances of b, but needs at least 1. The first and third passwords are valid: they contain one a or nine c, both within the limits of their respective policies.\n",
    "\n",
    "How many passwords are valid according to their policies?"
   ]
  },
  {
   "cell_type": "code",
   "execution_count": 1,
   "metadata": {},
   "outputs": [],
   "source": [
    "# Python imports\n",
    "from dataclasses import dataclass\n",
    "from pathlib import Path\n",
    "from typing import Callable"
   ]
  },
  {
   "cell_type": "markdown",
   "metadata": {},
   "source": [
    "We could split the task into functions that (1) parse each password/policy combination into a data structure (e.g. dictionary or tuple) and (2) check the data structure. But the problem is small enough that we might as well write a single function that does both."
   ]
  },
  {
   "cell_type": "code",
   "execution_count": 2,
   "metadata": {},
   "outputs": [],
   "source": [
    "def validate_password(pwd):\n",
    "    \"\"\"Return True if the combination of password and policy is valid.\n",
    "    \n",
    "    :param pwd:  password and policy in <int1>-<int2> <char>: <password> format\n",
    "    \n",
    "    To be valid, the <password> must contain <char> at least <int1> times, and\n",
    "    no more than <int2> times.\n",
    "    \"\"\"\n",
    "    # Split password into elements\n",
    "    elems = pwd.strip().split()\n",
    "    minc, maxc = [int(_) for _ in elems[0].split(\"-\")]\n",
    "    char = elems[1][0]\n",
    "    passwd = elems[-1]\n",
    "    \n",
    "    # Check password\n",
    "    count = passwd.count(char)\n",
    "    if count < minc:\n",
    "        return False\n",
    "    if count > maxc:\n",
    "        return False\n",
    "    \n",
    "    return True"
   ]
  },
  {
   "cell_type": "markdown",
   "metadata": {},
   "source": [
    "We write a function to handle the local file of password and policy data."
   ]
  },
  {
   "cell_type": "code",
   "execution_count": 3,
   "metadata": {},
   "outputs": [],
   "source": [
    "def check_password_file(fpath):\n",
    "    \"\"\"Load password file and return number of valid/invalid passwords\n",
    "    \n",
    "    :param fpath:  path to password file\n",
    "    \"\"\"\n",
    "    valid, invalid = 0, 0\n",
    "    \n",
    "    with Path(fpath).open(\"r\") as ifh:\n",
    "        for line in ifh.readlines():\n",
    "            if validate_password(line):\n",
    "                valid += 1\n",
    "            else:\n",
    "                invalid += 1\n",
    "                \n",
    "    return (valid, invalid)"
   ]
  },
  {
   "cell_type": "markdown",
   "metadata": {},
   "source": [
    "Solving the example puzzle."
   ]
  },
  {
   "cell_type": "code",
   "execution_count": 4,
   "metadata": {},
   "outputs": [
    {
     "data": {
      "text/plain": [
       "(2, 1)"
      ]
     },
     "execution_count": 4,
     "metadata": {},
     "output_type": "execute_result"
    }
   ],
   "source": [
    "check_password_file(\"day02_test.txt\")"
   ]
  },
  {
   "cell_type": "markdown",
   "metadata": {},
   "source": [
    "Solving the real puzzle."
   ]
  },
  {
   "cell_type": "code",
   "execution_count": 5,
   "metadata": {},
   "outputs": [
    {
     "data": {
      "text/plain": [
       "(418, 582)"
      ]
     },
     "execution_count": 5,
     "metadata": {},
     "output_type": "execute_result"
    }
   ],
   "source": [
    "check_password_file(\"day02_data.txt\")"
   ]
  },
  {
   "cell_type": "markdown",
   "metadata": {},
   "source": [
    "## Puzzle 2\n",
    "\n",
    "While it appears you validated the passwords correctly, they don't seem to be what the Official Toboggan Corporate Authentication System is expecting.\n",
    "\n",
    "The shopkeeper suddenly realizes that he just accidentally explained the password policy rules from his old job at the sled rental place down the street! The Official Toboggan Corporate Policy actually works a little differently.\n",
    "\n",
    "Each policy actually describes two positions in the password, where 1 means the first character, 2 means the second character, and so on. (Be careful; Toboggan Corporate Policies have no concept of \"index zero\"!) Exactly one of these positions must contain the given letter. Other occurrences of the letter are irrelevant for the purposes of policy enforcement.\n",
    "\n",
    "Given the same example list from above:\n",
    "\n",
    "    1-3 a: abcde is valid: position 1 contains a and position 3 does not.\n",
    "    1-3 b: cdefg is invalid: neither position 1 nor position 3 contains b.\n",
    "    2-9 c: ccccccccc is invalid: both position 2 and position 9 contain c.\n",
    "\n",
    "How many passwords are valid according to the new interpretation of the policies?"
   ]
  },
  {
   "cell_type": "markdown",
   "metadata": {},
   "source": [
    "We don't need to touch the `check_password_file()` function - we only need to modify the `validate_password()` function to change the password policy rule."
   ]
  },
  {
   "cell_type": "code",
   "execution_count": 6,
   "metadata": {},
   "outputs": [],
   "source": [
    "def validate_password(pwd):\n",
    "    \"\"\"Return True if the combination of password and policy is valid.\n",
    "    \n",
    "    :param pwd:  password and policy in <int1>-<int2> <char>: <password> format\n",
    "    \n",
    "    To be valid, the <password> must contain <char> at position <int1> or <int2>.\n",
    "    \"\"\"\n",
    "    # Split password into elements\n",
    "    elems = pwd.strip().split()\n",
    "    minc, maxc = [int(_) for _ in elems[0].split(\"-\")]\n",
    "    char = elems[1][0]\n",
    "    passwd = elems[-1]\n",
    "    \n",
    "    # Check password\n",
    "    if (passwd[minc-1] + passwd[maxc-1]).count(char) == 1:\n",
    "        return True\n",
    "    \n",
    "    return False"
   ]
  },
  {
   "cell_type": "markdown",
   "metadata": {},
   "source": [
    "Solving the example puzzle."
   ]
  },
  {
   "cell_type": "code",
   "execution_count": 7,
   "metadata": {},
   "outputs": [
    {
     "data": {
      "text/plain": [
       "(1, 2)"
      ]
     },
     "execution_count": 7,
     "metadata": {},
     "output_type": "execute_result"
    }
   ],
   "source": [
    "check_password_file(\"day02_test.txt\")"
   ]
  },
  {
   "cell_type": "markdown",
   "metadata": {},
   "source": [
    "Solving the real puzzle."
   ]
  },
  {
   "cell_type": "code",
   "execution_count": 8,
   "metadata": {},
   "outputs": [
    {
     "data": {
      "text/plain": [
       "(616, 384)"
      ]
     },
     "execution_count": 8,
     "metadata": {},
     "output_type": "execute_result"
    }
   ],
   "source": [
    "check_password_file(\"day02_data.txt\")"
   ]
  },
  {
   "cell_type": "markdown",
   "metadata": {},
   "source": [
    "## Refactoring\n",
    "\n",
    "Although we wrote `validate_password()` as a single function in both cases to split up the password into elements, and then check the policy, the need to accommodate changes to the policy suggests we can *refactor* our solution to make future changes easier to manage.\n",
    "\n",
    "As it stands, we have to completely replace the `validate_password()` function every time the policy changes. It would be more maintainable if we were to split up the policy check from the password parsing, like we do below. Note that we can pass *functions* to other functions, just as if they were data.\n",
    "\n",
    "There are now more functions, and a dataclass, which looks more complicated (and it *is* more complicated than it needs to be for this puzzle), but if we needed to implement a number of different password policies, this would be more flexible and maintainable.\n",
    "\n",
    "A change here is that we define a `dataclass` to represent the password elements. These are relatively new introductions to Python."
   ]
  },
  {
   "cell_type": "code",
   "execution_count": 9,
   "metadata": {},
   "outputs": [],
   "source": [
    "@dataclass\n",
    "class PassPolicy:\n",
    "    \"\"\"Represents a password and password policy.\"\"\"\n",
    "    minc: int\n",
    "    maxc: int\n",
    "    char: str\n",
    "    passwd: str\n",
    "\n",
    "        \n",
    "def parse_password(pwd):\n",
    "    \"\"\"Return password and policy as PassPolicy object.\n",
    "    \n",
    "    :param pwd:  password and policy in <int1>-<int2> <char>: <password> format\n",
    "    \n",
    "    To be valid, the <password> must contain <char> at position <int1> or <int2>.\n",
    "    \"\"\"\n",
    "    # Split password into elements\n",
    "    elems = pwd.strip().split()\n",
    "    \n",
    "    # Create and return PassPolicy object\n",
    "    minc, maxc = [int(_) for _ in elems[0].split(\"-\")]\n",
    "    char = elems[1][0]\n",
    "    passwd = elems[-1]\n",
    "    \n",
    "    return PassPolicy(minc, maxc, char, passwd)\n",
    "\n",
    "\n",
    "def check_policy_old(pwd):\n",
    "    \"\"\"Return True if PassPolicy passes old policy\"\"\"\n",
    "    # Check password\n",
    "    count = pwd.passwd.count(pwd.char)\n",
    "    if count < pwd.minc:\n",
    "        return False\n",
    "    if count > pwd.maxc:\n",
    "        return False\n",
    "    \n",
    "    return True\n",
    "\n",
    "\n",
    "def check_policy_new(pwd):\n",
    "    \"\"\"Return True if PassPolicy passes new policy\"\"\"\n",
    "    # Check password\n",
    "    if (pwd.passwd[pwd.minc-1] + pwd.passwd[pwd.maxc-1]).count(pwd.char) == 1:\n",
    "        return True\n",
    "    \n",
    "    return False\n",
    "\n",
    "\n",
    "def check_password_file(fpath, polcheck=check_policy_new):\n",
    "    \"\"\"Load password file and return count of valid/invalid passwords\n",
    "    \n",
    "    :param fpath:  path to password file\n",
    "    :param polcheck:  function returning True if password is valid, False otherwise\n",
    "    \n",
    "    By default the new policy check is used, but we can substitute\n",
    "    other policy check functions.\n",
    "    \"\"\"\n",
    "    valid, invalid = 0, 0\n",
    "    \n",
    "    with Path(fpath).open(\"r\") as ifh:\n",
    "        for line in ifh.readlines():\n",
    "            pwd = parse_password(line)\n",
    "            if polcheck(pwd):\n",
    "                valid += 1\n",
    "            else:\n",
    "                invalid += 1\n",
    "                \n",
    "    return (valid, invalid)"
   ]
  },
  {
   "cell_type": "markdown",
   "metadata": {},
   "source": [
    "Checking first with the new policy:"
   ]
  },
  {
   "cell_type": "code",
   "execution_count": 10,
   "metadata": {},
   "outputs": [
    {
     "data": {
      "text/plain": [
       "(1, 2)"
      ]
     },
     "execution_count": 10,
     "metadata": {},
     "output_type": "execute_result"
    }
   ],
   "source": [
    "check_password_file(\"day02_test.txt\")"
   ]
  },
  {
   "cell_type": "code",
   "execution_count": 11,
   "metadata": {},
   "outputs": [
    {
     "data": {
      "text/plain": [
       "(616, 384)"
      ]
     },
     "execution_count": 11,
     "metadata": {},
     "output_type": "execute_result"
    }
   ],
   "source": [
    "check_password_file(\"day02_data.txt\")"
   ]
  },
  {
   "cell_type": "markdown",
   "metadata": {},
   "source": [
    "Now trying the old policy:"
   ]
  },
  {
   "cell_type": "code",
   "execution_count": 12,
   "metadata": {},
   "outputs": [
    {
     "data": {
      "text/plain": [
       "(2, 1)"
      ]
     },
     "execution_count": 12,
     "metadata": {},
     "output_type": "execute_result"
    }
   ],
   "source": [
    "check_password_file(\"day02_test.txt\", check_policy_old)"
   ]
  },
  {
   "cell_type": "code",
   "execution_count": 13,
   "metadata": {},
   "outputs": [
    {
     "data": {
      "text/plain": [
       "(418, 582)"
      ]
     },
     "execution_count": 13,
     "metadata": {},
     "output_type": "execute_result"
    }
   ],
   "source": [
    "check_password_file(\"day02_data.txt\", check_policy_old)"
   ]
  },
  {
   "cell_type": "code",
   "execution_count": null,
   "metadata": {},
   "outputs": [],
   "source": []
  }
 ],
 "metadata": {
  "kernelspec": {
   "display_name": "Python 3",
   "language": "python",
   "name": "python3"
  },
  "language_info": {
   "codemirror_mode": {
    "name": "ipython",
    "version": 3
   },
   "file_extension": ".py",
   "mimetype": "text/x-python",
   "name": "python",
   "nbconvert_exporter": "python",
   "pygments_lexer": "ipython3",
   "version": "3.8.6"
  }
 },
 "nbformat": 4,
 "nbformat_minor": 4
}
